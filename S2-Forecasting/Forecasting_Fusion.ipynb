{
 "cells": [
  {
   "cell_type": "code",
   "execution_count": 1,
   "id": "288fb7d4",
   "metadata": {},
   "outputs": [],
   "source": [
    "import pandas as pd\n",
    "import matplotlib.pyplot as plt\n",
    "import seaborn as sns\n",
    "import matplotlib.dates as mdates\n",
    "import eurostat\n",
    "import numpy as np\n",
    "from tqdm import tqdm\n",
    "from pmdarima.arima import auto_arima\n",
    "import warnings\n",
    "import pickle\n",
    "import xgboost as xgb\n",
    "from sklearn.metrics  import mean_squared_error as mse_score\n",
    "\n",
    "import statsmodels.api as sm\n",
    "from statsmodels.graphics.tsaplots import plot_predict\n",
    "from statsmodels.tsa.stattools import adfuller\n",
    "from statsmodels.tsa.seasonal import seasonal_decompose\n",
    "from statsmodels.tsa.arima.model import ARIMA\n",
    "from pandas.plotting import register_matplotlib_converters\n",
    "register_matplotlib_converters()\n",
    "\n",
    "from statsmodels.tsa.statespace.sarimax import SARIMAX\n",
    "\n",
    "\n",
    "from statsmodels.tsa.holtwinters import SimpleExpSmoothing, Holt\n",
    "\n",
    "from sklearn.model_selection import GridSearchCV\n",
    "from math import sqrt\n",
    "from multiprocessing import cpu_count\n",
    "from joblib import Parallel\n",
    "from joblib import delayed\n",
    "from warnings import catch_warnings\n",
    "from warnings import filterwarnings\n",
    "from statsmodels.tsa.statespace.sarimax import SARIMAX\n",
    "from sklearn.metrics import mean_absolute_percentage_error as mape_score\n",
    "from sklearn.metrics import r2_score\n",
    "from joblib import Parallel\n",
    "from joblib import delayed\n",
    "from os import cpu_count\n",
    "\n",
    "from sklearn.preprocessing import MinMaxScaler\n",
    "from tensorflow import keras\n",
    "from tensorflow.keras.layers import Bidirectional, Dropout, Activation, Dense, LSTM, InputLayer\n",
    "from tensorflow.compat.v1.keras.layers import CuDNNLSTM\n",
    "from tensorflow.keras.models import Sequential\n",
    "from tensorflow.keras.callbacks import ModelCheckpoint\n",
    "from tensorflow.keras.losses import MeanSquaredError\n",
    "from tensorflow.keras.metrics import MeanAbsolutePercentageError\n",
    "from tensorflow.keras.optimizers import Adam\n",
    "\n",
    "# Interactive widgets\n",
    "import ipywidgets as widgets\n",
    "from ipywidgets import interact, interact_manual\n",
    "\n",
    "# Show all outputs\n",
    "from IPython.core.interactiveshell import InteractiveShell\n",
    "InteractiveShell.ast_node_interactivity = \"last_expr\" # change to all, to show all"
   ]
  },
  {
   "cell_type": "code",
   "execution_count": 107,
   "id": "25e885f5",
   "metadata": {},
   "outputs": [],
   "source": [
    "with open('tsfinal.pickle', 'rb') as f:\n",
    "    tsfinal = pickle.load(f)\n",
    "tsprod= tsfinal[\"prod\"]\n",
    "tsfeed= tsfinal[\"feed\"]\n",
    "tscrops= tsfinal[\"crops\"]\n"
   ]
  },
  {
   "cell_type": "code",
   "execution_count": 121,
   "id": "9ec28949",
   "metadata": {},
   "outputs": [
    {
     "data": {
      "text/plain": [
       "18    167.804788\n",
       "19    155.863760\n",
       "20    152.088374\n",
       "21    150.894714\n",
       "22    150.517315\n",
       "23    150.397993\n",
       "24    150.360267\n",
       "25    150.348339\n",
       "26    150.344568\n",
       "27    150.343376\n",
       "28    150.342999\n",
       "29    150.342879\n",
       "30    150.342842\n",
       "31    150.342830\n",
       "32    150.342826\n",
       "33    150.342825\n",
       "34    150.342824\n",
       "35    150.342824\n",
       "Name: predicted_mean, dtype: float64"
      ]
     },
     "execution_count": 121,
     "metadata": {},
     "output_type": "execute_result"
    }
   ],
   "source": [
    "with open('arima_forecast_crops.pickle', 'rb') as f:\n",
    "    forecast_crops = pickle.load(f)\n",
    "forecast_crops[\"Beet\"][\"FR\"][\"Forecast\"]"
   ]
  },
  {
   "cell_type": "markdown",
   "id": "7b1734d2",
   "metadata": {},
   "source": [
    "# Feedstock Prices\n"
   ]
  },
  {
   "cell_type": "code",
   "execution_count": 108,
   "id": "fc1a0a47",
   "metadata": {},
   "outputs": [
    {
     "data": {
      "text/plain": [
       "dict_keys(['Maize', 'Wheat', 'Beet'])"
      ]
     },
     "execution_count": 108,
     "metadata": {},
     "output_type": "execute_result"
    }
   ],
   "source": [
    "with open('arima_forecast_feed.pickle', 'rb') as f:\n",
    "    feed_arima = pickle.load(f)\n",
    "\n",
    "feed_arima.keys()"
   ]
  },
  {
   "cell_type": "code",
   "execution_count": 109,
   "id": "b9f2885a",
   "metadata": {},
   "outputs": [
    {
     "data": {
      "text/plain": [
       "dict_keys(['Maize', 'Wheat', 'Beet'])"
      ]
     },
     "execution_count": 109,
     "metadata": {},
     "output_type": "execute_result"
    }
   ],
   "source": [
    "with open('arima_forecast_feed.pickle', 'rb') as f:\n",
    "    feed_arima = pickle.load(f)\n",
    "\n",
    "feed_arima.keys()\n",
    "\n",
    "with open('lstm_forecast_feed.pickle', 'rb') as f:\n",
    "    feed_lstm = pickle.load(f)\n",
    "\n",
    "feed_lstm.keys()"
   ]
  },
  {
   "cell_type": "code",
   "execution_count": 110,
   "id": "61dc6da8",
   "metadata": {},
   "outputs": [
    {
     "data": {
      "text/plain": [
       "413"
      ]
     },
     "execution_count": 110,
     "metadata": {},
     "output_type": "execute_result"
    }
   ],
   "source": [
    "len(feed_lstm[\"Maize\"][\"BE\"][\"test\"]) + len(feed_lstm[\"Maize\"][\"BE\"][\"train\"])"
   ]
  },
  {
   "cell_type": "code",
   "execution_count": 111,
   "id": "ec807d0f",
   "metadata": {},
   "outputs": [
    {
     "data": {
      "text/plain": [
       "425"
      ]
     },
     "execution_count": 111,
     "metadata": {},
     "output_type": "execute_result"
    }
   ],
   "source": [
    "len(tsfeed[\"Maize\"][\"BE\"].Price)"
   ]
  },
  {
   "cell_type": "code",
   "execution_count": 112,
   "id": "300dc239",
   "metadata": {},
   "outputs": [
    {
     "data": {
      "text/plain": [
       "TIME_PERIOD\n",
       "1988-01-01    157.741949\n",
       "1988-02-01    162.184176\n",
       "1988-03-01    158.356818\n",
       "1988-04-01    155.518185\n",
       "1988-05-01    173.189180\n",
       "                 ...    \n",
       "2023-01-01    273.821394\n",
       "2023-02-01    159.411978\n",
       "2023-03-01    154.392259\n",
       "2023-04-01    145.872458\n",
       "2023-05-01    140.494315\n",
       "Name: Price, Length: 425, dtype: float64"
      ]
     },
     "execution_count": 112,
     "metadata": {},
     "output_type": "execute_result"
    }
   ],
   "source": [
    "tsfeed[\"Maize\"][\"BE\"].Price"
   ]
  },
  {
   "cell_type": "code",
   "execution_count": 113,
   "id": "eab26342",
   "metadata": {},
   "outputs": [
    {
     "data": {
      "text/plain": [
       "2016-05-01    165.405227\n",
       "2016-06-01    166.967933\n",
       "2016-07-01    168.807740\n",
       "2016-08-01    169.225076\n",
       "2016-09-01    170.556791\n",
       "                 ...    \n",
       "2023-01-01    177.663371\n",
       "2023-02-01    178.795577\n",
       "2023-03-01    177.588962\n",
       "2023-04-01    178.369506\n",
       "2023-05-01    177.532506\n",
       "Freq: MS, Name: predicted_mean, Length: 85, dtype: float64"
      ]
     },
     "execution_count": 113,
     "metadata": {},
     "output_type": "execute_result"
    }
   ],
   "source": [
    "test = feed_arima[\"Maize\"][\"BE\"][\"Forecast\"]\n",
    "test_arima = test[test.index <= \"2023-05-01\"]\n",
    "test_arima"
   ]
  },
  {
   "cell_type": "code",
   "execution_count": 114,
   "id": "c1e0dff2",
   "metadata": {},
   "outputs": [
    {
     "data": {
      "text/plain": [
       "2016-05-01    160.947077\n",
       "2016-06-01    163.558273\n",
       "2016-07-01    166.257642\n",
       "2016-08-01    168.380681\n",
       "2016-09-01    170.763514\n",
       "                 ...    \n",
       "2023-01-01    246.121763\n",
       "2023-02-01    258.783487\n",
       "2023-03-01    262.582931\n",
       "2023-04-01    264.107248\n",
       "2023-05-01    254.355528\n",
       "Freq: MS, Name: Prediction, Length: 85, dtype: float64"
      ]
     },
     "execution_count": 114,
     "metadata": {},
     "output_type": "execute_result"
    }
   ],
   "source": [
    "test_lstm = feed_lstm[\"Maize\"][\"BE\"][\"predictions\"][len(feed_lstm[\"Maize\"][\"BE\"][\"train\"]):len(feed_lstm[\"Maize\"][\"BE\"][\"test\"]) + len(feed_lstm[\"Maize\"][\"BE\"][\"train\"])]\n",
    "test_lstm.index = test_arima.index\n",
    "test_lstm"
   ]
  },
  {
   "cell_type": "code",
   "execution_count": 115,
   "id": "c11275ad",
   "metadata": {},
   "outputs": [
    {
     "name": "stdout",
     "output_type": "stream",
     "text": [
      "28.78\n",
      "2016-05-01    163.213908\n",
      "2016-06-01    165.291980\n",
      "2016-07-01    167.554288\n",
      "2016-08-01    168.810030\n",
      "2016-09-01    170.658402\n",
      "                 ...    \n",
      "2023-01-01    211.312797\n",
      "2023-02-01    218.112119\n",
      "2023-03-01    219.366137\n",
      "2023-04-01    220.512269\n",
      "2023-05-01    215.293407\n",
      "Freq: MS, Length: 85, dtype: float64\n"
     ]
    }
   ],
   "source": [
    "\n",
    "mape_arima = feed_arima[\"Maize\"][\"BE\"][\"MAPE\"]\n",
    "mape_lstm = feed_lstm[\"Maize\"][\"BE\"][\"test_mape\"]\n",
    "sum_factors = (1/mape_arima)+ (1/mape_lstm)\n",
    "weight_arima = (1/mape_arima) / sum_factors\n",
    "weight_lstm = (1/mape_lstm) / sum_factors\n",
    "\n",
    "fusion = test_arima * weight_arima + test_lstm * weight_lstm\n",
    "fusion_mape = round(mape_score(feed_lstm[\"Maize\"][\"BE\"][\"test\"].values, fusion.values) *100, 2)\n",
    "print(fusion_mape)\n",
    "print(fusion)"
   ]
  },
  {
   "cell_type": "code",
   "execution_count": 116,
   "id": "db4f21df",
   "metadata": {},
   "outputs": [
    {
     "data": {
      "text/plain": [
       "54"
      ]
     },
     "execution_count": 116,
     "metadata": {},
     "output_type": "execute_result"
    }
   ],
   "source": [
    "ts = tsfeed[\"Maize\"][\"ES\"].Price\n",
    "len(ts[ts.index < \"1998\"] - 12)"
   ]
  },
  {
   "cell_type": "code",
   "execution_count": 117,
   "id": "9c7ef3b2",
   "metadata": {},
   "outputs": [
    {
     "data": {
      "text/plain": [
       "{('Maize', 'BE'): (28.78, (0.51, 0.49), (29.6, 30.62)),\n",
       " ('Maize', 'ES'): (40.62, (0.36, 0.64), (70.94, 40.67)),\n",
       " ('Maize', 'FR'): (107.77, (0.29, 0.71), (192.79, 77.9)),\n",
       " ('Wheat', 'BE'): (10.98, (0.46, 0.54), (12.65, 10.8)),\n",
       " ('Wheat', 'ES'): (15.97, (0.58, 0.42), (16.58, 23.37)),\n",
       " ('Wheat', 'FR'): (17.98, (0.58, 0.42), (16.65, 22.56)),\n",
       " ('Beet', 'BE'): (30.46, (0.66, 0.34), (24.43, 47.41)),\n",
       " ('Beet', 'ES'): (243.77, (0.47, 0.53), (212.27, 189.21)),\n",
       " ('Beet', 'FR'): (19.61, (0.47, 0.53), (21.91, 19.35))}"
      ]
     },
     "execution_count": 117,
     "metadata": {},
     "output_type": "execute_result"
    }
   ],
   "source": [
    "fusion_feed = {}\n",
    "fusion_results = {}\n",
    "for p in tsfeed.keys():\n",
    "    fusion_results[p]={}\n",
    "    for geo in tsfeed[p].keys():\n",
    "        test = feed_arima[p][geo][\"Forecast\"]\n",
    "        test_arima = test[test.index <= \"2023-05-01\"]\n",
    "        forecast_arima = feed_arima[p][geo][\"Forecast\"][feed_arima[p][geo][\"Forecast\"].index > \"2023-05-01\"]\n",
    "        forecast_lstm = feed_lstm[p][geo][\"forecast\"][:len(forecast_arima)]\n",
    "        forecast_lstm.index = forecast_arima.index\n",
    "        if p == \"Maize\" and geo == \"ES\":\n",
    "            test_lstm = feed_lstm[p][geo][\"predictions\"][len(feed_lstm[p][geo][\"train\"])-1:len(feed_lstm[p][geo][\"test\"]) + len(feed_lstm[p][geo][\"train\"])]\n",
    "        elif p == \"Beet\" and geo == \"ES\":\n",
    "            test_lstm = feed_lstm[p][geo][\"predictions\"][len(feed_lstm[p][geo][\"train\"])-20:len(feed_lstm[p][geo][\"test\"]) + len(feed_lstm[p][geo][\"train\"])]\n",
    "        else:\n",
    "            test_lstm = feed_lstm[p][geo][\"predictions\"][len(feed_lstm[p][geo][\"train\"]):len(feed_lstm[p][geo][\"test\"]) + len(feed_lstm[p][geo][\"train\"])]\n",
    "        test_lstm.index = test_arima.index\n",
    "        mape_arima = feed_arima[p][geo][\"MAPE\"]\n",
    "        mape_lstm = feed_lstm[p][geo][\"test_mape\"]\n",
    "        sum_factors = (1/mape_arima)+ (1/mape_lstm)\n",
    "        weight_arima = (1/mape_arima) / sum_factors\n",
    "        weight_lstm = (1/mape_lstm) / sum_factors\n",
    "\n",
    "        fusion = test_arima * weight_arima + test_lstm * weight_lstm\n",
    "\n",
    "        forecast = forecast_arima * weight_arima + forecast_lstm * weight_lstm\n",
    "        fusion_results[p][geo] = forecast\n",
    "        if p == \"Maize\" and geo == \"ES\":\n",
    "            fusion_mape = round(mape_score(feed_lstm[p][geo][\"test\"].values, fusion.values[1:]) *100, 2)\n",
    "        elif p == \"Beet\" and geo == \"ES\":\n",
    "            fusion_mape = round(mape_score(list(feed_lstm[p][geo][\"train\"].values[-19:]) + (list(feed_lstm[p][geo][\"test\"].values)), fusion.values[1:]) *100, 2) \n",
    "        else:\n",
    "            fusion_mape = round(mape_score(feed_lstm[p][geo][\"test\"].values, fusion.values) *100, 2) \n",
    "        fusion_feed[(p, geo)] = fusion_mape, (round(weight_arima, 2), round(weight_lstm, 2)), (mape_arima, mape_lstm)\n",
    "fusion_feed"
   ]
  },
  {
   "cell_type": "code",
   "execution_count": 155,
   "id": "2292c753",
   "metadata": {},
   "outputs": [
    {
     "data": {
      "text/plain": [
       "18    167.804788\n",
       "19    155.863760\n",
       "20    152.088374\n",
       "21    150.894714\n",
       "22    150.517315\n",
       "23    150.397993\n",
       "24    150.360267\n",
       "25    150.348339\n",
       "26    150.344568\n",
       "27    150.343376\n",
       "28    150.342999\n",
       "29    150.342879\n",
       "30    150.342842\n",
       "31    150.342830\n",
       "32    150.342826\n",
       "33    150.342825\n",
       "34    150.342824\n",
       "35    150.342824\n",
       "Name: predicted_mean, dtype: float64"
      ]
     },
     "execution_count": 155,
     "metadata": {},
     "output_type": "execute_result"
    }
   ],
   "source": [
    "forecast_crops[\"Beet\"][\"FR\"][\"Forecast\"]"
   ]
  },
  {
   "cell_type": "code",
   "execution_count": 163,
   "id": "eb2f7bfe",
   "metadata": {},
   "outputs": [
    {
     "data": {
      "text/plain": [
       "2024-01-01    261.966407\n",
       "2024-02-01    259.440878\n",
       "2024-03-01    260.976660\n",
       "2024-04-01    258.342779\n",
       "2024-05-01    255.227361\n",
       "                 ...    \n",
       "2033-08-01    142.337920\n",
       "2033-09-01    142.218417\n",
       "2033-10-01    142.103618\n",
       "2033-11-01    141.993331\n",
       "2033-12-01    141.887366\n",
       "Freq: MS, Length: 120, dtype: float64"
      ]
     },
     "execution_count": 163,
     "metadata": {},
     "output_type": "execute_result"
    }
   ],
   "source": [
    "ts_ftons = {}\n",
    "ts_fprice = {}\n",
    "for p in fusion_results.keys():\n",
    "    ts_ftons[p] = {}\n",
    "    ts_fprice[p] = {}\n",
    "    for geo in fusion_results[p].keys():\n",
    "        #price\n",
    "        ts = fusion_results[p][geo]\n",
    "        ts = ts[(ts.index >= \"2024\") & (ts.index < \"2034\")]\n",
    "        ts_fprice[p][geo] = ts.copy()\n",
    "\n",
    "\n",
    "        #qty\n",
    "        qty = ts.copy()\n",
    "        qty = pd.DataFrame(qty)\n",
    "        qty[\"year\"] = qty.index.year.astype(int) - 2000\n",
    "        qty = qty.rename(columns ={0:\"Value\"})\n",
    "        #f = pd.DataFrame(forecast_crops[p][geo][\"Forecast\"])\n",
    "        df = pd.DataFrame(qty)\n",
    "        tt = df['year'].map(forecast_crops[p][geo][\"Forecast\"])\n",
    "        tt = tt/ 12 * 10**6\n",
    "        ts_ftons[p][geo] = tt.copy()\n",
    "        # price\n",
    "\n",
    "with open('fusion_forecast_feed_price.pickle', 'wb') as f:\n",
    "    pickle.dump(ts_fprice, f)\n",
    "with open('fusion_forecast_feed_tons.pickle', 'wb') as f:\n",
    "    pickle.dump(ts_ftons, f)\n",
    "with open('fusion_forecast_feed_price.pickle', 'rb') as f:\n",
    "    ts_ftons = pickle.load(f)\n",
    "ts_ftons[\"Beet\"][\"FR\"]"
   ]
  },
  {
   "cell_type": "code",
   "execution_count": null,
   "id": "a29226e9",
   "metadata": {},
   "outputs": [],
   "source": [
    "with open('fusion_forecast_feed_price.pickle', 'rb') as f:\n",
    "    fp = pickle.load(f)\n",
    "with open('fusion_forecast_feed_tons.pickle', 'rb') as f:\n",
    "    ft = pickle.load(f)\n",
    "with open('fusion_forecast_prod_price.pickle', 'rb') as f:\n",
    "    pp = pickle.load(f)\n",
    "with open('fusion_forecast_prod_tons.pickle', 'rb') as f:\n",
    "    pt = pickle.load(f)"
   ]
  },
  {
   "cell_type": "markdown",
   "id": "b2a9deaf",
   "metadata": {},
   "source": [
    "# Product Prices and Quantities"
   ]
  },
  {
   "cell_type": "code",
   "execution_count": 7,
   "id": "c33b2f6f",
   "metadata": {},
   "outputs": [
    {
     "data": {
      "text/plain": [
       "dict_keys(['LA', 'Ethanol', 'SA'])"
      ]
     },
     "execution_count": 7,
     "metadata": {},
     "output_type": "execute_result"
    }
   ],
   "source": [
    "with open('arima_forecast_prod_price.pickle', 'rb') as f:\n",
    "    prod_arima = pickle.load(f)\n",
    "\n",
    "with open('lstm_results_prods_price.pickle', 'rb') as f:\n",
    "    prod_lstm = pickle.load(f)\n",
    "\n",
    "prod_lstm.keys()"
   ]
  },
  {
   "cell_type": "code",
   "execution_count": 8,
   "id": "28786087",
   "metadata": {},
   "outputs": [
    {
     "name": "stdout",
     "output_type": "stream",
     "text": [
      "dict_keys(['train', 'val', 'test', 'predictions', 'forecast', 'train_mape', 'val_mape', 'test_mape'])\n",
      "dict_keys(['Forecast', 'MAPE'])\n"
     ]
    },
    {
     "data": {
      "text/plain": [
       "TIME_PERIOD\n",
       "1988-01-01    65.9\n",
       "1988-02-01    79.6\n",
       "1988-03-01    61.8\n",
       "1988-04-01    49.2\n",
       "1988-05-01    99.2\n",
       "Name: Tons, dtype: float64"
      ]
     },
     "execution_count": 8,
     "metadata": {},
     "output_type": "execute_result"
    }
   ],
   "source": [
    "p = \"LA\"\n",
    "geo =\"BE\"\n",
    "\n",
    "print(prod_lstm[p][geo].keys())\n",
    "print(prod_arima[p][geo].keys())\n",
    "tsprod[p][geo].Tons.head()"
   ]
  },
  {
   "cell_type": "code",
   "execution_count": 9,
   "id": "d5cbd284",
   "metadata": {},
   "outputs": [
    {
     "data": {
      "text/plain": [
       "0      1444.029680\n",
       "1      1339.899371\n",
       "2      1657.182911\n",
       "3      1534.312500\n",
       "4      1567.954802\n",
       "          ...     \n",
       "408    2158.146055\n",
       "409    2126.812785\n",
       "410    1928.465241\n",
       "411    1894.565260\n",
       "412    2027.749651\n",
       "Name: Actuals, Length: 413, dtype: float64"
      ]
     },
     "execution_count": 9,
     "metadata": {},
     "output_type": "execute_result"
    }
   ],
   "source": [
    "pd.concat((prod_lstm[p][geo][\"train\"], prod_lstm[p][geo][\"test\"]))"
   ]
  },
  {
   "cell_type": "code",
   "execution_count": 10,
   "id": "cd20cfaf",
   "metadata": {},
   "outputs": [
    {
     "data": {
      "text/plain": [
       "0      1462.983169\n",
       "1      1432.394892\n",
       "2      1453.371506\n",
       "3      1466.556325\n",
       "4      1466.586364\n",
       "          ...     \n",
       "408    1717.992905\n",
       "409    1757.917896\n",
       "410    1799.521910\n",
       "411    1829.993201\n",
       "412    1846.132558\n",
       "Name: Prediction, Length: 413, dtype: float64"
      ]
     },
     "execution_count": 10,
     "metadata": {},
     "output_type": "execute_result"
    }
   ],
   "source": [
    "prod_lstm[p][geo][\"predictions\"]"
   ]
  },
  {
   "cell_type": "code",
   "execution_count": 11,
   "id": "45e75333",
   "metadata": {},
   "outputs": [
    {
     "data": {
      "text/plain": [
       "328    1149.015221\n",
       "329    1231.584633\n",
       "330    1273.254976\n",
       "331    1177.251426\n",
       "332    1260.828071\n",
       "          ...     \n",
       "408    2158.146055\n",
       "409    2126.812785\n",
       "410    1928.465241\n",
       "411    1894.565260\n",
       "412    2027.749651\n",
       "Name: Actuals, Length: 85, dtype: float64"
      ]
     },
     "execution_count": 11,
     "metadata": {},
     "output_type": "execute_result"
    }
   ],
   "source": [
    "prod_lstm[p][geo][\"test\"]"
   ]
  },
  {
   "cell_type": "code",
   "execution_count": 105,
   "id": "281549ea",
   "metadata": {},
   "outputs": [
    {
     "name": "stdout",
     "output_type": "stream",
     "text": [
      "('LA', 'BE') | Fusion MAPE: 12.67% (14.4, 11.59), Forecast: (130, 130), Test: (85, 85, 85)\n",
      "('LA', 'DE') | Fusion MAPE: 9.56% (11.97, 8.15), Forecast: (130, 130), Test: (85, 85, 85)\n",
      "('LA', 'NL') | Fusion MAPE: 15.02% (15.65, 25.57), Forecast: (130, 130), Test: (85, 85, 85)\n",
      "('Ethanol', 'DE') | Fusion MAPE: 9.85% (13.05, 10.78), Forecast: (130, 130), Test: (85, 85, 85)\n",
      "('Ethanol', 'FR') | Fusion MAPE: 15.32% (16.58, 17.0), Forecast: (130, 130), Test: (85, 85, 85)\n",
      "('Ethanol', 'NL') | Fusion MAPE: 18.92% (16.1, 26.27), Forecast: (130, 130), Test: (85, 85, 85)\n",
      "('SA', 'DE') | Fusion MAPE: 15.33% (13.67, 10.98), Forecast: (130, 130), Test: (85, 85, 85)\n",
      "('SA', 'IT') | Fusion MAPE: 18.39% (16.21, 14.52), Forecast: (130, 130), Test: (85, 85, 85)\n",
      "('SA', 'NL') | Fusion MAPE: 16.82% (17.65, 13.08), Forecast: (130, 130), Test: (85, 85, 85)\n"
     ]
    }
   ],
   "source": [
    "with open('arima_forecast_prod_price.pickle', 'rb') as f:\n",
    "    prod_arima = pickle.load(f)\n",
    "\n",
    "with open('lstm_results_prods_price.pickle', 'rb') as f:\n",
    "    prod_lstm = pickle.load(f)\n",
    "\n",
    "field = \"Price\"\n",
    "\n",
    "fusion_forecast_price = {}\n",
    "fusion_test_price = {}\n",
    "\n",
    "k = {}\n",
    "for p in prod_lstm.keys():\n",
    "    fusion_forecast_price[p] = {}\n",
    "    fusion_test_price[p] = {}\n",
    "    for geo in prod_lstm[p].keys():\n",
    "        original = tsprod[p][geo][field]\n",
    "\n",
    "        arima = prod_arima[p][geo][\"Forecast\"]\n",
    "\n",
    "\n",
    "        forecast_arima = arima[arima.index > \"2023-05-01\"]\n",
    "        forecast_lstm = prod_lstm[p][geo][\"forecast\"][:len(forecast_arima)]\n",
    "        forecast_lstm.index = forecast_arima.index\n",
    "\n",
    "        test_arima = arima[arima.index <= \"2023-05-01\"]\n",
    "        test_original = original[-len(test_arima):]\n",
    "        test_lstm = prod_lstm[p][geo][\"predictions\"][-len(test_arima):]\n",
    "        test_lstm.index = test_arima.index\n",
    "\n",
    "\n",
    "\n",
    "\n",
    "        mape_arima = prod_arima[p][geo][\"MAPE\"]\n",
    "        mape_lstm = prod_lstm[p][geo][\"test_mape\"]\n",
    "        sum_factors = (1/mape_arima)+ (1/mape_lstm)\n",
    "        weight_arima = (1/mape_arima) / sum_factors\n",
    "        weight_lstm = (1/mape_lstm) / sum_factors\n",
    "\n",
    "        test_fusion = test_arima * weight_arima + test_lstm * weight_lstm\n",
    "        forecast_fusion = forecast_arima * weight_arima + forecast_lstm * weight_lstm\n",
    "\n",
    "        fusion_forecast_price[p][geo] = forecast_fusion\n",
    "        fusion_test_price[p][geo] = test_fusion\n",
    "\n",
    "        mape_fusion = round(mape_score(test_original.values, test_fusion.values) *100, 2) \n",
    "        print(f\"{p, geo} | Fusion MAPE: {mape_fusion}% {(mape_arima, mape_lstm)}, Forecast: {len(forecast_arima), len(forecast_lstm)}, Test: {len(test_arima), len(test_lstm), len(test_original)}\")\n",
    "\n",
    "        k[f\"{p}-{geo}\"] = 0\n"
   ]
  },
  {
   "cell_type": "code",
   "execution_count": null,
   "id": "9f54401b",
   "metadata": {},
   "outputs": [],
   "source": []
  },
  {
   "cell_type": "code",
   "execution_count": 87,
   "id": "858f87ec",
   "metadata": {},
   "outputs": [
    {
     "data": {
      "application/vnd.jupyter.widget-view+json": {
       "model_id": "f376c7e3e8d744dfac5c91247039a30c",
       "version_major": 2,
       "version_minor": 0
      },
      "text/plain": [
       "interactive(children=(Dropdown(description='Dataset', options=('LA-BE', 'LA-DE', 'LA-NL', 'Ethanol-DE', 'Ethan…"
      ]
     },
     "metadata": {},
     "output_type": "display_data"
    }
   ],
   "source": [
    "@interact\n",
    "def fusion_plot(Dataset = list(k.keys())):\n",
    "    p = Dataset.split(\"-\")[0]\n",
    "    geo = Dataset.split(\"-\")[1]\n",
    "    field = \"Price\"\n",
    "\n",
    "    original = tsprod[p][geo][field]\n",
    "\n",
    "    arima = prod_arima[p][geo][\"Forecast\"]\n",
    "\n",
    "    forecast_arima = arima[arima.index > \"2023-05-01\"]\n",
    "    forecast_lstm = prod_lstm[p][geo][\"forecast\"][:len(forecast_arima)]\n",
    "    forecast_lstm.index = forecast_arima.index\n",
    "\n",
    "    test_arima = arima[arima.index <= \"2023-05-01\"]\n",
    "    test_original = original[-len(test_arima):]\n",
    "    test_lstm = prod_lstm[p][geo][\"predictions\"][-len(test_arima):]\n",
    "    test_lstm.index = test_arima.index\n",
    "\n",
    "    mape_arima = prod_arima[p][geo][\"MAPE\"]\n",
    "    mape_lstm = prod_lstm[p][geo][\"test_mape\"]\n",
    "    sum_factors = (1/mape_arima)+ (1/mape_lstm)\n",
    "    weight_arima = (1/mape_arima) / sum_factors\n",
    "    weight_lstm = (1/mape_lstm) / sum_factors\n",
    "\n",
    "    test_fusion = test_arima * weight_arima + test_lstm * weight_lstm\n",
    "    forecast_fusion = forecast_arima * weight_arima + forecast_lstm * weight_lstm\n",
    "\n",
    "    fusion_forecast_price[p][geo] = forecast_fusion\n",
    "    fusion_test_price[p][geo] = test_fusion\n",
    "\n",
    "    mape_fusion = round(mape_score(test_original.values, test_fusion.values) *100, 2) \n",
    "\n",
    "    lstm = pd.concat([test_lstm, forecast_lstm]) \n",
    "    fusion = pd.concat([test_fusion, forecast_fusion]) \n",
    "\n",
    "\n",
    "    fig, ax = plt.subplots(figsize = (12, 6))\n",
    "    ax.plot(original, label = \"Historical\")\n",
    "    ax.plot(fusion, label = f\"Fusion ({mape_fusion}%)\")\n",
    "    ax.plot(arima, label = f\"Arima ({mape_arima}%)\")\n",
    "    ax.plot(lstm, label = f\"LSTM ({mape_lstm}%)\")\n",
    "\n",
    "    plt.legend()\n",
    "    plt.title(f\"Forecast Comparison: Price of {p} in {geo} (€/ton)\")\n",
    "    plt.show()"
   ]
  },
  {
   "cell_type": "code",
   "execution_count": 13,
   "id": "19894713",
   "metadata": {},
   "outputs": [
    {
     "data": {
      "text/plain": [
       "2023-06-01    1557.885244\n",
       "2023-07-01    1555.201221\n",
       "2023-08-01    1548.787059\n",
       "2023-09-01    1542.024256\n",
       "2023-10-01    1532.775988\n",
       "                 ...     \n",
       "2033-11-01    1268.672153\n",
       "2033-12-01    1272.419426\n",
       "2034-01-01    1273.262318\n",
       "2034-02-01    1274.225762\n",
       "2034-03-01    1274.663931\n",
       "Freq: MS, Length: 130, dtype: float64"
      ]
     },
     "execution_count": 13,
     "metadata": {},
     "output_type": "execute_result"
    }
   ],
   "source": [
    "fusion_forecast_price['LA']['BE']"
   ]
  },
  {
   "cell_type": "code",
   "execution_count": 157,
   "id": "ebbcaa41",
   "metadata": {},
   "outputs": [
    {
     "name": "stdout",
     "output_type": "stream",
     "text": [
      "('LA', 'BE') | Fusion MAPE: 16.07% (17.43, 15.54), Forecast: (130, 130), Test: (85, 85, 85)\n",
      "('LA', 'DE') | Fusion MAPE: 9.17% (8.87, 10.41), Forecast: (130, 130), Test: (85, 85, 85)\n",
      "('LA', 'NL') | Fusion MAPE: 39.0% (35.88, 46.61), Forecast: (130, 130), Test: (85, 85, 85)\n",
      "('Ethanol', 'DE') | Fusion MAPE: 11.59% (11.78, 17.79), Forecast: (130, 130), Test: (85, 85, 85)\n",
      "('Ethanol', 'FR') | Fusion MAPE: 31.02% (38.66, 22.06), Forecast: (130, 130), Test: (85, 85, 85)\n",
      "('Ethanol', 'NL') | Fusion MAPE: 17.05% (17.01, 17.48), Forecast: (130, 130), Test: (85, 85, 85)\n",
      "('SA', 'DE') | Fusion MAPE: 16.95% (18.45, 18.53), Forecast: (130, 130), Test: (85, 85, 85)\n",
      "('SA', 'IT') | Fusion MAPE: 26.82% (21.38, 11.43), Forecast: (130, 130), Test: (85, 85, 85)\n",
      "('SA', 'NL') | Fusion MAPE: 24.8% (34.28, 21.62), Forecast: (130, 130), Test: (85, 85, 85)\n"
     ]
    }
   ],
   "source": [
    "with open('arima_forecast_prod_qty.pickle', 'rb') as f:\n",
    "    prod_arima = pickle.load(f)\n",
    "\n",
    "with open('lstm_results_prods_tons.pickle', 'rb') as f:\n",
    "    prod_lstm = pickle.load(f)\n",
    "\n",
    "field = \"Tons\"\n",
    "\n",
    "fusion_forecast_tons = {}\n",
    "\n",
    "for p in prod_lstm.keys():\n",
    "    fusion_forecast_tons[p] = {}\n",
    "    for geo in prod_lstm[p].keys():\n",
    "        original = tsprod[p][geo][field]\n",
    "\n",
    "        arima = prod_arima[p][geo][\"Forecast\"]\n",
    "\n",
    "\n",
    "        forecast_arima = arima[arima.index > \"2023-05-01\"]\n",
    "        forecast_lstm = prod_lstm[p][geo][\"forecast\"][:len(forecast_arima)]\n",
    "        forecast_lstm.index = forecast_arima.index\n",
    "\n",
    "        test_arima = arima[arima.index <= \"2023-05-01\"]\n",
    "        test_original = original[-len(test_arima):]\n",
    "        test_lstm = prod_lstm[p][geo][\"predictions\"][-len(test_arima):]\n",
    "        test_lstm.index = test_arima.index\n",
    "\n",
    "        mape_arima = prod_arima[p][geo][\"MAPE\"]\n",
    "        mape_lstm = prod_lstm[p][geo][\"test_mape\"]\n",
    "        sum_factors = (1/mape_arima)+ (1/mape_lstm)\n",
    "        weight_arima = (1/mape_arima) / sum_factors\n",
    "        weight_lstm = (1/mape_lstm) / sum_factors\n",
    "\n",
    "        test_fusion = test_arima * weight_arima + test_lstm * weight_lstm\n",
    "        forecast_fusion = forecast_arima * weight_arima + forecast_lstm * weight_lstm\n",
    "        \n",
    "        fusion_forecast_tons[p][geo] = forecast_fusion\n",
    "\n",
    "        mape_fusion = round(mape_score(test_original.values, test_fusion.values) *100, 2) \n",
    "        print(f\"{p, geo} | Fusion MAPE: {mape_fusion}% {(mape_arima, mape_lstm)}, Forecast: {len(forecast_arima), len(forecast_lstm)}, Test: {len(test_arima), len(test_lstm), len(test_original)}\")\n"
   ]
  },
  {
   "cell_type": "code",
   "execution_count": 97,
   "id": "35267452",
   "metadata": {},
   "outputs": [
    {
     "data": {
      "application/vnd.jupyter.widget-view+json": {
       "model_id": "84be0d4747774327938a7416f19073b1",
       "version_major": 2,
       "version_minor": 0
      },
      "text/plain": [
       "interactive(children=(Dropdown(description='Dataset', options=('LA-BE', 'LA-DE', 'LA-NL', 'Ethanol-DE', 'Ethan…"
      ]
     },
     "metadata": {},
     "output_type": "display_data"
    }
   ],
   "source": [
    "@interact\n",
    "def fusion_plot(Dataset = list(k.keys())):\n",
    "    p = Dataset.split(\"-\")[0]\n",
    "    geo = Dataset.split(\"-\")[1]\n",
    "    field = \"Tons\"\n",
    "\n",
    "    original = tsprod[p][geo][field]\n",
    "\n",
    "    arima = prod_arima[p][geo][\"Forecast\"]\n",
    "\n",
    "    forecast_arima = arima[arima.index > \"2023-05-01\"]\n",
    "    forecast_lstm = prod_lstm[p][geo][\"forecast\"][:len(forecast_arima)]\n",
    "    forecast_lstm.index = forecast_arima.index\n",
    "\n",
    "    test_arima = arima[arima.index <= \"2023-05-01\"]\n",
    "    test_original = original[-len(test_arima):]\n",
    "    test_lstm = prod_lstm[p][geo][\"predictions\"][-len(test_arima):]\n",
    "    test_lstm.index = test_arima.index\n",
    "\n",
    "    mape_arima = prod_arima[p][geo][\"MAPE\"]\n",
    "    mape_lstm = prod_lstm[p][geo][\"test_mape\"]\n",
    "    sum_factors = (1/mape_arima)+ (1/mape_lstm)\n",
    "    weight_arima = (1/mape_arima) / sum_factors\n",
    "    weight_lstm = (1/mape_lstm) / sum_factors\n",
    "\n",
    "    test_fusion = test_arima * weight_arima + test_lstm * weight_lstm\n",
    "    forecast_fusion = forecast_arima * weight_arima + forecast_lstm * weight_lstm\n",
    "\n",
    "    fusion_forecast_price[p][geo] = forecast_fusion\n",
    "    fusion_test_price[p][geo] = test_fusion\n",
    "\n",
    "    mape_fusion = round(mape_score(test_original.values, test_fusion.values) *100, 2) \n",
    "\n",
    "    lstm = pd.concat([test_lstm, forecast_lstm]) \n",
    "    fusion = pd.concat([test_fusion, forecast_fusion]) \n",
    "\n",
    "\n",
    "    fig, ax = plt.subplots(figsize = (12, 6))\n",
    "    ax.plot(original, label = \"Historical\")\n",
    "    ax.plot(fusion, label = f\"Fusion ({mape_fusion}%)\")\n",
    "    ax.plot(arima, label = f\"Arima ({mape_arima}%)\")\n",
    "    ax.plot(lstm, label = f\"LSTM ({mape_lstm}%)\")\n",
    "\n",
    "    plt.legend()\n",
    "    plt.title(f\"Forecast Comparison: Qty of {p} in {geo} (tons)\")\n",
    "    plt.show()"
   ]
  },
  {
   "cell_type": "code",
   "execution_count": 96,
   "id": "7f1ad5a3",
   "metadata": {},
   "outputs": [],
   "source": [
    "tsprod[\"Ethanol\"][\"NL\"][\"Tons\"] = ts"
   ]
  },
  {
   "cell_type": "code",
   "execution_count": 16,
   "id": "5257a83c",
   "metadata": {},
   "outputs": [],
   "source": [
    "market = {}\n",
    "for p in prod_lstm.keys():\n",
    "    m_forecast = 0\n",
    "    m_history = 0\n",
    "    for geo in prod_lstm[p].keys():\n",
    "        m_history += tsprod[p][geo].Price *  tsprod[p][geo].Tons\n",
    "        m_forecast += fusion_forecast_price[p][geo] * fusion_forecast_tons[p][geo]\n",
    "    market[p] = pd.concat([m_history, m_forecast])"
   ]
  },
  {
   "cell_type": "code",
   "execution_count": 17,
   "id": "a18ae871",
   "metadata": {},
   "outputs": [
    {
     "data": {
      "text/plain": [
       "2.82"
      ]
     },
     "execution_count": 17,
     "metadata": {},
     "output_type": "execute_result"
    }
   ],
   "source": [
    "def CAGR(p, y1, y2):\n",
    "    ds = market[p].groupby(market[p].index.year).sum()\n",
    "    cagr = round(((ds[y2] / ds[y1])**(1/(y2-y1-1))-1) * 100, 2)\n",
    "    return cagr\n",
    "\n",
    "CAGR(\"LA\", 2023, 2030)\n"
   ]
  },
  {
   "cell_type": "code",
   "execution_count": 18,
   "id": "ed6d65fd",
   "metadata": {},
   "outputs": [
    {
     "data": {
      "text/plain": [
       "4.3"
      ]
     },
     "execution_count": 18,
     "metadata": {},
     "output_type": "execute_result"
    }
   ],
   "source": [
    "CAGR(\"Ethanol\", 2020, 2027)"
   ]
  },
  {
   "cell_type": "code",
   "execution_count": 19,
   "id": "f52fde0e",
   "metadata": {},
   "outputs": [
    {
     "data": {
      "text/plain": [
       "-0.79"
      ]
     },
     "execution_count": 19,
     "metadata": {},
     "output_type": "execute_result"
    }
   ],
   "source": [
    "CAGR(\"SA\", 2021, 2030)"
   ]
  },
  {
   "cell_type": "code",
   "execution_count": 49,
   "id": "7947a30c",
   "metadata": {},
   "outputs": [
    {
     "data": {
      "application/vnd.jupyter.widget-view+json": {
       "model_id": "ac602e02d56941d4bc0dd9102c572cdc",
       "version_major": 2,
       "version_minor": 0
      },
      "text/plain": [
       "interactive(children=(Dropdown(description='Product', options=('LA', 'Ethanol', 'SA'), value='LA'), Output()),…"
      ]
     },
     "metadata": {},
     "output_type": "display_data"
    }
   ],
   "source": [
    "@interact\n",
    "def plot_cagr(Product = list(market.keys())):\n",
    "\n",
    "    ds = market[Product].groupby(market[p].index.year).sum()\n",
    "    ds.index = ds.index.astype(int)\n",
    "    ds = ds[(ds.index >= 2015) & (ds.index < 2034)]\n",
    "    ds = ds/(10**6)\n",
    "    ds = ds.astype(int)\n",
    "    fig, ax = plt.subplots(figsize=(10, 6))\n",
    "    # All bars\n",
    "    ax.bar(ds.index, ds.values, color=\"#23708a\", label=\"Historic Values\")\n",
    "\n",
    "    # Bars from 2023 onwards (overwriting the previous bars where the condition is true)\n",
    "    ax.bar(ds[ds.index >= 2023].index, ds[ds.index >= 2023].values, color=\"#4f9f8d\", label=\"Forecast\")\n",
    "\n",
    "    # Adding labels and title (optional)\n",
    "    ax.set_xlabel('Year')\n",
    "    ax.set_ylabel('Value (M€)')\n",
    "    ax.set_title(f'Total Market Value for {Product} (CAGR: {CAGR(Product, 2023, 2033)}%)')\n",
    "    ax.legend()\n",
    "    ax.set_xticks([int(x) for x in ds.index])\n",
    "    plt.xticks(rotation=90)\n",
    "    ax.bar_label(ax.containers[0])\n",
    "\n",
    "\n",
    "    # Show the plot\n",
    "    plt.show()\n"
   ]
  },
  {
   "cell_type": "markdown",
   "id": "a7bb7143",
   "metadata": {},
   "source": [
    "# Save File"
   ]
  },
  {
   "cell_type": "code",
   "execution_count": 160,
   "id": "75bcd3cf",
   "metadata": {},
   "outputs": [
    {
     "data": {
      "text/plain": [
       "2024-01-01     99746.893494\n",
       "2024-02-01    100200.007162\n",
       "2024-03-01    100807.303578\n",
       "2024-04-01    101191.013284\n",
       "2024-05-01    101665.222557\n",
       "                  ...      \n",
       "2033-08-01    123221.686434\n",
       "2033-09-01    123461.212068\n",
       "2033-10-01    123564.750612\n",
       "2033-11-01    123739.125074\n",
       "2033-12-01    123857.824788\n",
       "Freq: MS, Length: 120, dtype: float64"
      ]
     },
     "execution_count": 160,
     "metadata": {},
     "output_type": "execute_result"
    }
   ],
   "source": [
    "ts_ptons = {}\n",
    "ts_pprice = {}\n",
    "for p in fusion_forecast_tons.keys():\n",
    "    ts_ptons[p] = {}\n",
    "    ts_pprice[p] = {}\n",
    "    for geo in fusion_forecast_tons[p].keys():\n",
    "        ts = fusion_forecast_tons[p][geo]\n",
    "        ts = ts[(ts.index >= \"2024\") & (ts.index < \"2034\")]\n",
    "        ts_ptons[p][geo] = ts.copy()\n",
    "        ts = fusion_forecast_price[p][geo]\n",
    "        ts = ts[(ts.index >= \"2024\") & (ts.index < \"2034\")]\n",
    "        ts_pprice[p][geo] = ts.copy()\n",
    "\n",
    "with open('fusion_forecast_prod_price.pickle', 'wb') as f:\n",
    "    pickle.dump(ts_pprice, f)\n",
    "with open('fusion_forecast_prod_tons.pickle', 'wb') as f:\n",
    "    pickle.dump(ts_ptons, f)\n",
    "with open('fusion_forecast_prod_tons.pickle', 'rb') as f:\n",
    "    ts_ptons = pickle.load(f)\n",
    "ts_ptons[\"Ethanol\"][\"DE\"]"
   ]
  },
  {
   "cell_type": "code",
   "execution_count": 162,
   "id": "40a3047c",
   "metadata": {},
   "outputs": [
    {
     "data": {
      "text/plain": [
       "2024-01-01    995.803794\n",
       "2024-02-01    993.355790\n",
       "2024-03-01    986.360914\n",
       "2024-04-01    976.010447\n",
       "2024-05-01    969.402531\n",
       "                 ...    \n",
       "2033-08-01    917.820091\n",
       "2033-09-01    918.854412\n",
       "2033-10-01    920.055856\n",
       "2033-11-01    922.244829\n",
       "2033-12-01    924.865575\n",
       "Freq: MS, Length: 120, dtype: float64"
      ]
     },
     "execution_count": 162,
     "metadata": {},
     "output_type": "execute_result"
    }
   ],
   "source": [
    "with open('fusion_forecast_prod_price.pickle', 'rb') as f:\n",
    "    ts_ptons = pickle.load(f)\n",
    "ts_ptons[\"Ethanol\"][\"DE\"]"
   ]
  },
  {
   "cell_type": "code",
   "execution_count": null,
   "id": "0204ab12",
   "metadata": {},
   "outputs": [],
   "source": []
  },
  {
   "cell_type": "code",
   "execution_count": 4,
   "id": "515edc25",
   "metadata": {},
   "outputs": [
    {
     "data": {
      "text/plain": [
       "TIME_PERIOD\n",
       "2016-02-01    78004.337167\n",
       "2016-03-01    78230.437167\n",
       "2016-04-01    78428.281917\n",
       "2016-05-01    79256.266667\n",
       "2016-06-01    78222.831083\n",
       "Name: Tons, dtype: float64"
      ]
     },
     "execution_count": 4,
     "metadata": {},
     "output_type": "execute_result"
    }
   ],
   "source": [
    "ts = tsprod[\"Ethanol\"][\"DE\"].Tons\n",
    "ts = smooth(ts)\n",
    "train, test = split(ts)\n",
    "train.tail()"
   ]
  },
  {
   "cell_type": "code",
   "execution_count": 5,
   "id": "817701a7",
   "metadata": {},
   "outputs": [
    {
     "data": {
      "text/plain": [
       "TIME_PERIOD\n",
       "1988-01-01     537.089447\n",
       "1988-02-01     479.691552\n",
       "1988-03-01     530.828307\n",
       "1988-04-01     512.240225\n",
       "1988-05-01     483.517450\n",
       "                 ...     \n",
       "2023-01-01    1117.564392\n",
       "2023-02-01    1167.000745\n",
       "2023-03-01    1298.289840\n",
       "2023-04-01    1186.485003\n",
       "2023-05-01    1052.608285\n",
       "Name: Price, Length: 425, dtype: float64"
      ]
     },
     "execution_count": 5,
     "metadata": {},
     "output_type": "execute_result"
    }
   ],
   "source": [
    "tsprod[\"Ethanol\"][\"DE\"].Price"
   ]
  },
  {
   "cell_type": "markdown",
   "id": "13d429c8",
   "metadata": {},
   "source": [
    "### Experiment"
   ]
  },
  {
   "cell_type": "code",
   "execution_count": 47,
   "id": "c7c45898",
   "metadata": {},
   "outputs": [],
   "source": [
    "def df_to_X_y(df, window_size = 24):\n",
    "    df_as_np = df#.to_numpy()\n",
    "    X = []\n",
    "    y = []\n",
    "    for i in range(len(df_as_np)- window_size):\n",
    "        row = [a for a in df_as_np[i: i + window_size]]\n",
    "        X.append(row)\n",
    "        label = df_as_np[i + window_size]\n",
    "        y.append(label)\n",
    "    return np.array(X), np.array(y)\n",
    "\n",
    "df = tsprod[\"Ethanol\"][\"DE\"]\n",
    "\n",
    "window_size = 12 \n",
    "period_test = int(0.2*len(df))\n",
    "\n",
    "scaler = MinMaxScaler()\n",
    "X, y = df_to_X_y(scaler.fit_transform(df.Price.values.reshape(-1,1)), window_size= window_size)\n",
    "\n",
    "X_train, y_train = X[:-2*period_test], y[:-2*period_test]\n",
    "X_val, y_val = X[-2*period_test:-period_test], y[-2*period_test:-period_test]\n",
    "X_test, y_test = X[-period_test:], y[-period_test:]\n",
    "#print(X_train.shape, y_train.shape, X_val.shape, y_val.shape, X_test.shape, y_test.shape)\n",
    "\n",
    "model = Sequential()\n",
    "model.add(InputLayer((window_size, 1)))\n",
    "model.add(LSTM(64, input_shape=(window_size, 1), return_sequences=True))\n",
    "model.add(LSTM(64,input_shape=(window_size, 1)))\n",
    "model.add(Dense(8, 'relu'))\n",
    "model.add(Dense(1, 'linear'))\n",
    "\n",
    "#cp = ModelCheckpoint('model/', save_best_only=True)\n",
    "model.compile(loss=MeanSquaredError(), optimizer=Adam(learning_rate=0.0001), metrics=MeanAbsolutePercentageError())\n",
    "\n",
    "\n",
    "model.fit(X_train, y_train, validation_data=(X_val, y_val), epochs=50\n",
    "           #,callbacks=[cp]\n",
    "           , verbose=None\n",
    "          )\n",
    "\n",
    "train_predictions = model.predict(X_train, verbose=None)\n",
    "train_res = pd.DataFrame(data={'Prediction': list(train_predictions.flatten()), 'Actuals': y_train.flatten()})\n",
    "train_res = pd.DataFrame(scaler.inverse_transform(train_res), columns = ['Prediction', 'Actuals'])\n",
    "train_mape = round(np.mean(np.abs((train_res.Actuals - train_res.Prediction)/train_res.Actuals * 100)), 2)\n",
    "val_predictions = model.predict(X_val, verbose=None)\n",
    "val_res = pd.DataFrame(data={'Prediction': list(val_predictions.flatten()), 'Actuals': y_val.flatten()})\n",
    "val_res = pd.DataFrame(scaler.inverse_transform(val_res), columns = ['Prediction', 'Actuals'])\n",
    "val_mape = round(np.mean(np.abs((val_res.Actuals - val_res.Prediction)/val_res.Actuals * 100)), 2)\n",
    "test_predictions = model.predict(X_test, verbose=None)\n",
    "test_res = pd.DataFrame(data={'Prediction': list(test_predictions.flatten()), 'Actuals': y_test.flatten()})\n",
    "test_res = pd.DataFrame(scaler.inverse_transform(test_res), columns = ['Prediction', 'Actuals'])\n",
    "test_mape = round(np.mean(np.abs((test_res.Actuals - test_res.Prediction)/test_res.Actuals*100)), 2)\n",
    "lstm_df = pd.concat([train_res, val_res, test_res]).reset_index(drop=True)\n",
    "\n",
    "## Out of Sample Forecast\n",
    "\n",
    "# Example: Forecasting 100 future time steps\n",
    "num_forecast_steps = 135\n",
    "\n",
    "# Create an empty list to store the forecasted values\n",
    "forecasted_values = []\n",
    "\n",
    "# Initialize the last known window (X_t) with the last window from the test data\n",
    "last_known_window = X_test[-1:]\n",
    "\n",
    "# Perform forecasting for each time step\n",
    "for i in range(num_forecast_steps):\n",
    "    # Use the last known window to predict the next time step\n",
    "    prediction = model.predict(last_known_window, verbose=None)\n",
    "    \n",
    "    # Append the forecasted value to the list\n",
    "    forecasted_values.append(prediction[0, 0])\n",
    "    \n",
    "    # Update the last known window (X_t) with the current prediction and shift the window\n",
    "    last_known_window = np.append(last_known_window[:, 1:, :], np.expand_dims(prediction, axis=1), axis=1)\n",
    "\n",
    "\n",
    "forecasted_values = scaler.inverse_transform(pd.DataFrame(forecasted_values))\n",
    "forecast_df = pd.DataFrame({\"Forecast\" : forecasted_values.flatten()[1:]\n",
    "                            #,\"Lower_CI\" : lower_bound_values.flatten()[1:]\n",
    "                            #,\"Upper_CI\" :  upper_bound_values.flatten()[1:]\n",
    "                           })\n",
    "\n",
    "forecast_df.index = np.array(range(len(lstm_df), len(lstm_df)+ len(forecast_df)))"
   ]
  },
  {
   "cell_type": "code",
   "execution_count": 48,
   "id": "25ddbdbd",
   "metadata": {},
   "outputs": [
    {
     "data": {
      "image/png": "[encoded data removed]",
      "text/plain": [
       "<Figure size 1500x500 with 1 Axes>"
      ]
     },
     "metadata": {},
     "output_type": "display_data"
    }
   ],
   "source": [
    "fig, ax = plt.subplots(figsize = (15, 5))\n",
    "ax.plot(lstm_df[:-period_test].index,lstm_df[:-period_test].Actuals, label = f\"Validation (MAPE = {val_mape}%)\")\n",
    "ax.plot(lstm_df[:-2*period_test].index,lstm_df[:-2*period_test].Actuals, label = f\"Train (MAPE = {train_mape}%))\")\n",
    "ax.plot(lstm_df[-period_test:].index,lstm_df[-period_test:].Actuals, label = f\"Test  (MAPE = {test_mape}%)\")\n",
    "ax.plot(lstm_df.index, lstm_df.Prediction, label = \"Predictions\")\n",
    "ax.plot(forecast_df.index, forecast_df.Forecast, label = \"Forecast\")\n",
    "plt.legend()\n",
    "plt.title(f\"LSTM Model Results (MAPE = {test_mape}%)\")\n",
    "plt.show()"
   ]
  },
  {
   "cell_type": "markdown",
   "id": "a54c0e02",
   "metadata": {},
   "source": [
    "# Generalization"
   ]
  },
  {
   "cell_type": "code",
   "execution_count": 6,
   "id": "4e9f5871",
   "metadata": {},
   "outputs": [],
   "source": [
    "def df_to_X_y(df, window_size = 24):\n",
    "    df_as_np = df#.to_numpy()\n",
    "    X = []\n",
    "    y = []\n",
    "    for i in range(len(df_as_np)- window_size):\n",
    "        row = [a for a in df_as_np[i: i + window_size]]\n",
    "        X.append(row)\n",
    "        label = df_as_np[i + window_size]\n",
    "        y.append(label)\n",
    "    return np.array(X), np.array(y)\n",
    "\n",
    "\n",
    "\n",
    "def run_lstm(\n",
    "        ts, \n",
    "        window_size = 12, \n",
    "        ptest = 0.2,\n",
    "        hidden_units = 64,\n",
    "        dense_units = 8\n",
    "        ):\n",
    "    period_test = int(ptest*len(ts))\n",
    "\n",
    "    scaler = MinMaxScaler()\n",
    "    X, y = df_to_X_y(scaler.fit_transform(ts.values.reshape(-1,1)), window_size= window_size)\n",
    "\n",
    "    X_train, y_train = X[:-2*period_test], y[:-2*period_test]\n",
    "    X_val, y_val = X[-2*period_test:-period_test], y[-2*period_test:-period_test]\n",
    "    X_test, y_test = X[-period_test:], y[-period_test:]\n",
    "    #print(X_train.shape, y_train.shape, X_val.shape, y_val.shape, X_test.shape, y_test.shape)\n",
    "\n",
    "    model = Sequential()\n",
    "    model.add(InputLayer((window_size, 1)))\n",
    "    model.add(LSTM(hidden_units, input_shape=(window_size, 1), return_sequences=True))\n",
    "    model.add(LSTM(hidden_units,input_shape=(window_size, 1)))\n",
    "    model.add(Dense(dense_units, 'relu'))\n",
    "    model.add(Dense(1, 'linear'))\n",
    "\n",
    "    #cp = ModelCheckpoint('model/', save_best_only=True)\n",
    "    model.compile(loss=MeanSquaredError(), optimizer=Adam(learning_rate=0.0001), metrics=MeanAbsolutePercentageError())\n",
    "\n",
    "\n",
    "    model.fit(X_train, y_train, validation_data=(X_val, y_val), epochs=50\n",
    "            #,callbacks=[cp]\n",
    "            , verbose=None\n",
    "            )\n",
    "\n",
    "    train_predictions = model.predict(X_train, verbose=None)\n",
    "    train_res = pd.DataFrame(data={'Prediction': list(train_predictions.flatten()), 'Actuals': y_train.flatten()})\n",
    "    train_res = pd.DataFrame(scaler.inverse_transform(train_res), columns = ['Prediction', 'Actuals'])\n",
    "    train_mape = round(np.mean(np.abs((train_res.Actuals - train_res.Prediction)/train_res.Actuals * 100)), 2)\n",
    "    val_predictions = model.predict(X_val, verbose=None)\n",
    "    val_res = pd.DataFrame(data={'Prediction': list(val_predictions.flatten()), 'Actuals': y_val.flatten()})\n",
    "    val_res = pd.DataFrame(scaler.inverse_transform(val_res), columns = ['Prediction', 'Actuals'])\n",
    "    val_mape = round(np.mean(np.abs((val_res.Actuals - val_res.Prediction)/val_res.Actuals * 100)), 2)\n",
    "    test_predictions = model.predict(X_test, verbose=None)\n",
    "    test_res = pd.DataFrame(data={'Prediction': list(test_predictions.flatten()), 'Actuals': y_test.flatten()})\n",
    "    test_res = pd.DataFrame(scaler.inverse_transform(test_res), columns = ['Prediction', 'Actuals'])\n",
    "    test_mape = round(np.mean(np.abs((test_res.Actuals - test_res.Prediction)/test_res.Actuals*100)), 2)\n",
    "    lstm_df = pd.concat([train_res, val_res, test_res]).reset_index(drop=True)\n",
    "\n",
    "    ## Out of Sample Forecast\n",
    "\n",
    "    # Example: Forecasting 100 future time steps\n",
    "    num_forecast_steps = 135\n",
    "\n",
    "    # Create an empty list to store the forecasted values\n",
    "    forecasted_values = []\n",
    "\n",
    "    # Initialize the last known window (X_t) with the last window from the test data\n",
    "    last_known_window = X_test[-1:]\n",
    "\n",
    "    # Perform forecasting for each time step\n",
    "    for i in range(num_forecast_steps):\n",
    "        # Use the last known window to predict the next time step\n",
    "        prediction = model.predict(last_known_window, verbose=None)\n",
    "        \n",
    "        # Append the forecasted value to the list\n",
    "        forecasted_values.append(prediction[0, 0])\n",
    "        \n",
    "        # Update the last known window (X_t) with the current prediction and shift the window\n",
    "        last_known_window = np.append(last_known_window[:, 1:, :], np.expand_dims(prediction, axis=1), axis=1)\n",
    "\n",
    "\n",
    "    forecasted_values = scaler.inverse_transform(pd.DataFrame(forecasted_values))\n",
    "    forecast_df = pd.DataFrame({\"Forecast\" : forecasted_values.flatten()[1:]\n",
    "                                #,\"Lower_CI\" : lower_bound_values.flatten()[1:]\n",
    "                                #,\"Upper_CI\" :  upper_bound_values.flatten()[1:]\n",
    "                            })\n",
    "\n",
    "    forecast_df.index = np.array(range(len(lstm_df), len(lstm_df)+ len(forecast_df)))\n",
    "\n",
    "    results = {}\n",
    "    results[\"train\"] = lstm_df[:-period_test].Actuals\n",
    "    results[\"val\"] = lstm_df[:-2*period_test].Actuals\n",
    "    results[\"test\"] = lstm_df[-period_test:].Actuals\n",
    "    results[\"predictions\"] = lstm_df.Prediction\n",
    "    results[\"forecast\"] = forecast_df.Forecast\n",
    "    results[\"train_mape\"]=train_mape\n",
    "    results[\"val_mape\"]=val_mape\n",
    "    results[\"test_mape\"]=test_mape\n",
    "    return results"
   ]
  },
  {
   "cell_type": "code",
   "execution_count": 7,
   "id": "180b3d4f",
   "metadata": {},
   "outputs": [],
   "source": [
    "ts = tsprod[\"Ethanol\"][\"DE\"].Price\n",
    "window_size = 12 \n",
    "ptest = 0.2\n",
    "\n",
    "res = run_lstm(ts, window_size)"
   ]
  },
  {
   "cell_type": "code",
   "execution_count": 8,
   "id": "78e1fdf4",
   "metadata": {},
   "outputs": [
    {
     "data": {
      "image/png": "[encoded data removed]",
      "text/plain": [
       "<Figure size 1500x500 with 1 Axes>"
      ]
     },
     "metadata": {},
     "output_type": "display_data"
    }
   ],
   "source": [
    "p = \"Ethanol\"\n",
    "geo = \"DE\"\n",
    "field = \"Price\"\n",
    "\n",
    "def plot_res(res, p, geo, field):\n",
    "    fig, ax = plt.subplots(figsize = (15, 5))\n",
    "    ax.plot(res[\"val\"].index,res[\"val\"].values, label = f\"Validation (MAPE = {res['val_mape']}%)\")\n",
    "    ax.plot(res[\"train\"].index,res[\"train\"].values, label = f\"Train (MAPE = {res['train_mape']}%))\")\n",
    "    ax.plot(res[\"test\"].index,res[\"test\"].values, label = f\"Test  (MAPE = {res['test_mape']}%)\")\n",
    "    ax.plot(res[\"predictions\"].index,res[\"predictions\"].values, label = \"Predictions\")\n",
    "    ax.plot(res[\"forecast\"].index,res[\"forecast\"].values, label = \"Forecast\")\n",
    "    plt.legend()\n",
    "    plt.title(f\"LSTM Model Results: {p}, {geo}, {field}\")\n",
    "    plt.show()\n",
    "plot_res(res, p, geo, field)"
   ]
  },
  {
   "cell_type": "code",
   "execution_count": 17,
   "id": "86a06214",
   "metadata": {},
   "outputs": [
    {
     "name": "stderr",
     "output_type": "stream",
     "text": [
      "100%|██████████| 2/2 [00:30<00:00, 15.26s/it]\n",
      "100%|██████████| 2/2 [00:29<00:00, 14.78s/it]\n",
      "  0%|          | 0/2 [00:00<?, ?it/s]"
     ]
    }
   ],
   "source": [
    "window_size = 12 \n",
    "ptest = 0.2\n",
    "lstm_results_prods_price = {}\n",
    "lstm_results_prods_tons = {}\n",
    "lstm_results_prods = {}\n",
    "for p in tsprod.keys():\n",
    "    lstm_results_prods_price[p] = {}\n",
    "    lstm_results_prods_tons[p] = {}\n",
    "    for geo in tsprod[p].keys():\n",
    "        for field in tqdm([\"Tons\", \"Price\"]):\n",
    "            ts = tsprod[p][geo][field]\n",
    "            res = run_lstm(ts, window_size)\n",
    "            lstm_results_prods[p,geo,field] = res\n",
    "            if field == \"Price\":\n",
    "                lstm_results_prods_price[p][geo] = res\n",
    "            elif field == \"Tons\":\n",
    "                lstm_results_prods_tons[p][geo] = res"
   ]
  },
  {
   "cell_type": "code",
   "execution_count": null,
   "id": "050b438e",
   "metadata": {},
   "outputs": [
    {
     "ename": "NameError",
     "evalue": "name 'lstm_results_prods' is not defined",
     "output_type": "error",
     "traceback": [
      "\u001b[1;31m---------------------------------------------------------------------------\u001b[0m",
      "\u001b[1;31mNameError\u001b[0m                                 Traceback (most recent call last)",
      "\u001b[1;32mm:\\dtu-MasterThesis\\Forecast\\Forecasting_LSTM.ipynb Cell 15\u001b[0m line \u001b[0;36m2\n\u001b[0;32m      <a href='vscode-notebook-cell:/m%3A/dtu-MasterThesis/Forecast/Forecasting_LSTM.ipynb#X20sZmlsZQ%3D%3D?line=0'>1</a>\u001b[0m \u001b[39m@interact\u001b[39m\n\u001b[1;32m----> <a href='vscode-notebook-cell:/m%3A/dtu-MasterThesis/Forecast/Forecasting_LSTM.ipynb#X20sZmlsZQ%3D%3D?line=1'>2</a>\u001b[0m \u001b[39mdef\u001b[39;00m \u001b[39minteract_plots\u001b[39m(Dataset \u001b[39m=\u001b[39m \u001b[39mlist\u001b[39m(lstm_results_prods\u001b[39m.\u001b[39mkeys())):\n\u001b[0;32m      <a href='vscode-notebook-cell:/m%3A/dtu-MasterThesis/Forecast/Forecasting_LSTM.ipynb#X20sZmlsZQ%3D%3D?line=2'>3</a>\u001b[0m     res \u001b[39m=\u001b[39m lstm_results_prods[Dataset]\n\u001b[0;32m      <a href='vscode-notebook-cell:/m%3A/dtu-MasterThesis/Forecast/Forecasting_LSTM.ipynb#X20sZmlsZQ%3D%3D?line=3'>4</a>\u001b[0m     p, geo, field \u001b[39m=\u001b[39m Dataset\n",
      "\u001b[1;31mNameError\u001b[0m: name 'lstm_results_prods' is not defined"
     ]
    }
   ],
   "source": [
    "@interact\n",
    "def interact_plots(Dataset = list(lstm_results_prods.keys())):\n",
    "    res = lstm_results_prods[Dataset]\n",
    "    p, geo, field = Dataset\n",
    "    plot_res(res, p, geo, field)"
   ]
  },
  {
   "cell_type": "code",
   "execution_count": 12,
   "id": "8b7f4fcd",
   "metadata": {},
   "outputs": [
    {
     "name": "stderr",
     "output_type": "stream",
     "text": [
      "100%|██████████| 3/3 [00:44<00:00, 14.99s/it]\n",
      "100%|██████████| 3/3 [00:46<00:00, 15.33s/it]\n",
      "100%|██████████| 3/3 [00:48<00:00, 16.29s/it]\n"
     ]
    }
   ],
   "source": [
    "window_size = 12 \n",
    "ptest = 0.2\n",
    "lstm_results_feed_price = {}\n",
    "lstm_results_feed = {}\n",
    "for p in tsfeed.keys():\n",
    "    lstm_results_feed_price[p] = {}\n",
    "    for geo in tqdm(tsfeed[p].keys()):\n",
    "        ts = tsfeed[p][geo].Price\n",
    "        res = run_lstm(ts, window_size, hidden_units=64, dense_units=16)\n",
    "        lstm_results_feed[p,geo,\"Price\"] = res\n",
    "        lstm_results_feed_price[p][geo] = res\n"
   ]
  },
  {
   "cell_type": "code",
   "execution_count": 15,
   "id": "7911f45c",
   "metadata": {},
   "outputs": [
    {
     "data": {
      "application/vnd.jupyter.widget-view+json": {
       "model_id": "4acc414bc7fc4880bb088c515f0a6d14",
       "version_major": 2,
       "version_minor": 0
      },
      "text/plain": [
       "interactive(children=(Dropdown(description='Dataset', options=(('Maize', 'BE', 'Price'), ('Maize', 'ES', 'Pric…"
      ]
     },
     "metadata": {},
     "output_type": "display_data"
    }
   ],
   "source": [
    "@interact\n",
    "def interact_plots(Dataset = list(lstm_results_feed.keys())):\n",
    "    res = lstm_results_feed[Dataset]\n",
    "    p, geo, field = Dataset\n",
    "    print(res[\"forecast\"][-5:])\n",
    "    plot_res(res, p, geo, field)"
   ]
  },
  {
   "cell_type": "code",
   "execution_count": null,
   "id": "8c69c152",
   "metadata": {},
   "outputs": [],
   "source": []
  }
 ],
 "metadata": {
  "kernelspec": {
   "display_name": "Python 3 (ipykernel)",
   "language": "python",
   "name": "python3"
  },
  "language_info": {
   "codemirror_mode": {
    "name": "ipython",
    "version": 3
   },
   "file_extension": ".py",
   "mimetype": "text/x-python",
   "name": "python",
   "nbconvert_exporter": "python",
   "pygments_lexer": "ipython3",
   "version": "3.10.7"
  }
 },
 "nbformat": 4,
 "nbformat_minor": 5
}
