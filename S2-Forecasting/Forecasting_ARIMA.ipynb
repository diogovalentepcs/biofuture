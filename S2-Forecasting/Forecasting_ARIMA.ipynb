{
 "cells": [
  {
   "cell_type": "code",
   "execution_count": 1,
   "id": "288fb7d4",
   "metadata": {},
   "outputs": [],
   "source": [
    "import pandas as pd\n",
    "import matplotlib.pyplot as plt\n",
    "import seaborn as sns\n",
    "import matplotlib.dates as mdates\n",
    "import eurostat\n",
    "import numpy as np\n",
    "from tqdm import tqdm\n",
    "from pmdarima.arima import auto_arima\n",
    "import warnings\n",
    "import pickle\n",
    "import xgboost as xgb\n",
    "from sklearn.metrics  import mean_squared_error as mse_score\n",
    "\n",
    "import statsmodels.api as sm\n",
    "from statsmodels.graphics.tsaplots import plot_predict\n",
    "from statsmodels.tsa.stattools import adfuller\n",
    "from statsmodels.tsa.seasonal import seasonal_decompose\n",
    "from statsmodels.tsa.arima.model import ARIMA\n",
    "from pandas.plotting import register_matplotlib_converters\n",
    "register_matplotlib_converters()\n",
    "\n",
    "from statsmodels.tsa.statespace.sarimax import SARIMAX\n",
    "\n",
    "\n",
    "from statsmodels.tsa.holtwinters import SimpleExpSmoothing, Holt\n",
    "\n",
    "from sklearn.model_selection import GridSearchCV\n",
    "from math import sqrt\n",
    "from multiprocessing import cpu_count\n",
    "from joblib import Parallel\n",
    "from joblib import delayed\n",
    "from warnings import catch_warnings\n",
    "from warnings import filterwarnings\n",
    "from statsmodels.tsa.statespace.sarimax import SARIMAX\n",
    "from sklearn.metrics import mean_absolute_percentage_error as mape_score\n",
    "from sklearn.metrics import r2_score\n",
    "from joblib import Parallel\n",
    "from joblib import delayed\n",
    "from os import cpu_count\n",
    "\n",
    "# Interactive widgets\n",
    "import ipywidgets as widgets\n",
    "from ipywidgets import interact, interact_manual\n",
    "\n",
    "# Show all outputs\n",
    "from IPython.core.interactiveshell import InteractiveShell\n",
    "InteractiveShell.ast_node_interactivity = \"last_expr\" # change to all, to show all"
   ]
  },
  {
   "cell_type": "code",
   "execution_count": 2,
   "id": "ecf95df2",
   "metadata": {},
   "outputs": [],
   "source": [
    "with open('tsfinal.pickle', 'rb') as f:\n",
    "    tsfinal = pickle.load(f)\n",
    "tsprod= tsfinal[\"prod\"]\n",
    "tsfeed= tsfinal[\"feed\"]\n",
    "tscrops= tsfinal[\"crops\"]\n"
   ]
  },
  {
   "cell_type": "markdown",
   "id": "7b1734d2",
   "metadata": {},
   "source": [
    "# ARIMA/ SARIMA"
   ]
  },
  {
   "cell_type": "code",
   "execution_count": 3,
   "id": "33c8cb47",
   "metadata": {},
   "outputs": [],
   "source": [
    "def smooth(ts, w = 12):\n",
    "    smoothts = ts.rolling(window=w).mean().dropna()\n",
    "    return smoothts\n",
    "\n",
    "def split(ts, p = 0.8):\n",
    "    train = ts[:round(p*len(ts))]\n",
    "    test = ts[round(p*len(ts)):]\n",
    "    return train, test"
   ]
  },
  {
   "cell_type": "code",
   "execution_count": 4,
   "id": "515edc25",
   "metadata": {},
   "outputs": [
    {
     "data": {
      "text/plain": [
       "TIME_PERIOD\n",
       "2016-02-01    78004.337167\n",
       "2016-03-01    78230.437167\n",
       "2016-04-01    78428.281917\n",
       "2016-05-01    79256.266667\n",
       "2016-06-01    78222.831083\n",
       "Name: Tons, dtype: float64"
      ]
     },
     "execution_count": 4,
     "metadata": {},
     "output_type": "execute_result"
    }
   ],
   "source": [
    "ts = tsprod[\"Ethanol\"][\"DE\"].Tons\n",
    "ts = smooth(ts)\n",
    "train, test = split(ts)\n",
    "train.tail()"
   ]
  },
  {
   "cell_type": "markdown",
   "id": "13d429c8",
   "metadata": {},
   "source": [
    "### Experiment"
   ]
  },
  {
   "cell_type": "code",
   "execution_count": 5,
   "id": "e554e4cc",
   "metadata": {},
   "outputs": [
    {
     "data": {
      "text/html": [
       "<table class=\"simpletable\">\n",
       "<caption>SARIMAX Results</caption>\n",
       "<tr>\n",
       "  <th>Dep. Variable:</th>                 <td>Tons</td>               <th>  No. Observations:  </th>    <td>329</td>   \n",
       "</tr>\n",
       "<tr>\n",
       "  <th>Model:</th>           <td>SARIMAX(1, 0, 0)x(4, 1, [1], 12)</td> <th>  Log Likelihood     </th> <td>-2309.479</td>\n",
       "</tr>\n",
       "<tr>\n",
       "  <th>Date:</th>                    <td>Sat, 09 Sep 2023</td>         <th>  AIC                </th> <td>4632.957</td> \n",
       "</tr>\n",
       "<tr>\n",
       "  <th>Time:</th>                        <td>03:14:24</td>             <th>  BIC                </th> <td>4658.094</td> \n",
       "</tr>\n",
       "<tr>\n",
       "  <th>Sample:</th>                     <td>12-01-1988</td>            <th>  HQIC               </th> <td>4643.054</td> \n",
       "</tr>\n",
       "<tr>\n",
       "  <th></th>                           <td>- 04-01-2016</td>           <th>                     </th>     <td> </td>    \n",
       "</tr>\n",
       "<tr>\n",
       "  <th>Covariance Type:</th>                <td>opg</td>               <th>                     </th>     <td> </td>    \n",
       "</tr>\n",
       "</table>\n",
       "<table class=\"simpletable\">\n",
       "<tr>\n",
       "      <td></td>        <th>coef</th>     <th>std err</th>      <th>z</th>      <th>P>|z|</th>  <th>[0.025</th>    <th>0.975]</th>  \n",
       "</tr>\n",
       "<tr>\n",
       "  <th>ar.L1</th>    <td>    0.9998</td> <td>    0.006</td> <td>  179.077</td> <td> 0.000</td> <td>    0.989</td> <td>    1.011</td>\n",
       "</tr>\n",
       "<tr>\n",
       "  <th>ar.S.L12</th> <td>   -0.1121</td> <td>    0.111</td> <td>   -1.011</td> <td> 0.312</td> <td>   -0.329</td> <td>    0.105</td>\n",
       "</tr>\n",
       "<tr>\n",
       "  <th>ar.S.L24</th> <td>    0.0105</td> <td>    0.118</td> <td>    0.089</td> <td> 0.929</td> <td>   -0.221</td> <td>    0.242</td>\n",
       "</tr>\n",
       "<tr>\n",
       "  <th>ar.S.L36</th> <td>    0.1366</td> <td>    0.126</td> <td>    1.080</td> <td> 0.280</td> <td>   -0.111</td> <td>    0.384</td>\n",
       "</tr>\n",
       "<tr>\n",
       "  <th>ar.S.L48</th> <td>   -0.1357</td> <td>    0.127</td> <td>   -1.065</td> <td> 0.287</td> <td>   -0.385</td> <td>    0.114</td>\n",
       "</tr>\n",
       "<tr>\n",
       "  <th>ma.S.L12</th> <td>   -0.9062</td> <td>    0.144</td> <td>   -6.293</td> <td> 0.000</td> <td>   -1.188</td> <td>   -0.624</td>\n",
       "</tr>\n",
       "<tr>\n",
       "  <th>sigma2</th>   <td> 2.693e+06</td> <td> 1.09e-07</td> <td> 2.48e+13</td> <td> 0.000</td> <td> 2.69e+06</td> <td> 2.69e+06</td>\n",
       "</tr>\n",
       "</table>\n",
       "<table class=\"simpletable\">\n",
       "<tr>\n",
       "  <th>Ljung-Box (L1) (Q):</th>     <td>46.38</td> <th>  Jarque-Bera (JB):  </th> <td>91.94</td>\n",
       "</tr>\n",
       "<tr>\n",
       "  <th>Prob(Q):</th>                <td>0.00</td>  <th>  Prob(JB):          </th> <td>0.00</td> \n",
       "</tr>\n",
       "<tr>\n",
       "  <th>Heteroskedasticity (H):</th> <td>10.36</td> <th>  Skew:              </th> <td>0.44</td> \n",
       "</tr>\n",
       "<tr>\n",
       "  <th>Prob(H) (two-sided):</th>    <td>0.00</td>  <th>  Kurtosis:          </th> <td>5.73</td> \n",
       "</tr>\n",
       "</table><br/><br/>Warnings:<br/>[1] Covariance matrix calculated using the outer product of gradients (complex-step).<br/>[2] Covariance matrix is singular or near-singular, with condition number  8e+28. Standard errors may be unstable."
      ],
      "text/latex": [
       "\\begin{center}\n",
       "\\begin{tabular}{lclc}\n",
       "\\toprule\n",
       "\\textbf{Dep. Variable:}          &               Tons               & \\textbf{  No. Observations:  } &    329      \\\\\n",
       "\\textbf{Model:}                  & SARIMAX(1, 0, 0)x(4, 1, [1], 12) & \\textbf{  Log Likelihood     } & -2309.479   \\\\\n",
       "\\textbf{Date:}                   &         Sat, 09 Sep 2023         & \\textbf{  AIC                } &  4632.957   \\\\\n",
       "\\textbf{Time:}                   &             03:14:24             & \\textbf{  BIC                } &  4658.094   \\\\\n",
       "\\textbf{Sample:}                 &            12-01-1988            & \\textbf{  HQIC               } &  4643.054   \\\\\n",
       "\\textbf{}                        &           - 04-01-2016           & \\textbf{                     } &             \\\\\n",
       "\\textbf{Covariance Type:}        &               opg                & \\textbf{                     } &             \\\\\n",
       "\\bottomrule\n",
       "\\end{tabular}\n",
       "\\begin{tabular}{lcccccc}\n",
       "                  & \\textbf{coef} & \\textbf{std err} & \\textbf{z} & \\textbf{P$> |$z$|$} & \\textbf{[0.025} & \\textbf{0.975]}  \\\\\n",
       "\\midrule\n",
       "\\textbf{ar.L1}    &       0.9998  &        0.006     &   179.077  &         0.000        &        0.989    &        1.011     \\\\\n",
       "\\textbf{ar.S.L12} &      -0.1121  &        0.111     &    -1.011  &         0.312        &       -0.329    &        0.105     \\\\\n",
       "\\textbf{ar.S.L24} &       0.0105  &        0.118     &     0.089  &         0.929        &       -0.221    &        0.242     \\\\\n",
       "\\textbf{ar.S.L36} &       0.1366  &        0.126     &     1.080  &         0.280        &       -0.111    &        0.384     \\\\\n",
       "\\textbf{ar.S.L48} &      -0.1357  &        0.127     &    -1.065  &         0.287        &       -0.385    &        0.114     \\\\\n",
       "\\textbf{ma.S.L12} &      -0.9062  &        0.144     &    -6.293  &         0.000        &       -1.188    &       -0.624     \\\\\n",
       "\\textbf{sigma2}   &    2.693e+06  &     1.09e-07     &  2.48e+13  &         0.000        &     2.69e+06    &     2.69e+06     \\\\\n",
       "\\bottomrule\n",
       "\\end{tabular}\n",
       "\\begin{tabular}{lclc}\n",
       "\\textbf{Ljung-Box (L1) (Q):}     & 46.38 & \\textbf{  Jarque-Bera (JB):  } & 91.94  \\\\\n",
       "\\textbf{Prob(Q):}                &  0.00 & \\textbf{  Prob(JB):          } &  0.00  \\\\\n",
       "\\textbf{Heteroskedasticity (H):} & 10.36 & \\textbf{  Skew:              } &  0.44  \\\\\n",
       "\\textbf{Prob(H) (two-sided):}    &  0.00 & \\textbf{  Kurtosis:          } &  5.73  \\\\\n",
       "\\bottomrule\n",
       "\\end{tabular}\n",
       "%\\caption{SARIMAX Results}\n",
       "\\end{center}\n",
       "\n",
       "Warnings: \\newline\n",
       " [1] Covariance matrix calculated using the outer product of gradients (complex-step). \\newline\n",
       " [2] Covariance matrix is singular or near-singular, with condition number  8e+28. Standard errors may be unstable."
      ],
      "text/plain": [
       "<class 'statsmodels.iolib.summary.Summary'>\n",
       "\"\"\"\n",
       "                                      SARIMAX Results                                       \n",
       "============================================================================================\n",
       "Dep. Variable:                                 Tons   No. Observations:                  329\n",
       "Model:             SARIMAX(1, 0, 0)x(4, 1, [1], 12)   Log Likelihood               -2309.479\n",
       "Date:                              Sat, 09 Sep 2023   AIC                           4632.957\n",
       "Time:                                      03:14:24   BIC                           4658.094\n",
       "Sample:                                  12-01-1988   HQIC                          4643.054\n",
       "                                       - 04-01-2016                                         \n",
       "Covariance Type:                                opg                                         \n",
       "==============================================================================\n",
       "                 coef    std err          z      P>|z|      [0.025      0.975]\n",
       "------------------------------------------------------------------------------\n",
       "ar.L1          0.9998      0.006    179.077      0.000       0.989       1.011\n",
       "ar.S.L12      -0.1121      0.111     -1.011      0.312      -0.329       0.105\n",
       "ar.S.L24       0.0105      0.118      0.089      0.929      -0.221       0.242\n",
       "ar.S.L36       0.1366      0.126      1.080      0.280      -0.111       0.384\n",
       "ar.S.L48      -0.1357      0.127     -1.065      0.287      -0.385       0.114\n",
       "ma.S.L12      -0.9062      0.144     -6.293      0.000      -1.188      -0.624\n",
       "sigma2      2.693e+06   1.09e-07   2.48e+13      0.000    2.69e+06    2.69e+06\n",
       "===================================================================================\n",
       "Ljung-Box (L1) (Q):                  46.38   Jarque-Bera (JB):                91.94\n",
       "Prob(Q):                              0.00   Prob(JB):                         0.00\n",
       "Heteroskedasticity (H):              10.36   Skew:                             0.44\n",
       "Prob(H) (two-sided):                  0.00   Kurtosis:                         5.73\n",
       "===================================================================================\n",
       "\n",
       "Warnings:\n",
       "[1] Covariance matrix calculated using the outer product of gradients (complex-step).\n",
       "[2] Covariance matrix is singular or near-singular, with condition number  8e+28. Standard errors may be unstable.\n",
       "\"\"\""
      ]
     },
     "execution_count": 5,
     "metadata": {},
     "output_type": "execute_result"
    }
   ],
   "source": [
    "ts = tsprod[\"Ethanol\"][\"DE\"].Tons\n",
    "#ts = smooth(ts)\n",
    "train, test = split(ts)\n",
    "train = smooth(train)\n",
    "with catch_warnings():\n",
    "    filterwarnings(\"ignore\")\n",
    "    sarima_model = SARIMAX(train, seasonal_order=(4, 1, 1, 12), enforce_invertibility=False, enforce_stationarity=False)\n",
    "    sarima_fit = sarima_model.fit()\n",
    "sarima_fit.summary()\n",
    "\n"
   ]
  },
  {
   "cell_type": "code",
   "execution_count": 273,
   "id": "9dadcb01",
   "metadata": {},
   "outputs": [
    {
     "data": {
      "text/plain": [
       "(2016-05-01    371.672647\n",
       " 2016-06-01    351.041032\n",
       " 2016-07-01    339.762015\n",
       " 2016-08-01    336.616615\n",
       " 2016-09-01    333.036344\n",
       "                  ...    \n",
       " 2033-11-01    376.037213\n",
       " 2033-12-01    377.853296\n",
       " 2034-01-01    373.415208\n",
       " 2034-02-01    369.688417\n",
       " 2034-03-01    372.876914\n",
       " Freq: MS, Name: predicted_mean, Length: 215, dtype: float64,\n",
       " 242.07)"
      ]
     },
     "execution_count": 273,
     "metadata": {},
     "output_type": "execute_result"
    },
    {
     "data": {
      "image/png": "[encoded data removed]",
      "text/plain": [
       "<Figure size 1200x400 with 1 Axes>"
      ]
     },
     "metadata": {},
     "output_type": "display_data"
    }
   ],
   "source": [
    "def plot_sarima_forecast(sarima_fit, train, test, horizon, title, freq = 'M'):\n",
    "\n",
    "    sarima_pred = sarima_fit.forecast(len(test)+horizon)\n",
    "    extended_index = pd.date_range(start=test.index[0], end=sarima_pred.index[-1], freq=freq)\n",
    "    #predicted_means = sarima_pred.predicted_mean\n",
    "    #predicted_intervals = sarima_pred.conf_int(alpha=0.05)\n",
    "    #lower_bounds = predicted_intervals['lower Tons']\n",
    "    #upper_bounds = predicted_intervals['upper Tons']\n",
    "\n",
    "    # metrics\n",
    "    rmse = round(np.sqrt(np.mean(np.square(test.values - sarima_fit.get_prediction(test.index.min(), test.index.max()).predicted_mean.values))), 2)\n",
    "    mape = round((np.mean(np.abs(test.values - sarima_fit.get_prediction(test.index.min(), test.index.max()).predicted_mean.values)/test.values*100)), 2)\n",
    "    #sarima_rmse = np.sqrt(np.mean(np.abs(df.values - sarima_fit.get_prediction(df.index.min(), df.index.max()).predicted_mean.values)/df.values*100))\n",
    "\n",
    "    fig, ax = plt.subplots(figsize=(12, 4))\n",
    "    ax.plot(train.index, train.values, label = \"training - smoothed\")\n",
    "    #ax.plot(train.OBS_VALUE.index, sarima_fit.get_prediction(\"1988-01\", \"2018-12\").predicted_mean)\n",
    "    ax.plot(test.index, test.values, label='truth')\n",
    "    ax.plot(extended_index, sarima_pred[:-1], color='#ff7823', linestyle='--', label=\"prediction (MAPE={:0.2f}%)\".format(mape))\n",
    "    #ax.fill_between(extended_index, lower_bounds, upper_bounds, color='#ff7823', alpha=0.3, label=\"confidence interval (95%)\")\n",
    "    ax.legend()\n",
    "    ax.set_title(f\"Tuned SARIMA Model Results: {title}\")\n",
    "    return sarima_pred, mape\n",
    "\n",
    "horizon = 130\n",
    "p = \"Ethanol\"\n",
    "geo = \"DE\"\n",
    "field = \"Tons\"\n",
    "plot_sarima_forecast(sarima_fit, train, test, horizon, (p, geo, field))"
   ]
  },
  {
   "cell_type": "code",
   "execution_count": 7,
   "id": "315ce0aa",
   "metadata": {},
   "outputs": [
    {
     "data": {
      "text/plain": [
       "Timestamp('1988-12-01 00:00:00')"
      ]
     },
     "execution_count": 7,
     "metadata": {},
     "output_type": "execute_result"
    }
   ],
   "source": [
    "train.index[0]"
   ]
  },
  {
   "cell_type": "code",
   "execution_count": null,
   "id": "5f3670c1",
   "metadata": {},
   "outputs": [],
   "source": []
  },
  {
   "cell_type": "code",
   "execution_count": 4,
   "id": "6c5948f3",
   "metadata": {},
   "outputs": [],
   "source": [
    "\n",
    " \n",
    "# one-step sarima forecast\n",
    "def sarima_forecast(train, test, config):\n",
    "    order, sorder, trend = config\n",
    "    # define model\n",
    "    model = ARIMA(train, order=order, trend=trend, enforce_stationarity=False, enforce_invertibility=False)\n",
    "    # fit model\n",
    "    model_fit = model.fit()\n",
    "    # make one step forecast\n",
    "    yhat = model_fit.forecast(len(test))\n",
    "    return yhat\n",
    "\n",
    "# split a univariate dataset into train/test sets\n",
    "def train_test_split(ts, p):\n",
    "    train = ts[:round(p*len(ts))]\n",
    "    test = ts[round(p*len(ts)):]\n",
    "    return train, test\n",
    "\n",
    "# walk-forward validation for univariate data\n",
    "def walk_forward_validation(data, n_test, cfg):\n",
    "    predictions = list()\n",
    "    # split dataset\n",
    "    train, test = train_test_split(data, n_test)\n",
    "    # seed history with training dataset\n",
    "    # step over each time-step in the test set\n",
    "        # fit model and make forecast for history\n",
    "    predictions = sarima_forecast(train, test, cfg)\n",
    "        # store forecast in list of predictions\n",
    "        # add actual observation to history for the next loop\n",
    "    # estimate prediction error\n",
    "    error = (round(mape_score(test, predictions)*100, 2), round(r2_score(test, predictions)*100, 2))\n",
    "\n",
    "    \n",
    "    return error\n",
    "\n",
    "# score a model, return None on failure\n",
    "def score_model(data, n_test, cfg, debug=False):\n",
    "    result = None\n",
    "    # convert config to a key\n",
    "    key = str(cfg)\n",
    "    # show all warnings and fail on exception if debugging\n",
    "    if debug:\n",
    "        result = walk_forward_validation(data, n_test, cfg)\n",
    "    else:\n",
    "        # one failure during model validation suggests an unstable config\n",
    "        try:\n",
    "            # never show warnings when grid searching, too noisy\n",
    "            with catch_warnings():\n",
    "                filterwarnings(\"ignore\")\n",
    "                result = walk_forward_validation(data, n_test, cfg)\n",
    "        except:\n",
    "            error = None\n",
    "    # check for an interesting result\n",
    "#    if result is not None:\n",
    "#        print(' > Model[%s] %.3f' % (key, result))\n",
    "    return (key, result)\n",
    "\n",
    "# grid search configs\n",
    "def grid_search(data, cfg_list, n_test, parallel=False):\n",
    "    scores = []\n",
    "    if parallel:\n",
    "        # execute configs in parallel\n",
    "        executor = Parallel(n_jobs=cpu_count(), backend='multiprocessing')\n",
    "        tasks = (delayed(score_model)(data, n_test, cfg) for cfg in cfg_list)\n",
    "        scores = executor(tasks)\n",
    "    else:\n",
    "        for cfg in tqdm(cfg_list):\n",
    "            scores.append(score_model(data, n_test, cfg))\n",
    "    # remove empty results\n",
    "    scores = [r for r in scores if r[1] != None]\n",
    "    # sort configs by error, asc\n",
    "    scores.sort(key=lambda tup: tup[1])\n",
    "    return scores\n",
    "\n",
    "# create a set of sarima configs to try\n",
    "def sarima_configs(seasonal=[0], P=range(5), D=range(2), Q=range(5), m=12):\n",
    "    models = list()\n",
    "    models = list()\n",
    "    # define config lists\n",
    "    p_params = range(5)\n",
    "    d_params = range(4)\n",
    "    q_params = range(5)\n",
    "    #t_params = ['n','c','t','ct']\n",
    "    P_params = P\n",
    "    D_params = D\n",
    "    Q_params = Q\n",
    "    #m_params = [12]\n",
    "    # create config instances\n",
    "    for p in p_params:\n",
    "        for d in d_params:\n",
    "            for q in q_params:\n",
    "                #for t in t_params:\n",
    "                for P in P_params:\n",
    "                    for D in D_params:\n",
    "                        for Q in Q_params:\n",
    "                            #for m in m_params:\n",
    "                            cfg = [(p, d, q), (P, D, Q, m), None]\n",
    "                            models.append(cfg)\n",
    "    return models"
   ]
  },
  {
   "cell_type": "code",
   "execution_count": 158,
   "id": "2f6cefb1",
   "metadata": {},
   "outputs": [
    {
     "name": "stderr",
     "output_type": "stream",
     "text": [
      "100%|██████████| 100/100 [00:06<00:00, 15.43it/s]\n",
      "100%|██████████| 100/100 [00:04<00:00, 20.05it/s]\n",
      "100%|██████████| 100/100 [00:05<00:00, 18.20it/s]\n",
      "100%|██████████| 100/100 [00:05<00:00, 19.49it/s]\n",
      "100%|██████████| 100/100 [00:05<00:00, 18.09it/s]\n",
      "100%|██████████| 100/100 [00:05<00:00, 18.03it/s]\n",
      "100%|██████████| 100/100 [00:06<00:00, 16.59it/s]\n",
      "100%|██████████| 100/100 [00:06<00:00, 16.43it/s]\n",
      "100%|██████████| 100/100 [00:06<00:00, 15.99it/s]\n"
     ]
    },
    {
     "data": {
      "text/plain": [
       "{'Wheat-BE-Tons': ('[(2, 0, 2), (0, 0, 0, 0), None]', (4.13, -25.34)),\n",
       " 'Wheat-ES-Tons': ('[(4, 3, 1), (0, 0, 0, 0), None]', (7.19, 58.81)),\n",
       " 'Wheat-FR-Tons': ('[(4, 2, 4), (0, 0, 0, 0), None]', (4.55, 49.05)),\n",
       " 'Maize-BE-Tons': ('[(1, 2, 4), (0, 0, 0, 0), None]', (5.25, -13.62)),\n",
       " 'Maize-ES-Tons': ('[(3, 0, 2), (0, 0, 0, 0), None]', (3.5, 15.72)),\n",
       " 'Maize-FR-Tons': ('[(0, 3, 3), (0, 0, 0, 0), None]', (4.55, 18.45)),\n",
       " 'Beet-BE-Tons': ('[(1, 0, 1), (0, 0, 0, 0), None]', (4.07, -18.78)),\n",
       " 'Beet-ES-Tons': ('[(1, 2, 1), (0, 0, 0, 0), None]', (3.6, 80.96)),\n",
       " 'Beet-FR-Tons': ('[(1, 0, 0), (0, 0, 0, 0), None]', (10.5, 29.11))}"
      ]
     },
     "execution_count": 158,
     "metadata": {},
     "output_type": "execute_result"
    }
   ],
   "source": [
    "psplit= 0.8\n",
    "cfg_list = sarima_configs(P = [0], D = [0], Q = [0], m = 0)\n",
    "\n",
    "crconfigs = {} \n",
    "for p in tscrops.keys():\n",
    "    for geo in tscrops[p].keys():\n",
    "        ts = tscrops[p][geo].Mtons_Waste\n",
    "        scores = grid_search(ts, cfg_list, psplit)\n",
    "        crconfigs[f\"{p}-{geo}-Tons\"] = scores[0]\n",
    "\n",
    "crconfigs"
   ]
  },
  {
   "cell_type": "code",
   "execution_count": 379,
   "id": "4ed560ea",
   "metadata": {},
   "outputs": [],
   "source": [
    "cfgs = {\n",
    "    'Wheat-BE-Tons': ([(2, 0, 2), (0, 0, 0, 12), None], (4.13, -25.34)),\n",
    "    'Wheat-ES-Tons': ([(4, 3, 1), (0, 0, 0, 12), None], (7.19, 58.81)),\n",
    "    'Wheat-FR-Tons': ([(4, 2, 4), (0, 0, 0, 12), None], (4.55, 49.05)),\n",
    "    'Maize-BE-Tons': ([(1, 2, 4), (0, 0, 0, 12), None], (5.25, -13.62)),\n",
    "    'Maize-ES-Tons': ([(3, 0, 2), (0, 0, 0, 12), None], (3.5, 15.72)),\n",
    "    'Maize-FR-Tons': ([(2, 2, 1), (0, 0, 0, 12), None], (4.55, 18.45)),\n",
    "    'Beet-BE-Tons': ([(1, 0, 1), (0, 0, 0, 12), None], (4.07, -18.78)),\n",
    "    'Beet-ES-Tons': ([(2, 0, 3), (0, 0, 0, 12), None], (3.6, 80.96)),\n",
    "    'Beet-FR-Tons': ([(1, 0, 0), (0, 0, 0, 12), None], (10.5, 29.11))\n",
    "}"
   ]
  },
  {
   "cell_type": "code",
   "execution_count": 380,
   "id": "eaedc570",
   "metadata": {},
   "outputs": [],
   "source": [
    "with open('tsfinal.pickle', 'rb') as f:\n",
    "    tsfinal = pickle.load(f)\n",
    "tsprod= tsfinal[\"prod\"]\n",
    "tsfeed= tsfinal[\"feed\"]\n",
    "tscrops= tsfinal[\"crops\"]\n",
    "\n",
    "import copy"
   ]
  },
  {
   "cell_type": "code",
   "execution_count": 381,
   "id": "0ab3ac29",
   "metadata": {},
   "outputs": [],
   "source": [
    "forecast_crops = copy.copy(tscrops)"
   ]
  },
  {
   "cell_type": "code",
   "execution_count": 382,
   "id": "b9a2402a",
   "metadata": {},
   "outputs": [
    {
     "data": {
      "application/vnd.jupyter.widget-view+json": {
       "model_id": "5ec9716a48ed421e8dca968f25fa6f74",
       "version_major": 2,
       "version_minor": 0
      },
      "text/plain": [
       "interactive(children=(Dropdown(description='Dataset', options=('Wheat-BE-Tons', 'Wheat-ES-Tons', 'Wheat-FR-Ton…"
      ]
     },
     "metadata": {},
     "output_type": "display_data"
    }
   ],
   "source": [
    "@interact\n",
    "def resultsplot(Dataset = list(cfgs.keys())):\n",
    "    with catch_warnings():\n",
    "        filterwarnings(\"ignore\")\n",
    "        p = Dataset.split(\"-\")[0]\n",
    "        geo = Dataset.split(\"-\")[1]\n",
    "        ts = tscrops[p][geo].Mtons_Waste\n",
    "        #ts = smooth(ts)\n",
    "        train, test = split(ts)\n",
    "        t = None\n",
    "        if p == \"Beet\" and geo == \"ES\":\n",
    "            train, test = split(ts, 0.7)\n",
    "            t = 'c'\n",
    "        #train = smooth(train)\n",
    "        sarima_model = ARIMA(train, order=cfgs[Dataset][0][0], trend=t,  enforce_invertibility=False, enforce_stationarity=False)\n",
    "        sarima_fit = sarima_model.fit()\n",
    "\n",
    "        sarima_pred = sarima_fit.forecast(len(test)+13)\n",
    "        extended_index = list(range(test.index.min(), test.index.max() + 14))\n",
    "\n",
    "        # metrics\n",
    "        mape = round(mape_score(test, sarima_fit.forecast(len(test)))*100, 2)\n",
    "        rmse = round(math.sqrt(mse_score(test, sarima_fit.forecast(len(test)))), 2)\n",
    "\n",
    "        fig, ax = plt.subplots(figsize=(10, 4))\n",
    "        ax.plot(train.index, train.values, label = \"Training (80/20 split)\")\n",
    "        #ax.plot(train.OBS_VALUE.index, sarima_fit.get_prediction(\"1988-01\", \"2018-12\").predicted_mean)\n",
    "        ax.plot(test.index, test.values, label='Truth (80/20 split)')\n",
    "        ax.plot(extended_index, sarima_pred, color='#ff7823', linestyle='--', label=f\"prediction (MAPE={mape}%, RMSE = {rmse})\")\n",
    "        #ax.fill_between(extended_index, lower_bounds, upper_bounds, color='#ff7823', alpha=0.3, label=\"confidence interval (95%)\")\n",
    "        ax.legend()\n",
    "        ax.set_ylabel(\"Million tons\")\n",
    "        ax.set_title(f\"Tuned ARIMA Model Results: {p, geo}\")\n",
    "        forecast_crops[p][geo] = {}\n",
    "        forecast_crops[p][geo][\"Forecast\"] = sarima_pred\n",
    "        forecast_crops[p][geo][\"MAPE\"] = mape\n"
   ]
  },
  {
   "cell_type": "code",
   "execution_count": 383,
   "id": "b52e72ae",
   "metadata": {},
   "outputs": [
    {
     "data": {
      "text/plain": [
       "18    2.733786\n",
       "19    2.739344\n",
       "20    2.501009\n",
       "21    2.368106\n",
       "22    2.517670\n",
       "23    2.720965\n",
       "24    2.691375\n",
       "25    2.487174\n",
       "26    2.405131\n",
       "27    2.550333\n",
       "28    2.704172\n",
       "29    2.652114\n",
       "30    2.481687\n",
       "31    2.438562\n",
       "32    2.573337\n",
       "33    2.685531\n",
       "34    2.620810\n",
       "35    2.482177\n",
       "Name: predicted_mean, dtype: float64"
      ]
     },
     "execution_count": 383,
     "metadata": {},
     "output_type": "execute_result"
    }
   ],
   "source": [
    "forecast_crops[\"Wheat\"][\"BE\"][\"Forecast\"]"
   ]
  },
  {
   "cell_type": "code",
   "execution_count": 384,
   "id": "01778f51",
   "metadata": {},
   "outputs": [],
   "source": [
    "with open(f'arima_forecast_crops.pickle', 'wb') as f:\n",
    "    pickle.dump(forecast_crops, f)"
   ]
  },
  {
   "cell_type": "code",
   "execution_count": 6,
   "id": "c5792e8e",
   "metadata": {},
   "outputs": [],
   "source": [
    "fconfigs = {\n",
    "    'Maize-BE-Tons': ([(2, 0, 1), (2, 1, 0, 12), None], (29.6, -24.61)),\n",
    "    'Maize-ES-Tons': ([(1, 0, 1), (3, 1, 0, 12), None], (45.03, -21.13)),\n",
    "    'Maize-FR-Tons': ([(2, 1, 1), (2, 0, 2, 12), None], (36.13, -24.0)),\n",
    "    'Wheat-BE-Tons': ([(1, 1, 1), (0, 1, 2, 12), None], (12.65, 6.59)),\n",
    "    'Wheat-ES-Tons': ([(2, 0, 1), (2, 0, 2, 12), None], (16.73, -0.12)),\n",
    "    'Wheat-FR-Tons': ([(1, 0, 0), (1, 1, 2, 12), None], (16.65, 9.75)),\n",
    "    'Beet-BE-Tons': ([(1, 0, 0), (1, 1, 1, 12), None], (24.43, -28.36)),\n",
    "    'Beet-ES-Tons': ([(0, 0, 1), (3, 1, 3, 12), None], (99.81, -181.12)),\n",
    "    'Beet-FR-Tons': ([(2, 1, 0), (0, 0, 1, 12), None], (21.91, -12.71))\n",
    " }"
   ]
  },
  {
   "cell_type": "code",
   "execution_count": null,
   "id": "4f948092",
   "metadata": {},
   "outputs": [],
   "source": []
  },
  {
   "cell_type": "code",
   "execution_count": 9,
   "id": "5d76c8e8",
   "metadata": {},
   "outputs": [],
   "source": [
    "with open('tsfinal.pickle', 'rb') as f:\n",
    "    tsfinal = pickle.load(f)\n",
    "tsprod= tsfinal[\"prod\"]\n",
    "tsfeed= tsfinal[\"feed\"]\n",
    "tscrops= tsfinal[\"crops\"]\n",
    "\n",
    "import copy\n",
    "forecast_feed = copy.copy(tsfeed)"
   ]
  },
  {
   "cell_type": "code",
   "execution_count": 13,
   "id": "5b47fe8e",
   "metadata": {},
   "outputs": [
    {
     "data": {
      "application/vnd.jupyter.widget-view+json": {
       "model_id": "8073e25887b34e63b229b3888458f613",
       "version_major": 2,
       "version_minor": 0
      },
      "text/plain": [
       "interactive(children=(Dropdown(description='Dataset', options=('Maize-BE-Tons', 'Maize-ES-Tons', 'Maize-FR-Ton…"
      ]
     },
     "metadata": {},
     "output_type": "display_data"
    }
   ],
   "source": [
    "@interact\n",
    "def resultsplot(Dataset = list(fconfigs.keys())):\n",
    "    with catch_warnings():\n",
    "        filterwarnings(\"ignore\")\n",
    "        p = Dataset.split(\"-\")[0]\n",
    "        geo = Dataset.split(\"-\")[1]\n",
    "        ts = tsfeed[p][geo].Price\n",
    "        #print(fconfigs[Dataset][0][1])\n",
    "        trainf, test = split(ts)\n",
    "        train = trainf\n",
    "\n",
    "        if p == \"Beet\" and geo == \"ES\":\n",
    "            train = train[train.index >= \"1998\"]\n",
    "        elif p == \"Beet\" and geo == \"BE\":\n",
    "            pass\n",
    "        elif p == \"Maize\" and geo == \"ES\":\n",
    "            pass\n",
    "        else:\n",
    "            train = smooth(train)\n",
    "        t = None\n",
    "        sarima_model = SARIMAX(train, order=fconfigs[Dataset][0][0], seasonal_order=fconfigs[Dataset][0][1], trend=t,  enforce_invertibility=False, enforce_stationarity=False)\n",
    "        sarima_fit = sarima_model.fit()\n",
    "        \n",
    "        horizon = 130\n",
    "        sarima_pred = sarima_fit.forecast(len(test)+horizon)\n",
    "        extended_index = pd.date_range(start=test.index[0], end=sarima_pred.index[-1], freq=\"M\")\n",
    "        #predicted_means = sarima_pred.predicted_mean\n",
    "        #predicted_intervals = sarima_pred.conf_int(alpha=0.05)\n",
    "        #lower_bounds = predicted_intervals['lower Tons']\n",
    "        #upper_bounds = predicted_intervals['upper Tons']\n",
    "\n",
    "        # metrics\n",
    "        rmse = round(np.sqrt(np.mean(np.square(test.values - sarima_fit.get_prediction(test.index.min(), test.index.max()).predicted_mean.values))), 2)\n",
    "        mape = round((np.mean(np.abs(test.values - sarima_fit.get_prediction(test.index.min(), test.index.max()).predicted_mean.values)/test.values*100)), 2)\n",
    "        #sarima_rmse = np.sqrt(np.mean(np.abs(df.values - sarima_fit.get_prediction(df.index.min(), df.index.max()).predicted_mean.values)/df.values*100))\n",
    "\n",
    "        fig, ax = plt.subplots(figsize=(12, 6))\n",
    "        ax.plot(train.index, train.values, label = \"Training - Smoothed\")\n",
    "        #ax.plot(train.OBS_VALUE.index, sarima_fit.get_prediction(\"1988-01\", \"2018-12\").predicted_mean)\n",
    "        ax.plot(test.index, test.values, label='Test (80/20 split)')\n",
    "        ax.plot(extended_index, sarima_pred[:-1], color='#ff7823', linestyle='--', label=f\"prediction (MAPE={mape}%)\")\n",
    "        #ax.fill_between(extended_index, lower_bounds, upper_bounds, color='#ff7823', alpha=0.3, label=\"confidence interval (95%)\")\n",
    "        ax.legend()\n",
    "        ax.set_title(f\"Tuned SARIMA Model Results: {p, geo} (Price €/tons)\")\n",
    "        #print(sarima_pred.tail())\n",
    "        #forecast_feed[p][geo] ={}\n",
    "        #forecast_feed[p][geo][\"Forecast\"] = sarima_pred\n",
    "        #forecast_feed[p][geo][\"MAPE\"] = mape"
   ]
  },
  {
   "cell_type": "code",
   "execution_count": 371,
   "id": "31714a08",
   "metadata": {},
   "outputs": [
    {
     "data": {
      "text/plain": [
       "2016-05-01    165.405227\n",
       "2016-06-01    166.967933\n",
       "2016-07-01    168.807740\n",
       "2016-08-01    169.225076\n",
       "2016-09-01    170.556791\n",
       "                 ...    \n",
       "2033-11-01    175.114456\n",
       "2033-12-01    176.694675\n",
       "2034-01-01    178.378438\n",
       "2034-02-01    179.285364\n",
       "2034-03-01    177.821828\n",
       "Freq: MS, Name: predicted_mean, Length: 215, dtype: float64"
      ]
     },
     "execution_count": 371,
     "metadata": {},
     "output_type": "execute_result"
    }
   ],
   "source": [
    "forecast_feed[\"Maize\"][\"BE\"][\"Forecast\"]"
   ]
  },
  {
   "cell_type": "code",
   "execution_count": 372,
   "id": "c7ef1e63",
   "metadata": {},
   "outputs": [],
   "source": [
    "with open(f'arima_forecast_feed.pickle', 'wb') as f:\n",
    "    pickle.dump(forecast_feed, f)"
   ]
  },
  {
   "cell_type": "code",
   "execution_count": 13,
   "id": "acf9bd4b",
   "metadata": {},
   "outputs": [],
   "source": [
    "pconfigs ={\n",
    "    'LA-BE-Price': ([(0, 0, 0), (3, 1, 1, 12), None], (14.4, -10.92)),\n",
    "    'LA-DE-Price': ([(2, 0, 1), (1, 0, 1, 12), None], (11.19, 6.67)),\n",
    "    'LA-NL-Price': ([(1, 0, 0), (2, 1, 1, 12), None], (15.65, 39.89)),\n",
    "    'Ethanol-DE-Price': ([(2, 1, 0), (1, 1, 0, 12), None], (13.05, 37.53)),\n",
    "    'Ethanol-FR-Price': ([(1, 0, 0), (2, 1, 1, 12), None], (16.58, 39.77)),\n",
    "    'Ethanol-NL-Price': ([(1, 1, 1), (1, 1, 1, 12), None], (16.1, -10.37)),\n",
    "    'SA-DE-Price': ([(1, 0, 0), (2, 1, 1, 12), None], (10.85, 52.84)),\n",
    "    'SA-IT-Price': ([(2, 0, 1), (0, 0, 2, 12), None], (15.72, 23.89)),\n",
    "    'SA-NL-Price': ([(1, 0, 1), (4, 0, 2, 12), None], (17.41, -11.33))\n",
    " }"
   ]
  },
  {
   "cell_type": "code",
   "execution_count": 14,
   "id": "3531a9e1",
   "metadata": {},
   "outputs": [],
   "source": [
    "with open('tsfinal.pickle', 'rb') as f:\n",
    "    tsfinal = pickle.load(f)\n",
    "tsprod= tsfinal[\"prod\"]\n",
    "tsfeed= tsfinal[\"feed\"]\n",
    "tscrops= tsfinal[\"crops\"]\n",
    "\n",
    "import copy\n",
    "#forecast_prod_price = copy.copy(tsprod)"
   ]
  },
  {
   "cell_type": "code",
   "execution_count": 16,
   "id": "8c18da39",
   "metadata": {},
   "outputs": [
    {
     "data": {
      "application/vnd.jupyter.widget-view+json": {
       "model_id": "ed79030be2f94d9ea71b617cf87456bf",
       "version_major": 2,
       "version_minor": 0
      },
      "text/plain": [
       "interactive(children=(Dropdown(description='Dataset', options=('LA-BE-Price', 'LA-DE-Price', 'LA-NL-Price', 'E…"
      ]
     },
     "metadata": {},
     "output_type": "display_data"
    }
   ],
   "source": [
    "@interact\n",
    "def resultsplot(Dataset = list(pconfigs.keys())):\n",
    "    with catch_warnings():\n",
    "        filterwarnings(\"ignore\")\n",
    "        p = Dataset.split(\"-\")[0]\n",
    "        geo = Dataset.split(\"-\")[1]\n",
    "        ts = tsprod[p][geo].Price\n",
    "        #print(fconfigs[Dataset][0][1])\n",
    "        trainf, test = split(ts)\n",
    "        train = trainf\n",
    "\n",
    "        if p == \"Beet\" and geo == \"ES\":\n",
    "            train = train[train.index >= \"1998\"]\n",
    "        elif p == \"Beet\" and geo == \"BE\":\n",
    "            pass\n",
    "        elif p == \"Maize\" and geo == \"ES\":\n",
    "            pass\n",
    "        else:\n",
    "            train = smooth(train)\n",
    "        t = None\n",
    "        sarima_model = SARIMAX(train, order=pconfigs[Dataset][0][0], seasonal_order=pconfigs[Dataset][0][1], trend=t,  enforce_invertibility=False, enforce_stationarity=False)\n",
    "        sarima_fit = sarima_model.fit()\n",
    "        \n",
    "        horizon = 130\n",
    "        sarima_pred = sarima_fit.forecast(len(test)+horizon)\n",
    "        extended_index = pd.date_range(start=test.index[0], end=sarima_pred.index[-1], freq=\"M\")\n",
    "        #predicted_means = sarima_pred.predicted_mean\n",
    "        #predicted_intervals = sarima_pred.conf_int(alpha=0.05)\n",
    "        #lower_bounds = predicted_intervals['lower Tons']\n",
    "        #upper_bounds = predicted_intervals['upper Tons']\n",
    "\n",
    "        # metrics\n",
    "        rmse = round(np.sqrt(np.mean(np.square(test.values - sarima_fit.get_prediction(test.index.min(), test.index.max()).predicted_mean.values))), 2)\n",
    "        mape = round((np.mean(np.abs(test.values - sarima_fit.get_prediction(test.index.min(), test.index.max()).predicted_mean.values)/test.values*100)), 2)\n",
    "        #sarima_rmse = np.sqrt(np.mean(np.abs(df.values - sarima_fit.get_prediction(df.index.min(), df.index.max()).predicted_mean.values)/df.values*100))\n",
    "\n",
    "        fig, ax = plt.subplots(figsize=(12, 6))\n",
    "        ax.plot(train.index, train.values, label = \"Training - Smoothed\")\n",
    "        #ax.plot(train.OBS_VALUE.index, sarima_fit.get_prediction(\"1988-01\", \"2018-12\").predicted_mean)\n",
    "        ax.plot(test.index, test.values, label='Test (80/20 split)')\n",
    "        ax.plot(extended_index, sarima_pred[:-1], color='#ff7823', linestyle='--', label=\"prediction (MAPE={:0.2f}%)\".format(mape))\n",
    "        #ax.fill_between(extended_index, lower_bounds, upper_bounds, color='#ff7823', alpha=0.3, label=\"confidence interval (95%)\")\n",
    "        ax.legend()\n",
    "        ax.set_title(f\"Tuned SARIMA Model Results: {p, geo} (Price €/tons)\")\n",
    "        print(sarima_pred[-10:])\n",
    "        #print(sarima_pred.tail())\n",
    "        #forecast_prod_price[p][geo] ={}\n",
    "        #forecast_prod_price[p][geo][\"Forecast\"] = sarima_pred\n",
    "        #forecast_prod_price[p][geo][\"MAPE\"] = mape"
   ]
  },
  {
   "cell_type": "code",
   "execution_count": null,
   "id": "ac69c862",
   "metadata": {},
   "outputs": [],
   "source": []
  },
  {
   "cell_type": "code",
   "execution_count": 358,
   "id": "6b2d01a0",
   "metadata": {},
   "outputs": [
    {
     "data": {
      "text/plain": [
       "2016-05-01    1775.119407\n",
       "2016-06-01    1793.261928\n",
       "2016-07-01    1840.567639\n",
       "2016-08-01    1870.845248\n",
       "2016-09-01    1908.872060\n",
       "                 ...     \n",
       "2033-11-01    3078.606756\n",
       "2033-12-01    3084.637348\n",
       "2034-01-01    3090.677645\n",
       "2034-02-01    3096.730508\n",
       "2034-03-01    3102.796583\n",
       "Freq: MS, Name: predicted_mean, Length: 215, dtype: float64"
      ]
     },
     "execution_count": 358,
     "metadata": {},
     "output_type": "execute_result"
    }
   ],
   "source": [
    "forecast_prod_price[\"SA\"][\"NL\"][\"Forecast\"]"
   ]
  },
  {
   "cell_type": "code",
   "execution_count": 360,
   "id": "7afce577",
   "metadata": {},
   "outputs": [],
   "source": [
    "with open(f'arima_forecast_prod_price.pickle', 'wb') as f:\n",
    "    pickle.dump(forecast_prod_price, f)"
   ]
  },
  {
   "cell_type": "code",
   "execution_count": 10,
   "id": "38ee6f43",
   "metadata": {},
   "outputs": [],
   "source": [
    "with open('tsfinal.pickle', 'rb') as f:\n",
    "    tsfinal = pickle.load(f)\n",
    "tsprod= tsfinal[\"prod\"]\n",
    "tsfeed= tsfinal[\"feed\"]\n",
    "tscrops= tsfinal[\"crops\"]\n",
    "\n",
    "import copy\n",
    "forecast_prod_qty = copy.copy(tsprod)"
   ]
  },
  {
   "cell_type": "code",
   "execution_count": 11,
   "id": "898efd89",
   "metadata": {},
   "outputs": [],
   "source": [
    "pconfigs ={\n",
    "    'LA-BE-Tons': ([(0, 0, 1), (3, 1, 1, 12), None], (17.43, 0.58)),\n",
    "    'LA-DE-Tons': ([(1, 1, 1), (1, 0, 2, 12), None], (8.87, 8.02)),\n",
    "    'LA-NL-Tons': ([(2, 0, 1), (1, 1, 2, 12), None], (35.97, 37.69)),\n",
    "    'Ethanol-DE-Tons': ([(1, 0, 1), (4, 1, 1, 12), None], (11.82, 7.63)),\n",
    "    'Ethanol-FR-Tons': ([(0, 0, 1), (3, 0, 2, 12), None], (38.08, 15.99)),\n",
    "    'Ethanol-NL-Tons': ([(2, 0, 1), (0, 0, 2, 12), None], (17.01, 34.92)),\n",
    "    'SA-DE-Tons': ([(1, 0, 1), (2, 1, 0, 12), None], (15.83, 4.9)),\n",
    "    'SA-IT-Tons': ([(1, 1, 1), (4, 1, 1, 12), None], (21.38, 0.41)),\n",
    "    'SA-NL-Tons': ([(0, 0, 1), (4, 1, 2, 12), None], (33.7, -74.15))\n",
    " }"
   ]
  },
  {
   "cell_type": "code",
   "execution_count": 12,
   "id": "1d4369a8",
   "metadata": {},
   "outputs": [
    {
     "data": {
      "application/vnd.jupyter.widget-view+json": {
       "model_id": "ca6bffd30aef43f28d10fb2e44105152",
       "version_major": 2,
       "version_minor": 0
      },
      "text/plain": [
       "interactive(children=(Dropdown(description='Dataset', options=('LA-BE-Tons', 'LA-DE-Tons', 'LA-NL-Tons', 'Etha…"
      ]
     },
     "metadata": {},
     "output_type": "display_data"
    }
   ],
   "source": [
    "@interact\n",
    "def resultsplot(Dataset = list(pconfigs.keys())):\n",
    "    with catch_warnings():\n",
    "        filterwarnings(\"ignore\")\n",
    "        p = Dataset.split(\"-\")[0]\n",
    "        geo = Dataset.split(\"-\")[1]\n",
    "        ts = tsprod[p][geo].Tons\n",
    "        #print(fconfigs[Dataset][0][1])\n",
    "        trainf, test = split(ts)\n",
    "        train = trainf\n",
    "\n",
    "        if p == \"SA\" and geo == \"DE\":\n",
    "            pass\n",
    "        elif p == \"Beet\" and geo == \"BE\":\n",
    "            pass\n",
    "        elif p == \"Maize\" and geo == \"ES\":\n",
    "            pass\n",
    "        else:\n",
    "            train = smooth(train)\n",
    "        t = None\n",
    "        sarima_model = SARIMAX(train, order=pconfigs[Dataset][0][0], seasonal_order=pconfigs[Dataset][0][1], trend=t,  enforce_invertibility=False, enforce_stationarity=False)\n",
    "        sarima_fit = sarima_model.fit()\n",
    "        \n",
    "        horizon = 130\n",
    "        sarima_pred = sarima_fit.forecast(len(test)+horizon)\n",
    "        extended_index = pd.date_range(start=test.index[0], end=sarima_pred.index[-1], freq=\"M\")\n",
    "        #predicted_means = sarima_pred.predicted_mean\n",
    "        #predicted_intervals = sarima_pred.conf_int(alpha=0.05)\n",
    "        #lower_bounds = predicted_intervals['lower Tons']\n",
    "        #upper_bounds = predicted_intervals['upper Tons']\n",
    "\n",
    "        # metrics\n",
    "        rmse = round(np.sqrt(np.mean(np.square(test.values - sarima_fit.get_prediction(test.index.min(), test.index.max()).predicted_mean.values))), 2)\n",
    "        mape = round((np.mean(np.abs(test.values - sarima_fit.get_prediction(test.index.min(), test.index.max()).predicted_mean.values)/test.values*100)), 2)\n",
    "        #sarima_rmse = np.sqrt(np.mean(np.abs(df.values - sarima_fit.get_prediction(df.index.min(), df.index.max()).predicted_mean.values)/df.values*100))\n",
    "\n",
    "        fig, ax = plt.subplots(figsize=(12, 6))\n",
    "        ax.plot(train.index, train.values, label = \"Training - Smoothed\")\n",
    "        #ax.plot(train.OBS_VALUE.index, sarima_fit.get_prediction(\"1988-01\", \"2018-12\").predicted_mean)\n",
    "        ax.plot(test.index, test.values, label='Test (80/20 split)')\n",
    "        ax.plot(extended_index, sarima_pred[:-1], color='#ff7823', linestyle='--', label=\"prediction (MAPE={:0.2f}%)\".format(mape))\n",
    "        #ax.fill_between(extended_index, lower_bounds, upper_bounds, color='#ff7823', alpha=0.3, label=\"confidence interval (95%)\")\n",
    "        ax.legend()\n",
    "        ax.set_title(f\"Tuned SARIMA Model Results: {p, geo} (Qty in tons)\")\n",
    "        #print(sarima_pred.tail())\n",
    "        #forecast_prod_qty[p][geo] ={}\n",
    "        #forecast_prod_qty[p][geo][\"Forecast\"] = sarima_pred\n",
    "        #forecast_prod_qty[p][geo][\"MAPE\"] = mape"
   ]
  },
  {
   "cell_type": "code",
   "execution_count": 362,
   "id": "3757e010",
   "metadata": {},
   "outputs": [],
   "source": [
    "with open(f'arima_forecast_prod_qty.pickle', 'wb') as f:\n",
    "    pickle.dump(forecast_prod_qty, f)"
   ]
  },
  {
   "cell_type": "code",
   "execution_count": 364,
   "id": "b9f952d2",
   "metadata": {},
   "outputs": [
    {
     "data": {
      "text/plain": [
       "2016-05-01    1447.318368\n",
       "2016-06-01    1287.435831\n",
       "2016-07-01    1297.736082\n",
       "2016-08-01    1291.114378\n",
       "2016-09-01    1306.207410\n",
       "                 ...     \n",
       "2033-11-01    1360.038377\n",
       "2033-12-01    1357.764811\n",
       "2034-01-01    1361.683702\n",
       "2034-02-01    1364.626251\n",
       "2034-03-01    1369.980067\n",
       "Freq: MS, Name: predicted_mean, Length: 215, dtype: float64"
      ]
     },
     "execution_count": 364,
     "metadata": {},
     "output_type": "execute_result"
    }
   ],
   "source": [
    "forecast_prod_qty[\"SA\"][\"NL\"][\"Forecast\"]"
   ]
  },
  {
   "cell_type": "code",
   "execution_count": null,
   "id": "f61902a8",
   "metadata": {},
   "outputs": [],
   "source": []
  }
 ],
 "metadata": {
  "kernelspec": {
   "display_name": "Python 3 (ipykernel)",
   "language": "python",
   "name": "python3"
  },
  "language_info": {
   "codemirror_mode": {
    "name": "ipython",
    "version": 3
   },
   "file_extension": ".py",
   "mimetype": "text/x-python",
   "name": "python",
   "nbconvert_exporter": "python",
   "pygments_lexer": "ipython3",
   "version": "3.10.7"
  }
 },
 "nbformat": 4,
 "nbformat_minor": 5
}
