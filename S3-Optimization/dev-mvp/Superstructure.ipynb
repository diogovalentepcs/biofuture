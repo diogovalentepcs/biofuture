{
 "cells": [
  {
   "cell_type": "code",
   "execution_count": 1,
   "id": "f82942be",
   "metadata": {},
   "outputs": [],
   "source": [
    "import base64\n",
    "from IPython.display import Image, display\n",
    "import matplotlib.pyplot as plt"
   ]
  },
  {
   "cell_type": "markdown",
   "id": "9bd1cd4f",
   "metadata": {},
   "source": [
    "# Biorefinery Pathways"
   ]
  },
  {
   "cell_type": "code",
   "execution_count": 2,
   "id": "c331caa1",
   "metadata": {},
   "outputs": [],
   "source": [
    "def draw_structure(graph):\n",
    "  graphbytes = graph.encode(\"ascii\")\n",
    "  base64_bytes = base64.b64encode(graphbytes)\n",
    "  base64_string = base64_bytes.decode(\"ascii\")\n",
    "  display(\n",
    "    Image(\n",
    "      url=\"https://mermaid.ink/img/\"\n",
    "      + base64_string\n",
    "    )\n",
    "  )"
   ]
  },
  {
   "cell_type": "code",
   "execution_count": 6,
   "id": "f26655b9",
   "metadata": {},
   "outputs": [],
   "source": [
    "structure_graphs = {\n",
    "    \"Pathway C\": \"\"\"\n",
    "    graph TD\n",
    "        A[Oil Crops] --> B[Pressing]\n",
    "        C[Waste fats and oils] --> D[Oil]\n",
    "        B --> D\n",
    "        D --> M[Food]\n",
    "        D --> F[Hydro-Treating]\n",
    "        D --> E[Hydrolysis]\n",
    "        D --> G[Transesterification]\n",
    "        F --> I[Renewable Diesel]\n",
    "        E --> O[Fatty Acids]\n",
    "        E --> J[Glycerol]\n",
    "        G --> J[Glycerol]\n",
    "        O --> P[Chemical Products]\n",
    "        J --> P\n",
    "        G --> K[Biodiesel]\n",
    "        G --> L[Fatty Alcohols]\n",
    "        L --> Q[Surfactants]\n",
    "        B --> N[Animal Feed]\n",
    "    \"\"\",\n",
    "    \"Pathway D1\": \"\"\"\n",
    "    graph TD\n",
    "        W[Wood] --> A[Mechanical Processing]\n",
    "        A --> B[Kraft Pulping]\n",
    "        B --> C[Black Liquor]\n",
    "        B --> D[Pulp]\n",
    "        B --> E[Separation & Purification]\n",
    "        E --> MT[Methanol]\n",
    "        D --> J[Mechanical Conversions]\n",
    "        D --> D1[Pulp Product]\n",
    "        J --> R[Dissolving Pulp]\n",
    "        J --> S[Specialty Cellulose]\n",
    "        J --> U[Microfibrillated/Nanocrystalline Cellulose]\n",
    "        C --> Z( )\n",
    "            Z --> H[Cogeneration]\n",
    "        Z --> F[Gasification]\n",
    "        Z --> G[Lignin Recovery]\n",
    "        G --> GG[Lignin]\n",
    "        C --> I[Separation/Extraction]\n",
    "        D1 --> K[Paper-Making]\n",
    "        H --> L[Heat & Electricity]\n",
    "        GG --> N1( )\n",
    "        N1 --> N[Biomaterials]\n",
    "        N1 --> M[Chemical Products]\n",
    "        N1 --> O[Biofuels]\n",
    "        I --> Z\n",
    "        I --> Y[Turpentine, tall oil]\n",
    "        K --> X[Paper]\n",
    "    \"\"\",\n",
    "    \"Pathway D2\": \"\"\"\n",
    "    graph TD\n",
    "        W[Wood] --> A[Mechanical Processing]\n",
    "        A --> B[Sulphite Pulping]\n",
    "        B --> C[Spent Sulfit Liquor]\n",
    "        B --> D[Pulp]\n",
    "        B --> E[Separation & Purification]\n",
    "        C --> N1( )\n",
    "        C --> Hy[Hydrolysis]\n",
    "        Hy --> Fr[Fermentation]\n",
    "        Fr --> N1\n",
    "        Fr --> Bt[Bioethanol]\n",
    "        N1 --> G[Lignin Recovery]\n",
    "        G --> GG[Lignin]\n",
    "        E --> MT[Methanol]\n",
    "        D --> J[Mechanical/ Chemical Conversions]\n",
    "        D --> D1[Dissolving Pulp]\n",
    "        J --> S[Specialty Cellulose]\n",
    "        J --> U[Microfibrillated/Nanocrystalline Cellulose]\n",
    "        N1( ) --> H[Cogeneration]\n",
    "        C --> I[Separation/Extraction]\n",
    "        D1 --> K[Paper-Making]\n",
    "        H --> L[Heat & Electricity]\n",
    "        GG --> N2( )\n",
    "        N2 --> N[Biomaterials]\n",
    "        N2 --> O[Vanillin]\n",
    "        I --> N1\n",
    "        I --> Y[Turpentine, tall oil]\n",
    "        K --> X[Paper]\n",
    "    \"\"\",\n",
    "    \"Pathway E\": \"\"\"\n",
    "    graph TD\n",
    "        A[Lignocellulosic Biomass] --> B[Pretreatment]\n",
    "        B --> C[Hydrolysis]\n",
    "        C --> S[C5/ C6 Sugars]\n",
    "        C --> Li[Lignin]\n",
    "        B --> D[Separation]\n",
    "        D --> C\n",
    "        S --> E[Hydrolysis]\n",
    "        E --> F[Chemical Process]\n",
    "        E --> G[Fermentation]\n",
    "        F --> M[Chemical Products]\n",
    "        G --> L[Anaerobic Digestion]\n",
    "        G --> M\n",
    "        G --> N[Bioethanol]\n",
    "        L --> Bg[Biogas]\n",
    "        L --> O[Fertilizer]\n",
    "        Li --> H[Cogeneration]\n",
    "        H --> HE[Heat & eletricity]\n",
    "        Li --> P[Biomaterials]\n",
    "        Li --> I[Depolymerisation]\n",
    "        Li --> J[Pyrolysis]\n",
    "        Li --> K[Gasification]\n",
    "        I --> M\n",
    "        J --> Pg[PyrolitcGas]\n",
    "        K --> Sg[Syngas]\n",
    "    \"\"\",\n",
    "    \"Pathway F\": \"\"\"\n",
    "    graph TD\n",
    "        A[Green Biomass] --> B[Pressing]\n",
    "        B --> OF[Organic Fibers]\n",
    "        B --> OJ[Organic Juice]\n",
    "        OR[Organic Residues] --> C\n",
    "        OJ --> C[Anaerobic Digestion]\n",
    "        OJ --> D[Extraction]\n",
    "        D --> C\n",
    "        C --> Bg[Biogas]\n",
    "        C --> L[Fertilizer]\n",
    "        OF --> E[Pretreatment]\n",
    "        E --> F[Hydrolysis]\n",
    "        F --> CS[C6 Sugars]\n",
    "        Bg --> G[Cogeneration]\n",
    "        Bg --> H[Upgrading]\n",
    "        CS --> I[Fermentation]\n",
    "        G --> J[Heat & Electricity]\n",
    "        H --> K[Biomethane]\n",
    "        D --> M[Nutraceuticals]\n",
    "        I --> N[Chemical Products]\n",
    "        I --> O[Bioethanol]\n",
    "        OF --> P[Biomaterials]\n",
    "    \"\"\",\n",
    "    \"Pathway I\": \"\"\"\n",
    "    graph TD\n",
    "        A[Lignocellulosic Biomass MSW] --> B[Pretreatment]\n",
    "        B --> C[Gasification]\n",
    "        C --> Sg[Syngas]\n",
    "        Sg --> D[Cogeneration]\n",
    "        Sg --> E[Gas Cleaning and Conditioning]\n",
    "        D --> HE[Heat & Eletrcitity]\n",
    "        E --> N1( )\n",
    "        N1 --> M[Methanol Synthesis]\n",
    "        N1 --> F[Water Gas Shift + Separation/Purificatio]\n",
    "        N1 --> G[Catalytic Conversion]\n",
    "        N1 --> H[Fermentation]\n",
    "        N1 --> I[Methanation]\n",
    "        N1 --> J[F-T Synthesis]\n",
    "        M --> O[Methanol]\n",
    "        O --> P[Biofuels]\n",
    "        O --> Q[Chemicals]\n",
    "        J --> L[Upgrading]\n",
    "        F --> N[Hydrogen]\n",
    "        G --> T[Bioethanol & Higher Alcohols]\n",
    "        H --> T\n",
    "        I --> V[Biomethane]\n",
    "        L --> W[F-T Biofuels]\n",
    "        J --> X[Waxes]\n",
    "    \"\"\",\n",
    "    \"Pathway J\": \"\"\"\n",
    "    graph TD\n",
    "        A[Lignocellulosic Biomass] --> B[Pyrolysis]\n",
    "        B --> PL[Pyrolitic Liquid]\n",
    "        B --> Bc[Biochar]\n",
    "        PL --> C[Cogeneration]\n",
    "        PL --> D[Gasification]\n",
    "        PL --> E[Hydrodeoxygenation]\n",
    "        PL --> G[Downstream Processing]\n",
    "        C --> HE[Heat & Eletricity]\n",
    "        D --> Sg[Syngas]\n",
    "        E --> F[Co-Processing in Petroleum Refinery]\n",
    "        F --> H[Biofuels]\n",
    "        F --> I[Chemicals]\n",
    "        G --> I\n",
    "        G --> J[Biomaterials]\n",
    "        Bc --> SA[Soil Ammendment]\n",
    "        Bc --> HE\n",
    "    \"\"\",\n",
    "    \"Pathway K\": \"\"\"\n",
    "    graph TD\n",
    "        A[Lignocellulosic/aquatic Biomass & Waste] --> B[Hydrothermal Liquefaction]\n",
    "        B --> C[Bio-crude]\n",
    "        C --> D[Upgrading - e.g. Hydrotreating]\n",
    "        D --> E[Biofuels]\n",
    "        D --> F[Chemicals]\n",
    "    \"\"\",\n",
    "    'Carbon Caputre': \"\"\"\n",
    "    graph TD\n",
    "        Bg[Biogas] --> N1( )\n",
    "        A[Air/H2O/O2] --> N1\n",
    "        N1 --> B[Biogas Utilization]\n",
    "        N1 --> P[Purge gas utilization]\n",
    "        P --> D[Hydrogen]\n",
    "        P --> Sg[Syngas H2/CO2]\n",
    "        P --> HE[Heat & Electricity]\n",
    "        B --> C[Bio-methane]\n",
    "        Sg --> I[Thermochemical Synthesis]\n",
    "        I --> E[Purge]\n",
    "        E --> P\n",
    "        F[Flue gases/Air] --> CC[Carbon Capture]\n",
    "        CC --> G[Carbon Dioxide]\n",
    "        G --> N2( )\n",
    "        H[H20] --> El[Electrolysis] \n",
    "        El --> D\n",
    "        D --> N2\n",
    "        N2 --> I\n",
    "        I --> J[Methanol/ Fischer-Tropsch-crude]\n",
    "        J --> K[Product Upgrading]\n",
    "        K --> L[Liquid fuels]\n",
    "        I --> M[Waste water] \n",
    "        M --> N[Waste water treatment]\n",
    "        N --> O[Recycle water/Effluent]\n",
    "        G --> CCS[Carbon Storage]\n",
    "    \"\"\"\n",
    "}\n"
   ]
  },
  {
   "cell_type": "code",
   "execution_count": 7,
   "id": "4c375c0d",
   "metadata": {
    "scrolled": false
   },
   "outputs": [
    {
     "name": "stdout",
     "output_type": "stream",
     "text": [
      "Pathway C\n"
     ]
    },
    {
     "data": {
      "text/html": [
       "<img src=\"https://mermaid.ink/img/CiAgICBncmFwaCBURAogICAgICAgIEFbT2lsIENyb3BzXSAtLT4gQltQcmVzc2luZ10KICAgICAgICBDW1dhc3RlIGZhdHMgYW5kIG9pbHNdIC0tPiBEW09pbF0KICAgICAgICBCIC0tPiBECiAgICAgICAgRCAtLT4gTVtGb29kXQogICAgICAgIEQgLS0+IEZbSHlkcm8tVHJlYXRpbmddCiAgICAgICAgRCAtLT4gRVtIeWRyb2x5c2lzXQogICAgICAgIEQgLS0+IEdbVHJhbnNlc3RlcmlmaWNhdGlvbl0KICAgICAgICBGIC0tPiBJW1JlbmV3YWJsZSBEaWVzZWxdCiAgICAgICAgRSAtLT4gT1tGYXR0eSBBY2lkc10KICAgICAgICBFIC0tPiBKW0dseWNlcm9sXQogICAgICAgIEcgLS0+IEpbR2x5Y2Vyb2xdCiAgICAgICAgTyAtLT4gUFtDaGVtaWNhbCBQcm9kdWN0c10KICAgICAgICBKIC0tPiBQCiAgICAgICAgRyAtLT4gS1tCaW9kaWVzZWxdCiAgICAgICAgRyAtLT4gTFtGYXR0eSBBbGNvaG9sc10KICAgICAgICBMIC0tPiBRW1N1cmZhY3RhbnRzXQogICAgICAgIEIgLS0+IE5bQW5pbWFsIEZlZWRdCiAgICA=\"/>"
      ],
      "text/plain": [
       "<IPython.core.display.Image object>"
      ]
     },
     "metadata": {},
     "output_type": "display_data"
    },
    {
     "name": "stdout",
     "output_type": "stream",
     "text": [
      "Pathway D1\n"
     ]
    },
    {
     "data": {
      "text/html": [
       "<img src=\"https://mermaid.ink/img/CiAgICBncmFwaCBURAogICAgICAgIFdbV29vZF0gLS0+IEFbTWVjaGFuaWNhbCBQcm9jZXNzaW5nXQogICAgICAgIEEgLS0+IEJbS3JhZnQgUHVscGluZ10KICAgICAgICBCIC0tPiBDW0JsYWNrIExpcXVvcl0KICAgICAgICBCIC0tPiBEW1B1bHBdCiAgICAgICAgQiAtLT4gRVtTZXBhcmF0aW9uICYgUHVyaWZpY2F0aW9uXQogICAgICAgIEUgLS0+IE1UW01ldGhhbm9sXQogICAgICAgIEQgLS0+IEpbTWVjaGFuaWNhbCBDb252ZXJzaW9uc10KICAgICAgICBEIC0tPiBEMVtQdWxwIFByb2R1Y3RdCiAgICAgICAgSiAtLT4gUltEaXNzb2x2aW5nIFB1bHBdCiAgICAgICAgSiAtLT4gU1tTcGVjaWFsdHkgQ2VsbHVsb3NlXQogICAgICAgIEogLS0+IFVbTWljcm9maWJyaWxsYXRlZC9OYW5vY3J5c3RhbGxpbmUgQ2VsbHVsb3NlXQogICAgICAgIEMgLS0+IFooICkKICAgICAgICAgICAgWiAtLT4gSFtDb2dlbmVyYXRpb25dCiAgICAgICAgWiAtLT4gRltHYXNpZmljYXRpb25dCiAgICAgICAgWiAtLT4gR1tMaWduaW4gUmVjb3ZlcnldCiAgICAgICAgRyAtLT4gR0dbTGlnbmluXQogICAgICAgIEMgLS0+IElbU2VwYXJhdGlvbi9FeHRyYWN0aW9uXQogICAgICAgIEQxIC0tPiBLW1BhcGVyLU1ha2luZ10KICAgICAgICBIIC0tPiBMW0hlYXQgJiBFbGVjdHJpY2l0eV0KICAgICAgICBHRyAtLT4gTjEoICkKICAgICAgICBOMSAtLT4gTltCaW9tYXRlcmlhbHNdCiAgICAgICAgTjEgLS0+IE1bQ2hlbWljYWwgUHJvZHVjdHNdCiAgICAgICAgTjEgLS0+IE9bQmlvZnVlbHNdCiAgICAgICAgSSAtLT4gWgogICAgICAgIEkgLS0+IFlbVHVycGVudGluZSwgdGFsbCBvaWxdCiAgICAgICAgSyAtLT4gWFtQYXBlcl0KICAgIA==\"/>"
      ],
      "text/plain": [
       "<IPython.core.display.Image object>"
      ]
     },
     "metadata": {},
     "output_type": "display_data"
    },
    {
     "name": "stdout",
     "output_type": "stream",
     "text": [
      "Pathway D2\n"
     ]
    },
    {
     "data": {
      "text/html": [
       "<img src=\"https://mermaid.ink/img/CiAgICBncmFwaCBURAogICAgICAgIFdbV29vZF0gLS0+IEFbTWVjaGFuaWNhbCBQcm9jZXNzaW5nXQogICAgICAgIEEgLS0+IEJbU3VscGhpdGUgUHVscGluZ10KICAgICAgICBCIC0tPiBDW1NwZW50IFN1bGZpdCBMaXF1b3JdCiAgICAgICAgQiAtLT4gRFtQdWxwXQogICAgICAgIEIgLS0+IEVbU2VwYXJhdGlvbiAmIFB1cmlmaWNhdGlvbl0KICAgICAgICBDIC0tPiBOMSggKQogICAgICAgIEMgLS0+IEh5W0h5ZHJvbHlzaXNdCiAgICAgICAgSHkgLS0+IEZyW0Zlcm1lbnRhdGlvbl0KICAgICAgICBGciAtLT4gTjEKICAgICAgICBGciAtLT4gQnRbQmlvZXRoYW5vbF0KICAgICAgICBOMSAtLT4gR1tMaWduaW4gUmVjb3ZlcnldCiAgICAgICAgRyAtLT4gR0dbTGlnbmluXQogICAgICAgIEUgLS0+IE1UW01ldGhhbm9sXQogICAgICAgIEQgLS0+IEpbTWVjaGFuaWNhbC8gQ2hlbWljYWwgQ29udmVyc2lvbnNdCiAgICAgICAgRCAtLT4gRDFbRGlzc29sdmluZyBQdWxwXQogICAgICAgIEogLS0+IFNbU3BlY2lhbHR5IENlbGx1bG9zZV0KICAgICAgICBKIC0tPiBVW01pY3JvZmlicmlsbGF0ZWQvTmFub2NyeXN0YWxsaW5lIENlbGx1bG9zZV0KICAgICAgICBOMSggKSAtLT4gSFtDb2dlbmVyYXRpb25dCiAgICAgICAgQyAtLT4gSVtTZXBhcmF0aW9uL0V4dHJhY3Rpb25dCiAgICAgICAgRDEgLS0+IEtbUGFwZXItTWFraW5nXQogICAgICAgIEggLS0+IExbSGVhdCAmIEVsZWN0cmljaXR5XQogICAgICAgIEdHIC0tPiBOMiggKQogICAgICAgIE4yIC0tPiBOW0Jpb21hdGVyaWFsc10KICAgICAgICBOMiAtLT4gT1tWYW5pbGxpbl0KICAgICAgICBJIC0tPiBOMQogICAgICAgIEkgLS0+IFlbVHVycGVudGluZSwgdGFsbCBvaWxdCiAgICAgICAgSyAtLT4gWFtQYXBlcl0KICAgIA==\"/>"
      ],
      "text/plain": [
       "<IPython.core.display.Image object>"
      ]
     },
     "metadata": {},
     "output_type": "display_data"
    },
    {
     "name": "stdout",
     "output_type": "stream",
     "text": [
      "Pathway E\n"
     ]
    },
    {
     "data": {
      "text/html": [
       "<img src=\"https://mermaid.ink/img/CiAgICBncmFwaCBURAogICAgICAgIEFbTGlnbm9jZWxsdWxvc2ljIEJpb21hc3NdIC0tPiBCW1ByZXRyZWF0bWVudF0KICAgICAgICBCIC0tPiBDW0h5ZHJvbHlzaXNdCiAgICAgICAgQyAtLT4gU1tDNS8gQzYgU3VnYXJzXQogICAgICAgIEMgLS0+IExpW0xpZ25pbl0KICAgICAgICBCIC0tPiBEW1NlcGFyYXRpb25dCiAgICAgICAgRCAtLT4gQwogICAgICAgIFMgLS0+IEVbSHlkcm9seXNpc10KICAgICAgICBFIC0tPiBGW0NoZW1pY2FsIFByb2Nlc3NdCiAgICAgICAgRSAtLT4gR1tGZXJtZW50YXRpb25dCiAgICAgICAgRiAtLT4gTVtDaGVtaWNhbCBQcm9kdWN0c10KICAgICAgICBHIC0tPiBMW0FuYWVyb2JpYyBEaWdlc3Rpb25dCiAgICAgICAgRyAtLT4gTQogICAgICAgIEcgLS0+IE5bQmlvZXRoYW5vbF0KICAgICAgICBMIC0tPiBCZ1tCaW9nYXNdCiAgICAgICAgTCAtLT4gT1tGZXJ0aWxpemVyXQogICAgICAgIExpIC0tPiBIW0NvZ2VuZXJhdGlvbl0KICAgICAgICBIIC0tPiBIRVtIZWF0ICYgZWxldHJpY2l0eV0KICAgICAgICBMaSAtLT4gUFtCaW9tYXRlcmlhbHNdCiAgICAgICAgTGkgLS0+IElbRGVwb2x5bWVyaXNhdGlvbl0KICAgICAgICBMaSAtLT4gSltQeXJvbHlzaXNdCiAgICAgICAgTGkgLS0+IEtbR2FzaWZpY2F0aW9uXQogICAgICAgIEkgLS0+IE0KICAgICAgICBKIC0tPiBQZ1tQeXJvbGl0Y0dhc10KICAgICAgICBLIC0tPiBTZ1tTeW5nYXNdCiAgICA=\"/>"
      ],
      "text/plain": [
       "<IPython.core.display.Image object>"
      ]
     },
     "metadata": {},
     "output_type": "display_data"
    },
    {
     "name": "stdout",
     "output_type": "stream",
     "text": [
      "Pathway F\n"
     ]
    },
    {
     "data": {
      "text/html": [
       "<img src=\"https://mermaid.ink/img/CiAgICBncmFwaCBURAogICAgICAgIEFbR3JlZW4gQmlvbWFzc10gLS0+IEJbUHJlc3NpbmddCiAgICAgICAgQiAtLT4gT0ZbT3JnYW5pYyBGaWJlcnNdCiAgICAgICAgQiAtLT4gT0pbT3JnYW5pYyBKdWljZV0KICAgICAgICBPUltPcmdhbmljIFJlc2lkdWVzXSAtLT4gQwogICAgICAgIE9KIC0tPiBDW0FuYWVyb2JpYyBEaWdlc3Rpb25dCiAgICAgICAgT0ogLS0+IERbRXh0cmFjdGlvbl0KICAgICAgICBEIC0tPiBDCiAgICAgICAgQyAtLT4gQmdbQmlvZ2FzXQogICAgICAgIEMgLS0+IExbRmVydGlsaXplcl0KICAgICAgICBPRiAtLT4gRVtQcmV0cmVhdG1lbnRdCiAgICAgICAgRSAtLT4gRltIeWRyb2x5c2lzXQogICAgICAgIEYgLS0+IENTW0M2IFN1Z2Fyc10KICAgICAgICBCZyAtLT4gR1tDb2dlbmVyYXRpb25dCiAgICAgICAgQmcgLS0+IEhbVXBncmFkaW5nXQogICAgICAgIENTIC0tPiBJW0Zlcm1lbnRhdGlvbl0KICAgICAgICBHIC0tPiBKW0hlYXQgJiBFbGVjdHJpY2l0eV0KICAgICAgICBIIC0tPiBLW0Jpb21ldGhhbmVdCiAgICAgICAgRCAtLT4gTVtOdXRyYWNldXRpY2Fsc10KICAgICAgICBJIC0tPiBOW0NoZW1pY2FsIFByb2R1Y3RzXQogICAgICAgIEkgLS0+IE9bQmlvZXRoYW5vbF0KICAgICAgICBPRiAtLT4gUFtCaW9tYXRlcmlhbHNdCiAgICA=\"/>"
      ],
      "text/plain": [
       "<IPython.core.display.Image object>"
      ]
     },
     "metadata": {},
     "output_type": "display_data"
    },
    {
     "name": "stdout",
     "output_type": "stream",
     "text": [
      "Pathway I\n"
     ]
    },
    {
     "data": {
      "text/html": [
       "<img src=\"https://mermaid.ink/img/CiAgICBncmFwaCBURAogICAgICAgIEFbTGlnbm9jZWxsdWxvc2ljIEJpb21hc3MgTVNXXSAtLT4gQltQcmV0cmVhdG1lbnRdCiAgICAgICAgQiAtLT4gQ1tHYXNpZmljYXRpb25dCiAgICAgICAgQyAtLT4gU2dbU3luZ2FzXQogICAgICAgIFNnIC0tPiBEW0NvZ2VuZXJhdGlvbl0KICAgICAgICBTZyAtLT4gRVtHYXMgQ2xlYW5pbmcgYW5kIENvbmRpdGlvbmluZ10KICAgICAgICBEIC0tPiBIRVtIZWF0ICYgRWxldHJjaXRpdHldCiAgICAgICAgRSAtLT4gTjEoICkKICAgICAgICBOMSAtLT4gTVtNZXRoYW5vbCBTeW50aGVzaXNdCiAgICAgICAgTjEgLS0+IEZbV2F0ZXIgR2FzIFNoaWZ0ICsgU2VwYXJhdGlvbi9QdXJpZmljYXRpb10KICAgICAgICBOMSAtLT4gR1tDYXRhbHl0aWMgQ29udmVyc2lvbl0KICAgICAgICBOMSAtLT4gSFtGZXJtZW50YXRpb25dCiAgICAgICAgTjEgLS0+IElbTWV0aGFuYXRpb25dCiAgICAgICAgTjEgLS0+IEpbRi1UIFN5bnRoZXNpc10KICAgICAgICBNIC0tPiBPW01ldGhhbm9sXQogICAgICAgIE8gLS0+IFBbQmlvZnVlbHNdCiAgICAgICAgTyAtLT4gUVtDaGVtaWNhbHNdCiAgICAgICAgSiAtLT4gTFtVcGdyYWRpbmddCiAgICAgICAgRiAtLT4gTltIeWRyb2dlbl0KICAgICAgICBHIC0tPiBUW0Jpb2V0aGFub2wgJiBIaWdoZXIgQWxjb2hvbHNdCiAgICAgICAgSCAtLT4gVAogICAgICAgIEkgLS0+IFZbQmlvbWV0aGFuZV0KICAgICAgICBMIC0tPiBXW0YtVCBCaW9mdWVsc10KICAgICAgICBKIC0tPiBYW1dheGVzXQogICAg\"/>"
      ],
      "text/plain": [
       "<IPython.core.display.Image object>"
      ]
     },
     "metadata": {},
     "output_type": "display_data"
    },
    {
     "name": "stdout",
     "output_type": "stream",
     "text": [
      "Pathway J\n"
     ]
    },
    {
     "data": {
      "text/html": [
       "<img src=\"https://mermaid.ink/img/CiAgICBncmFwaCBURAogICAgICAgIEFbTGlnbm9jZWxsdWxvc2ljIEJpb21hc3NdIC0tPiBCW1B5cm9seXNpc10KICAgICAgICBCIC0tPiBQTFtQeXJvbGl0aWMgTGlxdWlkXQogICAgICAgIEIgLS0+IEJjW0Jpb2NoYXJdCiAgICAgICAgUEwgLS0+IENbQ29nZW5lcmF0aW9uXQogICAgICAgIFBMIC0tPiBEW0dhc2lmaWNhdGlvbl0KICAgICAgICBQTCAtLT4gRVtIeWRyb2Rlb3h5Z2VuYXRpb25dCiAgICAgICAgUEwgLS0+IEdbRG93bnN0cmVhbSBQcm9jZXNzaW5nXQogICAgICAgIEMgLS0+IEhFW0hlYXQgJiBFbGV0cmljaXR5XQogICAgICAgIEQgLS0+IFNnW1N5bmdhc10KICAgICAgICBFIC0tPiBGW0NvLVByb2Nlc3NpbmcgaW4gUGV0cm9sZXVtIFJlZmluZXJ5XQogICAgICAgIEYgLS0+IEhbQmlvZnVlbHNdCiAgICAgICAgRiAtLT4gSVtDaGVtaWNhbHNdCiAgICAgICAgRyAtLT4gSQogICAgICAgIEcgLS0+IEpbQmlvbWF0ZXJpYWxzXQogICAgICAgIEJjIC0tPiBTQVtTb2lsIEFtbWVuZG1lbnRdCiAgICAgICAgQmMgLS0+IEhFCiAgICA=\"/>"
      ],
      "text/plain": [
       "<IPython.core.display.Image object>"
      ]
     },
     "metadata": {},
     "output_type": "display_data"
    },
    {
     "name": "stdout",
     "output_type": "stream",
     "text": [
      "Pathway K\n"
     ]
    },
    {
     "data": {
      "text/html": [
       "<img src=\"https://mermaid.ink/img/CiAgICBncmFwaCBURAogICAgICAgIEFbTGlnbm9jZWxsdWxvc2ljL2FxdWF0aWMgQmlvbWFzcyAmIFdhc3RlXSAtLT4gQltIeWRyb3RoZXJtYWwgTGlxdWVmYWN0aW9uXQogICAgICAgIEIgLS0+IENbQmlvLWNydWRlXQogICAgICAgIEMgLS0+IERbVXBncmFkaW5nIC0gZS5nLiBIeWRyb3RyZWF0aW5nXQogICAgICAgIEQgLS0+IEVbQmlvZnVlbHNdCiAgICAgICAgRCAtLT4gRltDaGVtaWNhbHNdCiAgICA=\"/>"
      ],
      "text/plain": [
       "<IPython.core.display.Image object>"
      ]
     },
     "metadata": {},
     "output_type": "display_data"
    },
    {
     "name": "stdout",
     "output_type": "stream",
     "text": [
      "Carbon Caputre\n"
     ]
    },
    {
     "data": {
      "text/html": [
       "<img src=\"https://mermaid.ink/img/CiAgICBncmFwaCBURAogICAgICAgIEJnW0Jpb2dhc10gLS0+IE4xKCApCiAgICAgICAgQVtBaXIvSDJPL08yXSAtLT4gTjEKICAgICAgICBOMSAtLT4gQltCaW9nYXMgVXRpbGl6YXRpb25dCiAgICAgICAgTjEgLS0+IFBbUHVyZ2UgZ2FzIHV0aWxpemF0aW9uXQogICAgICAgIFAgLS0+IERbSHlkcm9nZW5dCiAgICAgICAgUCAtLT4gU2dbU3luZ2FzIEgyL0NPMl0KICAgICAgICBQIC0tPiBIRVtIZWF0ICYgRWxlY3RyaWNpdHldCiAgICAgICAgQiAtLT4gQ1tCaW8tbWV0aGFuZV0KICAgICAgICBTZyAtLT4gSVtUaGVybW9jaGVtaWNhbCBTeW50aGVzaXNdCiAgICAgICAgSSAtLT4gRVtQdXJnZV0KICAgICAgICBFIC0tPiBQCiAgICAgICAgRltGbHVlIGdhc2VzL0Fpcl0gLS0+IENDW0NhcmJvbiBDYXB0dXJlXQogICAgICAgIENDIC0tPiBHW0NhcmJvbiBEaW94aWRlXQogICAgICAgIEcgLS0+IE4yKCApCiAgICAgICAgSFtIMjBdIC0tPiBFbFtFbGVjdHJvbHlzaXNdIAogICAgICAgIEVsIC0tPiBECiAgICAgICAgRCAtLT4gTjIKICAgICAgICBOMiAtLT4gSQogICAgICAgIEkgLS0+IEpbTWV0aGFub2wvIEZpc2NoZXItVHJvcHNjaC1jcnVkZV0KICAgICAgICBKIC0tPiBLW1Byb2R1Y3QgVXBncmFkaW5nXQogICAgICAgIEsgLS0+IExbTGlxdWlkIGZ1ZWxzXQogICAgICAgIEkgLS0+IE1bV2FzdGUgd2F0ZXJdIAogICAgICAgIE0gLS0+IE5bV2FzdGUgd2F0ZXIgdHJlYXRtZW50XQogICAgICAgIE4gLS0+IE9bUmVjeWNsZSB3YXRlci9FZmZsdWVudF0KICAgICAgICBHIC0tPiBDQ1NbQ2FyYm9uIFN0b3JhZ2VdCiAgICA=\"/>"
      ],
      "text/plain": [
       "<IPython.core.display.Image object>"
      ]
     },
     "metadata": {},
     "output_type": "display_data"
    }
   ],
   "source": [
    "\n",
    "for structure in structure_graphs.keys():\n",
    "    print(structure)\n",
    "    draw_structure(structure_graphs[structure])"
   ]
  },
  {
   "cell_type": "markdown",
   "id": "638ee451",
   "metadata": {},
   "source": [
    "* mais recente possível\n",
    "* focar na quantidade não aproveitada\n",
    "* ver 2022\n",
    "* correlação com importação com utilização\n",
    "* tecno-econimic analysis\n",
    "* tabela binaria de pathways\n",
    "* ver obj function, o que adicionar, e as decisões\n",
    "* paths não representativos:\n",
    "- TRL > 7\n",
    "- Literatura (quantidade + operation profit + (custo producao > price) + NPV <= 0)"
   ]
  },
  {
   "cell_type": "code",
   "execution_count": 1,
   "id": "da49d75e",
   "metadata": {},
   "outputs": [],
   "source": [
    "#"
   ]
  },
  {
   "cell_type": "code",
   "execution_count": null,
   "id": "39e233d6",
   "metadata": {},
   "outputs": [],
   "source": []
  }
 ],
 "metadata": {
  "kernelspec": {
   "display_name": "Python 3 (ipykernel)",
   "language": "python",
   "name": "python3"
  },
  "language_info": {
   "codemirror_mode": {
    "name": "ipython",
    "version": 3
   },
   "file_extension": ".py",
   "mimetype": "text/x-python",
   "name": "python",
   "nbconvert_exporter": "python",
   "pygments_lexer": "ipython3",
   "version": "3.10.7"
  }
 },
 "nbformat": 4,
 "nbformat_minor": 5
}
