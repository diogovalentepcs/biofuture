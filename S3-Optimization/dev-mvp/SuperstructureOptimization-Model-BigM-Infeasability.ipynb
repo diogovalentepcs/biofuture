{
 "cells": [
  {
   "cell_type": "markdown",
   "id": "5a7dabe7",
   "metadata": {},
   "source": [
    "# Setting Up"
   ]
  },
  {
   "cell_type": "code",
   "execution_count": 1,
   "id": "05aa11e5",
   "metadata": {},
   "outputs": [],
   "source": [
    "# !pip install pyomo\n",
    "# !pip install gurobipy\n",
    "# !pip install xlsxwriter\n",
    "\n",
    "import pandas as pd\n",
    "import numpy as np\n",
    "import itertools\n",
    "import pyomo.environ as pe\n",
    "import pyomo.gdp as gdp\n",
    "import gurobipy\n",
    "import pyomo.opt as po"
   ]
  },
  {
   "cell_type": "markdown",
   "id": "40fcde13",
   "metadata": {},
   "source": [
    "# Data"
   ]
  },
  {
   "cell_type": "markdown",
   "id": "c6a5691a",
   "metadata": {},
   "source": [
    "## Sets"
   ]
  },
  {
   "cell_type": "code",
   "execution_count": 2,
   "id": "83b82ad1",
   "metadata": {},
   "outputs": [
    {
     "data": {
      "text/plain": [
       "[1, 2, 3, 4, 5, 6, 7, 8, 9, 10]"
      ]
     },
     "execution_count": 2,
     "metadata": {},
     "output_type": "execute_result"
    }
   ],
   "source": [
    "list(range(1, 11))"
   ]
  },
  {
   "cell_type": "code",
   "execution_count": 3,
   "id": "f521f8bf",
   "metadata": {},
   "outputs": [],
   "source": [
    "sets = {\n",
    "    # \"S\"     : [\"x1\", \"x2\", ...],  # Indices for supply geogpraphies\n",
    "    # \"X\"     : [\"x1\", \"x2\", ...],  # Indices for plant site locations\n",
    "    # \"M\"     : [\"m1\", \"m2\", ...],  # Indices for markets\n",
    "    \"T\"       : [1],  # Indices for periods (10 years)\n",
    "    \"F\"       : [\"Bstraw\", \"Wstraw\"],  # Indices for feedstocks\n",
    "    \"C\"       : [],  # Indices for components\n",
    "    \"C_Solid\" : [\"Cellulose\", \"Hemicellulose\", \"Lignin\"],  # Indices for solid components\n",
    "    \"C_Liquid\": [\"Xylose\", \"Glucose\"],  # Indices for liquid components\n",
    "    \n",
    "    \"BP\"      : ['Succinic Acid'\n",
    "                 #,'Glycolic Acid','Formic Acid','Acetic Acid','Phenolic','Furfural','HMF'\n",
    "                ],  # Indices for by-products\n",
    "    \n",
    "    \"U\"       : ['H2SO4 kg'\n",
    "                 #,'Water kg','Ammonia kg','Ionic Liquid mat. kg','Lime mat. kg'\n",
    "                ],  # Indices for utilities\n",
    "    \n",
    "    \"K\"       : [],  # Indices for process options\n",
    "    \"K_prep\"  : ['MILL3mm'\n",
    "                 #,'MILL1.4mm','MILL10mm','MILL0.853mm','MILL0.15mm'\n",
    "                ],  # Indices for preprocessing options\n",
    "    \n",
    "    \"K_pret\"  : ['Dilute Acid','LHW','AFEX','Steam Explosion','Lime','Ionic Liquid'],  # Indices for pretreatment options\n",
    "    \n",
    "    \"K_conv\"  : ['SHF','SSF','SHCF','SSCF'],  # Indices for fermentation options\n",
    "    \n",
    "    \"K_pur\"   : [\"Reactive Extraction\", 'Precipitation', 'Electrodialysis', 'Direct Crystalization', 'Azeotropic Dist', 'Extraction', 'Absorption'],  # Indices for purification options\n",
    "    \n",
    "    \"J\"       : [\"Strain1\",\"Strain2\",\"Strain3\",\"Strain4\",\"Strain5\",\"Strain6 \",\"Strain7\",\"Strain8\",\"Strain9\" \n",
    "                 #\"8G-3\", \"SPT2OE\", \"Y2034\", \"Angle\", \"CRD51\", \"MD4\", \"TP50\", \"SR8/TFP3-XI76\", \"SR8/TFP3-XI76\"\n",
    "                ],  # Indices for fermentation strains\n",
    "    \n",
    "    \"P\"       : ['Ethanol', 'Lactic Acid', 'Succinic Acid'],  # Indices for final products\n",
    "    \n",
    "    \"Q\"       : [10**6]  # Indices for technology capacity levels\n",
    "}\n",
    "\n",
    "sets[\"C\"] = sets[\"C_Solid\"]  + sets[\"C_Liquid\"] \n",
    "sets[\"K\"] = sets[\"K_prep\"]  + sets[\"K_pret\"] + sets[\"K_conv\"] + sets[\"K_pur\"]"
   ]
  },
  {
   "cell_type": "markdown",
   "id": "b046421e",
   "metadata": {},
   "source": [
    "## Parameters\n",
    "\n",
    "Most parameters are indexed across different sets. To improve decision-maker interaction, the parametric tables over different sets are created with all possible combinations of the sets but empty values for the parameter and exported as excel files for easy inputs"
   ]
  },
  {
   "cell_type": "code",
   "execution_count": 4,
   "id": "6d87dfde",
   "metadata": {},
   "outputs": [],
   "source": [
    "# Funciton for create the dataframe from the cartesian product of specific sets\n",
    "def create_parametric_df(sets):\n",
    "    df = pd.DataFrame(itertools.product(*sets.values()), columns=sets.keys())\n",
    "    # drop duplicated rows\n",
    "    df = df.drop_duplicates().reset_index(drop=True)\n",
    "    # Create an empty value columns\n",
    "    df.loc[:, 'Value'] = np.nan\n",
    "    # Input 0 in impossible combinations (relevant for yields as you can't convert cellulose into cellulose)\n",
    "    # Identify rows where a value in a column is equal to a value in another column for all columns\n",
    "    equal_values_rows = df[df.apply(lambda row: len(set(row)) < len(row), axis = 1)]\n",
    "    # Cahnge value for identified rows\n",
    "    df.loc[equal_values_rows.index, \"Value\"] = 0\n",
    "    return df\n",
    "\n",
    "def create_compatability_dic():\n",
    "    \n",
    "    # Dictionary to store the DataFrames\n",
    "    dfs = {}\n",
    "\n",
    "    # Compatability Preprocessing with Pretreatment\n",
    "    dfs['Compatibility_Pretreatment'] = create_parametric_df({'K_prep' : sets['K_prep'], 'K_pret' : sets['K_pret']})\n",
    "    \n",
    "    # Compatability Pretreatment, Conversion, Fermentation Strain, Component and Product   \n",
    "    dfs['Conversion_Matrix_Pret_Conv'] = create_parametric_df({'K_pret': sets['K_pret'], 'K_conv': sets['K_conv']})\n",
    "    dfs['Conversion_Matrix_C_Conv'] = create_parametric_df({'C': sets['C'], 'K_conv': sets['K_conv']})\n",
    "    dfs['Conversion_Matrix_Conv_J'] = create_parametric_df({'K_conv': sets['K_conv'], 'J': sets['J']})\n",
    "    dfs['Conversion_Matrix_J_P'] = create_parametric_df({'J': sets['J'], 'P': sets['P']})\n",
    "    dfs['Conversion_Matrix_C_P'] = create_parametric_df({'C': sets['C'], 'P': sets['P']})\n",
    "    dfs['Conversion_Matrix_Conv_P'] = create_parametric_df({'K_conv': sets['K_conv'], 'P': sets['P']})\n",
    "    \n",
    "    dfs['Compatibility_Purification'] = create_parametric_df({'P': sets['P'], 'K_pur': sets['K_pur']})\n",
    "\n",
    "    return dfs\n",
    "\n",
    "def create_parametric_dic(compat_dfs):\n",
    "    # Dictionary to store the DataFrames\n",
    "    dfs = {}\n",
    "\n",
    "    # Generate DataFrames and store them in the dictionary\n",
    "    dfs['Cost_of_Technology'] = create_parametric_df({'K': sets['K'], 'Q': sets['Q']})\n",
    "    dfs['MinMax_Flows'] = create_parametric_df({'Flow': ['IN', 'OUT'], 'MinMax': ['Min', 'Max'], 'K': sets['K'], 'Q': sets['Q']})\n",
    "    dfs['Utility_Consumption'] = create_parametric_df({'U': sets['U'], 'K': sets['K']})\n",
    "    dfs['Byproduct_Production'] = create_parametric_df({'BP': sets['BP'], 'K': sets['K']})\n",
    "    dfs['Feedstock_Composition'] = create_parametric_df({'C': sets['C'], 'F': sets['F']})\n",
    "    \n",
    "    dfs['Compatibility_Pretreatment'] = compat_dfs['Compatibility_Pretreatment']\n",
    "    dfs['Yield_Pretreatment'] = create_parametric_df({'C': sets['C'], 'K_pret': sets['K_pret']})\n",
    "    \n",
    "    # Compatability Conversion\n",
    "    df = pd.merge(compat_dfs['Conversion_Matrix_Pret_Conv'], compat_dfs['Conversion_Matrix_C_Conv'], on = \"K_conv\", how = \"outer\")\n",
    "    df[\"Value\"] = df.Value_x * df.Value_y\n",
    "    df = df[df[\"Value\"] != 0].drop(['Value_x', 'Value_y'], axis = 1)\n",
    "    df = df.merge(compat_dfs['Conversion_Matrix_Conv_J'], on = \"K_conv\", how = \"left\")\n",
    "    df[\"Value\"] = df.Value_x * df.Value_y\n",
    "    df = df[df[\"Value\"] != 0].drop(['Value_x', 'Value_y'], axis = 1)\n",
    "    df = df.merge(compat_dfs['Conversion_Matrix_J_P'], on = \"J\", how = \"left\")\n",
    "    df[\"Value\"] = df.Value_x * df.Value_y\n",
    "    df = df[df[\"Value\"] != 0].drop(['Value_x', 'Value_y'], axis = 1)\n",
    "    df = df.merge(compat_dfs['Conversion_Matrix_C_P'], on = [\"C\", \"P\"], how = \"left\")\n",
    "    df[\"Value\"] = df.Value_x * df.Value_y\n",
    "    df = df[df[\"Value\"] != 0].drop(['Value_x', 'Value_y'], axis = 1)\n",
    "    df = df.merge(compat_dfs['Conversion_Matrix_Conv_P'], on = [\"K_conv\", \"P\"], how = \"left\")\n",
    "    df[\"Value\"] = df.Value_x * df.Value_y\n",
    "    df = df[df[\"Value\"] != 0].drop(['Value_x', 'Value_y'], axis = 1)\n",
    "\n",
    "    df = df[['C', 'K_pret', 'K_conv', 'J', 'P', 'Value']]\n",
    "\n",
    "    dfs['Compatibility_Conversion'] = df\n",
    "    \n",
    "    dfs['Yield_Hydrolysis'] = df[['K_conv', 'K_pret', 'C', 'P', 'Value']].drop_duplicates().reset_index(drop=True).sort_values(['K_conv', 'K_pret', 'C', 'P'])\n",
    "    dfs['Yield_Conversion'] = df[[ 'P', 'C', 'K_conv', 'J', 'Value']].drop_duplicates().reset_index(drop=True).sort_values(['J', 'P', 'C', 'K_conv'])\n",
    "    \n",
    "    dfs['Solid_Loading'] = create_parametric_df({'K_conv' : sets['K_conv']})\n",
    "\n",
    "    dfs['Compatibility_Purification'] = compat_dfs['Compatibility_Purification']\n",
    "    \n",
    "    dfs['Yield_Purification'] = dfs['Compatibility_Purification'][dfs['Compatibility_Purification'].Value != 0].copy()\n",
    "    dfs['Depreciation_Factor'] = create_parametric_df({'T' : sets['T']})\n",
    "    dfs['Operating_Cost'] = dfs['Depreciation_Factor'].copy()\n",
    "    dfs['Maintenance_Cost'] = dfs['Depreciation_Factor'].copy()\n",
    "    dfs['Demand'] = create_parametric_df({'P': sets['P'], 'T': sets['T']})\n",
    "    dfs['Supply'] = create_parametric_df({'F': sets['F'], 'T': sets['T']})\n",
    "    dfs['Price_F'] = create_parametric_df({'F': sets['F'], 'T': sets['T']})\n",
    "    dfs['Price_U'] = create_parametric_df({'U': sets['U'], 'T': sets['T']})\n",
    "    dfs['Price_P'] = create_parametric_df({'P': sets['P'], 'T': sets['T']})\n",
    "\n",
    "    return dfs\n",
    "\n",
    "def create_compatability_excel(xls_path = \"CompatabilityMatrices.xlsx\"):\n",
    "    dfs = create_compatability_dic()\n",
    "    writer = pd.ExcelWriter(xls_path, engine='xlsxwriter')\n",
    "    for name, df in dfs.items():\n",
    "        df.to_excel(writer, sheet_name=name, index = False)\n",
    "    writer.close()\n",
    "    writer.handles = None\n",
    "    return dfs\n",
    "\n",
    "def read_compatability_excel(xls_path = \"CompatabilityMatricesInputs.xlsx\"):\n",
    "\n",
    "    dfs = create_compatability_dic()\n",
    "    excel_dfs = {}\n",
    "    \n",
    "    # Read excel\n",
    "    xls = pd.ExcelFile(xls_path)\n",
    "    for name, df in dfs.items():\n",
    "        excel_df = pd.read_excel(xls, sheet_name=name)\n",
    "        try:\n",
    "            excel_df = excel_df.drop(\"Unnamed: 0\", axis = 1)\n",
    "        except:\n",
    "            pass\n",
    "        \n",
    "        # concat excel df with full df\n",
    "        df = pd.concat([excel_df, dfs[name]]).reset_index(drop=True)\n",
    "        # keep first appearence (coming from excel df) of duplicated values in all columns except Value\n",
    "        df = df.drop_duplicates(subset = df.columns.difference(['Value']), keep='first').reset_index(drop=True)\n",
    "        # change all NA to 0 excpet for solid loading\n",
    "        df.Value = 1 if name in [\"Solid_Loading\"] else df.Value.fillna(0)\n",
    "        \n",
    "        excel_dfs[name] = df\n",
    "    \n",
    "    xls.close()\n",
    "    xls.handles = None\n",
    "    \n",
    "    return excel_dfs\n",
    "\n",
    "def create_parametric_excel(xls_path = \"ParametricTables.xlsx\", compat = None):\n",
    "    \n",
    "    if compat is None:\n",
    "        # Try to get input tables\n",
    "        print(\"No compatabiity tables given. Attempting to retrieve from CompatabilityMatricesInputs.xlsx\")\n",
    "        compat_dfs = read_compatability_excel()\n",
    "    elif type(compat) is str:\n",
    "        compat_dfs = read_compatability_excel(compat)\n",
    "    else:\n",
    "        compat_dfs = compat\n",
    "    \n",
    "    dfs = create_parametric_dic(compat_dfs)\n",
    "    writer = pd.ExcelWriter(xls_path, engine='xlsxwriter')\n",
    "    for name, df in dfs.items():\n",
    "        df.to_excel(writer, sheet_name=name, index = False)\n",
    "    writer.close()\n",
    "    writer.handles = None\n",
    "    return dfs\n",
    "\n",
    "def read_parametric_excel(xls_path, compat = None):\n",
    "    \n",
    "    if compat is None:\n",
    "        # Try to get input tables\n",
    "        print(\"No compatabiity tables given. Attempting to retrieve from CompatabilityMatricesInputs.xlsx\")\n",
    "        compat_dfs = read_compatability_excel()\n",
    "    elif type(compat) is str:\n",
    "        compat_dfs = read_compatability_excel(compat)\n",
    "    else:\n",
    "        compat_dfs = compat\n",
    "        \n",
    "    # Create empty dic to force parameters to be 0 when user accidently forgets certain inputs\n",
    "    dfs = create_parametric_dic(compat_dfs)\n",
    "    \n",
    "    # Read excel\n",
    "    excel_dfs = {}\n",
    "    xls = pd.ExcelFile(xls_path)\n",
    "    for name, df in dfs.items():\n",
    "        excel_df = pd.read_excel(xls, sheet_name=name)\n",
    "        try:\n",
    "            excel_df = excel_df.drop(\"Unnamed: 0\", axis = 1)\n",
    "        except:\n",
    "            pass\n",
    "        # concat excel df with full df\n",
    "        df = pd.concat([excel_df, dfs[name]]).reset_index(drop=True)\n",
    "        # keep first appearence (coming from excel df) of duplicated values in all columns except Value\n",
    "        df = df.drop_duplicates(subset = df.columns.difference(['Value']), keep='first').reset_index(drop=True)\n",
    "        # change all NA to 0 excpet for solid loading\n",
    "        df.Value = 1 if name in [\"Solid_Loading\"] else df.Value.fillna(0)\n",
    "        \n",
    "        excel_dfs[name] = df\n",
    "    xls.close()\n",
    "    xls.handles = None\n",
    "    return excel_dfs"
   ]
  },
  {
   "cell_type": "code",
   "execution_count": 5,
   "id": "0518e708",
   "metadata": {
    "scrolled": true
   },
   "outputs": [
    {
     "name": "stdout",
     "output_type": "stream",
     "text": [
      "No compatabiity tables given. Attempting to retrieve from CompatabilityMatricesInputs.xlsx\n",
      "(37, 5)\n"
     ]
    },
    {
     "data": {
      "text/html": [
       "<div>\n",
       "<style scoped>\n",
       "    .dataframe tbody tr th:only-of-type {\n",
       "        vertical-align: middle;\n",
       "    }\n",
       "\n",
       "    .dataframe tbody tr th {\n",
       "        vertical-align: top;\n",
       "    }\n",
       "\n",
       "    .dataframe thead th {\n",
       "        text-align: right;\n",
       "    }\n",
       "</style>\n",
       "<table border=\"1\" class=\"dataframe\">\n",
       "  <thead>\n",
       "    <tr style=\"text-align: right;\">\n",
       "      <th></th>\n",
       "      <th>P</th>\n",
       "      <th>C</th>\n",
       "      <th>K_conv</th>\n",
       "      <th>J</th>\n",
       "      <th>Value</th>\n",
       "    </tr>\n",
       "  </thead>\n",
       "  <tbody>\n",
       "    <tr>\n",
       "      <th>0</th>\n",
       "      <td>Ethanol</td>\n",
       "      <td>Cellulose</td>\n",
       "      <td>SHF</td>\n",
       "      <td>Strain1</td>\n",
       "      <td>1.0</td>\n",
       "    </tr>\n",
       "    <tr>\n",
       "      <th>9</th>\n",
       "      <td>Ethanol</td>\n",
       "      <td>Hemicellulose</td>\n",
       "      <td>SHF</td>\n",
       "      <td>Strain1</td>\n",
       "      <td>1.0</td>\n",
       "    </tr>\n",
       "    <tr>\n",
       "      <th>18</th>\n",
       "      <td>Ethanol</td>\n",
       "      <td>Xylose</td>\n",
       "      <td>SHF</td>\n",
       "      <td>Strain1</td>\n",
       "      <td>1.0</td>\n",
       "    </tr>\n",
       "    <tr>\n",
       "      <th>1</th>\n",
       "      <td>Ethanol</td>\n",
       "      <td>Cellulose</td>\n",
       "      <td>SHF</td>\n",
       "      <td>Strain2</td>\n",
       "      <td>1.0</td>\n",
       "    </tr>\n",
       "    <tr>\n",
       "      <th>27</th>\n",
       "      <td>Ethanol</td>\n",
       "      <td>Cellulose</td>\n",
       "      <td>SSF</td>\n",
       "      <td>Strain2</td>\n",
       "      <td>1.0</td>\n",
       "    </tr>\n",
       "  </tbody>\n",
       "</table>\n",
       "</div>"
      ],
      "text/plain": [
       "          P              C K_conv        J  Value\n",
       "0   Ethanol      Cellulose    SHF  Strain1    1.0\n",
       "9   Ethanol  Hemicellulose    SHF  Strain1    1.0\n",
       "18  Ethanol         Xylose    SHF  Strain1    1.0\n",
       "1   Ethanol      Cellulose    SHF  Strain2    1.0\n",
       "27  Ethanol      Cellulose    SSF  Strain2    1.0"
      ]
     },
     "execution_count": 5,
     "metadata": {},
     "output_type": "execute_result"
    }
   ],
   "source": [
    "dfs = create_parametric_excel(\"ParametricTables-V1.xlsx\")\n",
    "print(dfs['Yield_Conversion'].shape)\n",
    "dfs['Yield_Conversion'].head()"
   ]
  },
  {
   "cell_type": "code",
   "execution_count": 502,
   "id": "a8f36559",
   "metadata": {
    "scrolled": false
   },
   "outputs": [
    {
     "name": "stdout",
     "output_type": "stream",
     "text": [
      "No compatabiity tables given. Attempting to retrieve from CompatabilityMatricesInputs.xlsx\n",
      "(37, 5)\n"
     ]
    },
    {
     "data": {
      "text/html": [
       "<div>\n",
       "<style scoped>\n",
       "    .dataframe tbody tr th:only-of-type {\n",
       "        vertical-align: middle;\n",
       "    }\n",
       "\n",
       "    .dataframe tbody tr th {\n",
       "        vertical-align: top;\n",
       "    }\n",
       "\n",
       "    .dataframe thead th {\n",
       "        text-align: right;\n",
       "    }\n",
       "</style>\n",
       "<table border=\"1\" class=\"dataframe\">\n",
       "  <thead>\n",
       "    <tr style=\"text-align: right;\">\n",
       "      <th></th>\n",
       "      <th>P</th>\n",
       "      <th>C</th>\n",
       "      <th>K_conv</th>\n",
       "      <th>J</th>\n",
       "      <th>Value</th>\n",
       "    </tr>\n",
       "  </thead>\n",
       "  <tbody>\n",
       "    <tr>\n",
       "      <th>0</th>\n",
       "      <td>Ethanol</td>\n",
       "      <td>Cellulose</td>\n",
       "      <td>SHF</td>\n",
       "      <td>Strain1</td>\n",
       "      <td>0.90</td>\n",
       "    </tr>\n",
       "    <tr>\n",
       "      <th>5</th>\n",
       "      <td>Ethanol</td>\n",
       "      <td>Hemicellulose</td>\n",
       "      <td>SHF</td>\n",
       "      <td>Strain2</td>\n",
       "      <td>0.89</td>\n",
       "    </tr>\n",
       "    <tr>\n",
       "      <th>6</th>\n",
       "      <td>Ethanol</td>\n",
       "      <td>Xylose</td>\n",
       "      <td>SHF</td>\n",
       "      <td>Strain2</td>\n",
       "      <td>0.89</td>\n",
       "    </tr>\n",
       "    <tr>\n",
       "      <th>7</th>\n",
       "      <td>Ethanol</td>\n",
       "      <td>Xylose</td>\n",
       "      <td>SSF</td>\n",
       "      <td>Strain2</td>\n",
       "      <td>0.89</td>\n",
       "    </tr>\n",
       "    <tr>\n",
       "      <th>8</th>\n",
       "      <td>Ethanol</td>\n",
       "      <td>Cellulose</td>\n",
       "      <td>SHCF</td>\n",
       "      <td>Strain3</td>\n",
       "      <td>0.95</td>\n",
       "    </tr>\n",
       "  </tbody>\n",
       "</table>\n",
       "</div>"
      ],
      "text/plain": [
       "         P              C K_conv        J  Value\n",
       "0  Ethanol      Cellulose    SHF  Strain1   0.90\n",
       "5  Ethanol  Hemicellulose    SHF  Strain2   0.89\n",
       "6  Ethanol         Xylose    SHF  Strain2   0.89\n",
       "7  Ethanol         Xylose    SSF  Strain2   0.89\n",
       "8  Ethanol      Cellulose   SHCF  Strain3   0.95"
      ]
     },
     "execution_count": 502,
     "metadata": {},
     "output_type": "execute_result"
    }
   ],
   "source": [
    "dfs = read_parametric_excel(\"ParametricTablesInputs-V1.xlsx\")\n",
    "print(dfs['Yield_Conversion'].shape)\n",
    "dfs['Yield_Conversion'][dfs['Yield_Conversion'].Value != 0].head()"
   ]
  },
  {
   "cell_type": "code",
   "execution_count": 503,
   "id": "67b373e7",
   "metadata": {},
   "outputs": [
    {
     "data": {
      "text/html": [
       "<div>\n",
       "<style scoped>\n",
       "    .dataframe tbody tr th:only-of-type {\n",
       "        vertical-align: middle;\n",
       "    }\n",
       "\n",
       "    .dataframe tbody tr th {\n",
       "        vertical-align: top;\n",
       "    }\n",
       "\n",
       "    .dataframe thead th {\n",
       "        text-align: right;\n",
       "    }\n",
       "</style>\n",
       "<table border=\"1\" class=\"dataframe\">\n",
       "  <thead>\n",
       "    <tr style=\"text-align: right;\">\n",
       "      <th></th>\n",
       "      <th>K_conv</th>\n",
       "      <th>K_pret</th>\n",
       "      <th>C</th>\n",
       "      <th>P</th>\n",
       "      <th>Value</th>\n",
       "    </tr>\n",
       "  </thead>\n",
       "  <tbody>\n",
       "    <tr>\n",
       "      <th>0</th>\n",
       "      <td>SHCF</td>\n",
       "      <td>AFEX</td>\n",
       "      <td>Cellulose</td>\n",
       "      <td>Ethanol</td>\n",
       "      <td>0.7000</td>\n",
       "    </tr>\n",
       "    <tr>\n",
       "      <th>1</th>\n",
       "      <td>SHCF</td>\n",
       "      <td>AFEX</td>\n",
       "      <td>Hemicellulose</td>\n",
       "      <td>Ethanol</td>\n",
       "      <td>0.7000</td>\n",
       "    </tr>\n",
       "    <tr>\n",
       "      <th>2</th>\n",
       "      <td>SHCF</td>\n",
       "      <td>Dilute Acid</td>\n",
       "      <td>Cellulose</td>\n",
       "      <td>Ethanol</td>\n",
       "      <td>1.0123</td>\n",
       "    </tr>\n",
       "    <tr>\n",
       "      <th>3</th>\n",
       "      <td>SHCF</td>\n",
       "      <td>Dilute Acid</td>\n",
       "      <td>Hemicellulose</td>\n",
       "      <td>Ethanol</td>\n",
       "      <td>0.7549</td>\n",
       "    </tr>\n",
       "    <tr>\n",
       "      <th>4</th>\n",
       "      <td>SHCF</td>\n",
       "      <td>Ionic Liquid</td>\n",
       "      <td>Cellulose</td>\n",
       "      <td>Ethanol</td>\n",
       "      <td>0.4560</td>\n",
       "    </tr>\n",
       "  </tbody>\n",
       "</table>\n",
       "</div>"
      ],
      "text/plain": [
       "  K_conv        K_pret              C        P   Value\n",
       "0   SHCF          AFEX      Cellulose  Ethanol  0.7000\n",
       "1   SHCF          AFEX  Hemicellulose  Ethanol  0.7000\n",
       "2   SHCF   Dilute Acid      Cellulose  Ethanol  1.0123\n",
       "3   SHCF   Dilute Acid  Hemicellulose  Ethanol  0.7549\n",
       "4   SHCF  Ionic Liquid      Cellulose  Ethanol  0.4560"
      ]
     },
     "execution_count": 503,
     "metadata": {},
     "output_type": "execute_result"
    }
   ],
   "source": [
    "dfs['Yield_Hydrolysis'].head()"
   ]
  },
  {
   "cell_type": "markdown",
   "id": "91e19ffb",
   "metadata": {},
   "source": [
    "# Model"
   ]
  },
  {
   "cell_type": "markdown",
   "id": "02a4f60b",
   "metadata": {},
   "source": [
    "## Initialiazation"
   ]
  },
  {
   "cell_type": "markdown",
   "id": "d1ba4c53",
   "metadata": {},
   "source": [
    "### Model"
   ]
  },
  {
   "cell_type": "code",
   "execution_count": 518,
   "id": "6cea6422",
   "metadata": {},
   "outputs": [],
   "source": [
    "model = pe.ConcreteModel()\n",
    "bigM = 10**100"
   ]
  },
  {
   "cell_type": "markdown",
   "id": "6cc0a9f7",
   "metadata": {},
   "source": [
    "### Sets"
   ]
  },
  {
   "cell_type": "code",
   "execution_count": 519,
   "id": "0ecded51",
   "metadata": {},
   "outputs": [],
   "source": [
    "# Initialize the sets based on the 'sets' dictionary\n",
    "model.T = pe.Set(initialize=sets['T'])  # Indices for periods\n",
    "model.F = pe.Set(initialize=sets['F'])  # Indices for feedstocks\n",
    "\n",
    "model.C_Solid = pe.Set(initialize=sets['C_Solid'])  # Indices for solid components\n",
    "model.C_Liquid = pe.Set(initialize=sets['C_Liquid'])  # Indices for liquid components\n",
    "model.C = model.C_Solid | model.C_Liquid # Indices for all components\n",
    "\n",
    "model.BP = pe.Set(initialize=sets['BP'])  # Indices for by-products\n",
    "model.U = pe.Set(initialize=sets['U'])  # Indices for utilities\n",
    "\n",
    "model.K_prep = pe.Set(initialize=sets['K_prep'])  # Indices for preprocessing options\n",
    "model.K_pret = pe.Set(initialize=sets['K_pret'])  # Indices for pretreatment options\n",
    "model.K_conv = pe.Set(initialize=sets['K_conv'])  # Indices for fermentation options\n",
    "model.K_pur = pe.Set(initialize=sets['K_pur'])  # Indices for purification options\n",
    "model.K = model.K_prep | model.K_pret | model.K_conv | model.K_pur # Indices for all process options\n",
    "\n",
    "model.J = pe.Set(initialize=sets['J'])  # Indices for fermentation strains\n",
    "model.P = pe.Set(initialize=sets['P'])  # Indices for final products\n",
    "model.Q = pe.Set(initialize=sets['Q'])  # Indices for technology capacity levels\n",
    "\n",
    "# Auxiliary Sets\n",
    "model.Flow = pe.Set(initialize=[\"IN\", \"OUT\"])\n",
    "model.MinMax = pe.Set(initialize=[\"Min\", \"Max\"])\n",
    "model.FCP = pe.Set(initialize=list(sets['F']) + list(sets['C']) + list(sets['P']))"
   ]
  },
  {
   "cell_type": "markdown",
   "id": "1335d648",
   "metadata": {},
   "source": [
    "### Parameters"
   ]
  },
  {
   "cell_type": "code",
   "execution_count": 520,
   "id": "391245e6",
   "metadata": {
    "scrolled": true
   },
   "outputs": [],
   "source": [
    "# Initialize parameters as defined in dfs dictionary: doenst work yet, cant fin a way to initialize coorectly last line\n",
    "\n",
    "# A function to determine the indexing sets of a given dataframe based on the columns\n",
    "def determine_indexing_sets(df):\n",
    "    return tuple(col for col in df.columns if col != \"Value\")\n",
    "\n",
    "def initialize_parameters(parameter_dfs):\n",
    "    # Loop through the paramneter dfs and initialize parameters\n",
    "    for df_name, df in parameter_dfs.items():\n",
    "        index_sets = determine_indexing_sets(df)\n",
    "        # Pyomo only accepts dict {(colum A, B, C) : Value, next row}\n",
    "        param_init_dict = df.set_index([*index_sets]).Value.to_dict()\n",
    "\n",
    "        model_sets = tuple(getattr(model, index_set) for index_set in index_sets)\n",
    "        setattr(model, df_name, pe.Param(model.P, model.T, initialize=param_init_dict, within='Any'))\n",
    "\n",
    "#initialize_parameters(read_parametric_excel(\"ParametricTables.xlsx\"))"
   ]
  },
  {
   "cell_type": "markdown",
   "id": "2d7de8e4",
   "metadata": {},
   "source": [
    "## Defining Variables"
   ]
  },
  {
   "cell_type": "code",
   "execution_count": null,
   "id": "a8d23e68",
   "metadata": {},
   "outputs": [],
   "source": []
  },
  {
   "cell_type": "markdown",
   "id": "3f0d1d5d",
   "metadata": {},
   "source": [
    "### Binary Variables"
   ]
  },
  {
   "cell_type": "markdown",
   "id": "96944bcc",
   "metadata": {},
   "source": [
    "### Continuous Variables"
   ]
  },
  {
   "cell_type": "code",
   "execution_count": 521,
   "id": "18c00bf0",
   "metadata": {},
   "outputs": [],
   "source": [
    "# Parameters\n",
    "\n",
    "# Feedstock_Composition\n",
    "parameter_dict = dfs['Feedstock_Composition'].set_index(['C', 'F']).Value.to_dict()\n",
    "model.Feedstock_Composition = pe.Param(model.C, model.F, initialize=parameter_dict, default=0)\n",
    "# Yield_Pretreatment\n",
    "parameter_dict = dfs['Yield_Pretreatment'].set_index(['C', 'K_pret']).Value.to_dict()\n",
    "model.Yield_Pretreatment = pe.Param(model.C, model.K_pret, initialize=parameter_dict, default=0)\n",
    "# Yield_Conversion\n",
    "parameter_dict = dfs['Yield_Conversion'][['P', 'C', 'K_conv', 'J', \"Value\"]].set_index(['P', 'C', 'K_conv', 'J']).Value.to_dict()\n",
    "model.Yield_Conversion = pe.Param(model.P, model.C, model.K_conv, model.J, initialize=parameter_dict, default=0)\n",
    "# Yield_Purification \n",
    "parameter_dict = dfs['Yield_Purification'].set_index(['P', 'K_pur']).Value.to_dict()\n",
    "model.Yield_Purification = pe.Param(model.P, model.K_pur, initialize=parameter_dict, default=0)\n",
    "# Demand\n",
    "parameter_dict = dfs['Demand'].set_index(['P', 'T']).Value.to_dict()\n",
    "model.Demand = pe.Param(model.P, model.T, initialize=parameter_dict, default=0)\n",
    "# Supply\n",
    "parameter_dict = dfs['Supply'].set_index(['F', 'T']).Value.to_dict()\n",
    "model.Supply = pe.Param(model.F, model.T, initialize=parameter_dict, default=0)\n",
    "\n",
    "# Decision Variables (inflows)\n",
    "\n",
    "# Quantity of feedstock f going into preprocessing k_prep at period t\n",
    "model.F_in_prep = pe.Var(model.F, model.K_prep, model.T, domain=pe.NonNegativeReals)\n",
    "# Quantity of feedstock f going out of preprocessing k_prep at period t\n",
    "model.F_out_prep = pe.Var(model.F, model.K_prep, model.T, domain=pe.NonNegativeReals)\n",
    "\n",
    "# Quantity of feedstock f going into pretreatment k_pret at period t\n",
    "model.F_in_pret = pe.Var(model.F, model.K_pret, model.T, domain=pe.NonNegativeReals)\n",
    "# Quantity of component c going out of pretreatment k_pret at period t\n",
    "model.F_out_pret = pe.Var(model.C, model.K_pret, model.T, domain=pe.NonNegativeReals)\n",
    "\n",
    "# Quantity of component c going into conversion k_conv with fermentation strain j at period t to produce product p\n",
    "model.F_in_conv = pe.Var(model.C, model.P, model.K_conv, model.J, model.T, domain=pe.NonNegativeReals)\n",
    "# Quantity of product p going out of conversion k_conv with fermentation strain j at period t from component c\n",
    "model.F_out_conv = pe.Var(model.C, model.P, model.K_conv, model.J, model.T, domain=pe.NonNegativeReals)\n",
    "\n",
    "# Quantity of product p going into purification k_conv at period t\n",
    "model.F_in_pur = pe.Var(model.P, model.K_pur, model.T, domain=pe.NonNegativeReals)\n",
    "\n",
    "# Quantity of product p going out of purification k_pur at period t\n",
    "model.F_out_pur = pe.Var(model.P, model.K_pur, model.T, domain=pe.NonNegativeReals)\n",
    "\n",
    "\n",
    "\n",
    "\n"
   ]
  },
  {
   "cell_type": "code",
   "execution_count": 522,
   "id": "749cbf87",
   "metadata": {},
   "outputs": [
    {
     "data": {
      "text/plain": [
       "0.9"
      ]
     },
     "execution_count": 522,
     "metadata": {},
     "output_type": "execute_result"
    }
   ],
   "source": [
    "model.Yield_Conversion[\"Ethanol\", \"Cellulose\", \"SHF\", \"Strain1\"]"
   ]
  },
  {
   "cell_type": "code",
   "execution_count": 523,
   "id": "1f5ffd2e",
   "metadata": {},
   "outputs": [
    {
     "name": "stdout",
     "output_type": "stream",
     "text": [
      "Supply : Size=2, Index=Supply_index, Domain=Any, Default=0, Mutable=False\n",
      "    Key           : Value\n",
      "    ('Bstraw', 1) :   5.0\n",
      "    ('Wstraw', 1) :   5.0\n"
     ]
    }
   ],
   "source": [
    "model.Supply.pprint()"
   ]
  },
  {
   "cell_type": "markdown",
   "id": "a6ac69bc",
   "metadata": {},
   "source": [
    "## Constraint Formulation"
   ]
  },
  {
   "cell_type": "markdown",
   "id": "e1e20dcb",
   "metadata": {},
   "source": [
    "### Operational Comstraints (2nd Stage): General"
   ]
  },
  {
   "cell_type": "code",
   "execution_count": 524,
   "id": "1d1b388c",
   "metadata": {},
   "outputs": [],
   "source": [
    "# Mass Balances\n",
    "\n",
    "model.Mass_Balances = pe.ConstraintList()\n",
    "for t in model.T:\n",
    "    # Between Processes\n",
    "    for f in model.F:\n",
    "        model.Mass_Balances.add(model.F_in_prep[f, k_prep, t] <= model.Supply[f, t])\n",
    "        model.Mass_Balances.add(sum(model.F_in_pret[f, k, t] for k in model.K_pret) == sum(model.F_out_prep[f, k, t] for k in model.K_prep))\n",
    "    for c in model.C:\n",
    "        model.Mass_Balances.add(sum(model.F_in_conv[c, p, k, j, t] for p in model.P for k in model.K_conv for j in model.J) == sum(model.F_out_pret[c, k, t] for k in model.K_pret))     \n",
    "    \n",
    "    for p in model.P:\n",
    "        model.Mass_Balances.add(sum(model.F_in_pur[p, k, t] for k in model.K_pur) == sum(model.F_out_conv[c, p, k, j, t] for c in model.C for k in model.K_conv for j in model.J))\n",
    "        model.Mass_Balances.add(sum(model.F_out_pur[p, k, t] for k in model.K_pur) <= model.Demand[p, t])\n",
    "\n",
    "    # In Processes (Transformations)\n",
    "    for f in model.F:\n",
    "        for k_prep in model.K_prep:\n",
    "            model.Mass_Balances.add(model.F_out_prep[f, k_prep, t]== model.F_in_prep[f, k_prep, t])\n",
    "    for k_pret in model.K_pret:\n",
    "        for c in model.C:\n",
    "            model.Mass_Balances.add(model.F_out_pret[c, k_pret, t] == sum(model.F_in_pret[f, k_pret, t]  * model.Feedstock_Composition[c, f] for f in model.F) * model.Yield_Pretreatment[c, k_pret])\n",
    "    for p in model.P:\n",
    "        for c in model.C:\n",
    "            for j in model.J:\n",
    "                for k_conv in model.K_conv:\n",
    "                    model.Mass_Balances.add(model.F_out_conv[c, p, k_conv, j, t] == model.F_in_conv[c, p, k_conv, j, t] * model.Yield_Conversion[p, c, k_conv, j])\n",
    "        for k_pur in model.K_pur:\n",
    "            model.Mass_Balances.add(model.F_out_pur[p, k_pur, t] == model.F_in_pur[p, k_pur, t] * model.Yield_Purification[p, k_pur])\n"
   ]
  },
  {
   "cell_type": "code",
   "execution_count": 525,
   "id": "415d4428",
   "metadata": {},
   "outputs": [
    {
     "name": "stdout",
     "output_type": "stream",
     "text": [
      "Yield_Pretreatment : Size=30, Index=Yield_Pretreatment_index, Domain=Any, Default=0, Mutable=False\n",
      "    Key                                  : Value\n",
      "                   ('Cellulose', 'AFEX') :   0.9941\n",
      "            ('Cellulose', 'Dilute Acid') :    0.895\n",
      "           ('Cellulose', 'Ionic Liquid') :   0.8746\n",
      "                    ('Cellulose', 'LHW') :   0.9221\n",
      "                   ('Cellulose', 'Lime') :    0.968\n",
      "        ('Cellulose', 'Steam Explosion') :   0.8068\n",
      "                     ('Glucose', 'AFEX') :    0.019\n",
      "              ('Glucose', 'Dilute Acid') :   0.1133\n",
      "             ('Glucose', 'Ionic Liquid') :      0.0\n",
      "                      ('Glucose', 'LHW') :      0.0\n",
      "                     ('Glucose', 'Lime') :  0.00268\n",
      "          ('Glucose', 'Steam Explosion') :   0.0233\n",
      "               ('Hemicellulose', 'AFEX') :   0.6491\n",
      "        ('Hemicellulose', 'Dilute Acid') :    0.026\n",
      "       ('Hemicellulose', 'Ionic Liquid') :   0.4256\n",
      "                ('Hemicellulose', 'LHW') :      0.0\n",
      "               ('Hemicellulose', 'Lime') :    0.543\n",
      "    ('Hemicellulose', 'Steam Explosion') :   0.3986\n",
      "                      ('Lignin', 'AFEX') :   0.7119\n",
      "               ('Lignin', 'Dilute Acid') :     0.95\n",
      "              ('Lignin', 'Ionic Liquid') :   0.2283\n",
      "                       ('Lignin', 'LHW') :   1.0563\n",
      "                      ('Lignin', 'Lime') :   0.4578\n",
      "           ('Lignin', 'Steam Explosion') :   0.7303\n",
      "                      ('Xylose', 'AFEX') : 0.000657\n",
      "               ('Xylose', 'Dilute Acid') :    1.022\n",
      "              ('Xylose', 'Ionic Liquid') :      0.0\n",
      "                       ('Xylose', 'LHW') :      0.0\n",
      "                      ('Xylose', 'Lime') :      0.0\n",
      "           ('Xylose', 'Steam Explosion') :   0.1708\n"
     ]
    }
   ],
   "source": [
    "model.Yield_Pretreatment.pprint()"
   ]
  },
  {
   "cell_type": "markdown",
   "id": "83ecc7cf",
   "metadata": {},
   "source": [
    "## Objective Functions"
   ]
  },
  {
   "cell_type": "code",
   "execution_count": 526,
   "id": "c83f6220",
   "metadata": {},
   "outputs": [],
   "source": [
    "model.Objective_function = pe.Objective(rule = sum(model.Demand[p, t] - sum((model.F_out_pur[p, k, t] for k in model.K_pur)) for p in model.P for t in model.T),\n",
    "                                        sense = pe.minimize)\n"
   ]
  },
  {
   "cell_type": "code",
   "execution_count": 527,
   "id": "8a97be07",
   "metadata": {},
   "outputs": [
    {
     "name": "stdout",
     "output_type": "stream",
     "text": [
      "Demand : Size=3, Index=Demand_index, Domain=Any, Default=0, Mutable=False\n",
      "    Key                  : Value\n",
      "          ('Ethanol', 1) :   5.0\n",
      "      ('Lactic Acid', 1) :   5.0\n",
      "    ('Succinic Acid', 1) :   5.0\n"
     ]
    }
   ],
   "source": [
    "model.Demand.pprint()"
   ]
  },
  {
   "cell_type": "markdown",
   "id": "60bc3ebc",
   "metadata": {},
   "source": [
    "# Model Solve"
   ]
  },
  {
   "cell_type": "code",
   "execution_count": 529,
   "id": "27d3beb6",
   "metadata": {},
   "outputs": [
    {
     "name": "stdout",
     "output_type": "stream",
     "text": [
      "# ==========================================================\n",
      "# = Solver Results                                         =\n",
      "# ==========================================================\n",
      "# ----------------------------------------------------------\n",
      "#   Problem Information\n",
      "# ----------------------------------------------------------\n",
      "Problem: \n",
      "- Name: x1\n",
      "  Lower bound: 8.584651087792189\n",
      "  Upper bound: 8.584651087792189\n",
      "  Number of objectives: 1\n",
      "  Number of constraints: 608\n",
      "  Number of variables: 1156\n",
      "  Number of binary variables: 0\n",
      "  Number of integer variables: 0\n",
      "  Number of continuous variables: 1156\n",
      "  Number of nonzeros: 1833\n",
      "  Sense: minimize\n",
      "# ----------------------------------------------------------\n",
      "#   Solver Information\n",
      "# ----------------------------------------------------------\n",
      "Solver: \n",
      "- Status: ok\n",
      "  Return code: 0\n",
      "  Message: Model was solved to optimality (subject to tolerances), and an optimal solution is available.\n",
      "  Termination condition: optimal\n",
      "  Termination message: Model was solved to optimality (subject to tolerances), and an optimal solution is available.\n",
      "  Wall time: 0.0\n",
      "  Error rc: 0\n",
      "  Time: 0.13711142539978027\n",
      "# ----------------------------------------------------------\n",
      "#   Solution Information\n",
      "# ----------------------------------------------------------\n",
      "Solution: \n",
      "- number of solutions: 0\n",
      "  number of solutions displayed: 0\n"
     ]
    }
   ],
   "source": [
    "solver = po.SolverFactory(\"gurobi\", olver_io=\"python\")\n",
    "solver_parameters = \"ResultFile=iismodel.ilp\" # write an ILP file to print the IIS\n",
    "results = solver.solve(model, options_string=solver_parameters)\n",
    "results.write()\n",
    "print_vars()\n"
   ]
  },
  {
   "cell_type": "code",
   "execution_count": 297,
   "id": "e755773e",
   "metadata": {},
   "outputs": [],
   "source": [
    "import json\n",
    "var_mapping = {}\n",
    "index = 1  # Start index at 1, assuming Gurobi's first variable is x1\n",
    "\n",
    "for v in model.component_objects(pe.Var, active=True):\n",
    "    for index_within_v in v:\n",
    "        var_mapping[f\"x{index}\"] = f\"{v.name}[{index_within_v}]\"\n",
    "        index += 1\n",
    "\n",
    "with open('var_mapping.json', 'w') as fp:\n",
    "    json.dump(var_mapping, fp)\n",
    "    \n",
    "constraint_mapping = {}\n",
    "index = 1  # Start index at 1, assuming Gurobi's first variable is x1\n",
    "\n",
    "for v in model.component_objects(pe.Constraint, active=True):\n",
    "    for index_within_v in v:\n",
    "        constraint_mapping[f\"x{index}\"] = f\"{v.name}[{index_within_v}]\"\n",
    "        index += 1\n",
    "        \n",
    "with open('constraint_mapping.json', 'w') as fp:\n",
    "    json.dump(constraint_mapping, fp)"
   ]
  },
  {
   "cell_type": "code",
   "execution_count": 298,
   "id": "01f1dda8",
   "metadata": {},
   "outputs": [
    {
     "name": "stdout",
     "output_type": "stream",
     "text": [
      "File updated successfully!\n"
     ]
    }
   ],
   "source": [
    "# Sort the dictionary by length of the keys in descending order\n",
    "var_mapping = dict(sorted(var_mapping.items(), key=lambda item: len(item[0]), reverse=True))\n",
    "constraint_mapping = dict(sorted(constraint_mapping.items(), key=lambda item: len(item[0]), reverse=True))\n",
    "\n",
    "# Read the file content\n",
    "with open(\"iismodel.ilp\", \"r\") as file:\n",
    "    iis_output = file.read()\n",
    "\n",
    "# Replace Gurobi names with Pyomo names in constraints\n",
    "for gurobi_name, pyomo_name in constraint_mapping.items():\n",
    "    iis_output = iis_output.replace(f\"{gurobi_name}_:\", f\"{pyomo_name}:\")\n",
    "\n",
    "# Replace Gurobi names with Pyomo names\n",
    "for gurobi_name, pyomo_name in var_mapping.items():\n",
    "    iis_output = iis_output.replace(gurobi_name, pyomo_name)\n",
    "\n",
    "# Write the modified content back to the file\n",
    "with open(\"iismodel-translated.ilp\", \"w\") as file:\n",
    "    file.write(iis_output)\n",
    "\n",
    "print(\"File updated successfully!\")\n",
    "#print(iis_output)"
   ]
  },
  {
   "cell_type": "code",
   "execution_count": 312,
   "id": "a69e1dfd",
   "metadata": {},
   "outputs": [],
   "source": [
    "#########################\n",
    "# Decision Variables\n",
    "#########################\n",
    "\n",
    "# Indicates if preprocessing option k_prep is chosen for feedstock f at period t\n",
    "model.Y_prep = pe.Var(model.F, model.K_prep, model.T, domain=pe.Binary)\n",
    "# Indicates if pretreatment option k_pret is chosen for feedstock f at period t\n",
    "model.Y_pret = pe.Var(model.F, model.K_pret, model.T, domain=pe.Binary)\n",
    "# Indicates if fermentation option k_conv with strain j is chosen to produce final product p with component c at period t\n",
    "model.Y_conv = pe.Var(model.C, model.P, model.K_conv, model.J, model.T, domain=pe.Binary)\n",
    "# Indicates if purification option k_pur is chosen for product p at period t\n",
    "model.Y_pur = pe.Var(model.P, model.K_pur, model.T, domain=pe.Binary)\n"
   ]
  },
  {
   "cell_type": "code",
   "execution_count": 314,
   "id": "25a3a7dd",
   "metadata": {},
   "outputs": [],
   "source": [
    "# Total inbound flow of feedstock f at period t\n",
    "model.F_in_feedstock = pe.Var(model.F, model.T, domain=pe.NonNegativeReals)\n",
    "# Total outbound flow of final product p at period t\n",
    "model.F_out_product = pe.Var(model.P, model.T, domain=pe.NonNegativeReals)\n",
    "\n",
    "\n",
    "# Aggregated Variables\n",
    "model.aggregation = pe.ConstraintList()\n",
    "\n",
    "for t in model.T:\n",
    "    for f in model.F:\n",
    "        model.aggregation.add(model.F_in_feedstock[f, t] == \n",
    "                               sum(model.F_in_prep[f, k, t] for k in model.K_prep) \n",
    "                             #+ sum(model.F_in_pret(f, k, t) for f in model.F for k in model.K_pret)\n",
    "                             #+ sum(model.F_in_conv(c, p, k, j, t) for c in model.C for p in model.P for k in model.K_conv for j in model.J)\n",
    "                             #+ sum(model.F_in_pur(p, k, t) for p in model.P for k in model.K_pur)\n",
    "                             )\n",
    "    for p in model.P:\n",
    "        model.aggregation.add(model.F_out_product[p, t] == \n",
    "                             #  sum(model.F_out_prep(f, k, t) for f in model.F for k in model.K_prep) \n",
    "                             #+ sum(model.F_out_pret(c, k, t) for c in model.C for k in model.K_pret)\n",
    "                             #+ sum(model.F_out_conv(c, p, k, j, t) for c in model.C for p in model.P for k in model.K_conv for j in model.J)\n",
    "                             sum(model.F_out_pur[p, k, t] for k in model.K_pur)\n",
    "                             )\n",
    "\n",
    "\n",
    "\n"
   ]
  },
  {
   "cell_type": "code",
   "execution_count": null,
   "id": "fe472a12",
   "metadata": {},
   "outputs": [],
   "source": []
  }
 ],
 "metadata": {
  "kernelspec": {
   "display_name": "Python 3 (ipykernel)",
   "language": "python",
   "name": "python3"
  },
  "language_info": {
   "codemirror_mode": {
    "name": "ipython",
    "version": 3
   },
   "file_extension": ".py",
   "mimetype": "text/x-python",
   "name": "python",
   "nbconvert_exporter": "python",
   "pygments_lexer": "ipython3",
   "version": "3.10.7"
  }
 },
 "nbformat": 4,
 "nbformat_minor": 5
}
