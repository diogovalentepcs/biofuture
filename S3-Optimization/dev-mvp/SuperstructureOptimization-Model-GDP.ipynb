{
 "cells": [
  {
   "cell_type": "markdown",
   "id": "5a7dabe7",
   "metadata": {},
   "source": [
    "# Setting Up"
   ]
  },
  {
   "cell_type": "code",
   "execution_count": null,
   "id": "028a6a52",
   "metadata": {},
   "outputs": [],
   "source": [
    "# !pip install pyomo\n",
    "# !pip install gurobipy\n",
    "# !pip install xlsxwriter"
   ]
  },
  {
   "cell_type": "code",
   "execution_count": null,
   "id": "05aa11e5",
   "metadata": {},
   "outputs": [],
   "source": [
    "import pandas as pd\n",
    "import numpy as np\n",
    "import itertools\n",
    "import pyomo.environ as pe\n",
    "import pyomo.gdp as gdp\n",
    "import gurobipy\n",
    "#import pyomo.opt as opt"
   ]
  },
  {
   "cell_type": "markdown",
   "id": "40fcde13",
   "metadata": {},
   "source": [
    "# Data"
   ]
  },
  {
   "cell_type": "markdown",
   "id": "c6a5691a",
   "metadata": {},
   "source": [
    "## Sets"
   ]
  },
  {
   "cell_type": "code",
   "execution_count": null,
   "id": "83b82ad1",
   "metadata": {},
   "outputs": [],
   "source": [
    "list(range(1, 11))"
   ]
  },
  {
   "cell_type": "code",
   "execution_count": null,
   "id": "f521f8bf",
   "metadata": {},
   "outputs": [],
   "source": [
    "sets = {\n",
    "    # \"S\"     : [\"x1\", \"x2\", ...],  # Indices for supply geogpraphies\n",
    "    # \"X\"     : [\"x1\", \"x2\", ...],  # Indices for plant site locations\n",
    "    # \"M\"     : [\"m1\", \"m2\", ...],  # Indices for markets\n",
    "    \"T\"       : [1],  # Indices for periods (10 years)\n",
    "    \"F\"       : [\"Bstraw\", \"Wstraw\"],  # Indices for feedstocks\n",
    "    \"C\"       : [],  # Indices for components\n",
    "    \"C_Solid\" : [\"Cellulose\", \"Hemicellulose\", \"Lignin\"],  # Indices for solid components\n",
    "    \"C_Liquid\": [\"Xylose\", \"Glucose\"],  # Indices for liquid components\n",
    "    \n",
    "    \"BP\"      : ['Succinic Acid'\n",
    "                 #,'Glycolic Acid','Formic Acid','Acetic Acid','Phenolic','Furfural','HMF'\n",
    "                ],  # Indices for by-products\n",
    "    \n",
    "    \"U\"       : ['H2SO4 kg'\n",
    "                 #,'Water kg','Ammonia kg','Ionic Liquid mat. kg','Lime mat. kg'\n",
    "                ],  # Indices for utilities\n",
    "    \n",
    "    \"K\"       : [],  # Indices for process options\n",
    "    \"K_prep\"  : ['MILL3mm'\n",
    "                 #,'MILL1.4mm','MILL10mm','MILL0.853mm','MILL0.15mm'\n",
    "                ],  # Indices for preprocessing options\n",
    "    \n",
    "    \"K_pret\"  : ['Dilute Acid','LHW','AFEX','Steam Explosion','Lime','Ionic Liquid'],  # Indices for pretreatment options\n",
    "    \n",
    "    \"K_conv\"  : ['SHF','SSF','SHCF','SSCF'],  # Indices for fermentation options\n",
    "    \n",
    "    \"K_pur\"   : [\"Reactive Extraction\", 'Precipitation', 'Electrodialysis', 'Direct Crystalization', 'Azeotropic Dist', 'Extraction', 'Absorption'],  # Indices for purification options\n",
    "    \n",
    "    \"J\"       : [\"Strain1\",\"Strain2\",\"Strain3\",\"Strain4\",\"Strain5\",\"Strain6 \",\"Strain7\",\"Strain8\",\"Strain9\" \n",
    "                 #\"8G-3\", \"SPT2OE\", \"Y2034\", \"Angle\", \"CRD51\", \"MD4\", \"TP50\", \"SR8/TFP3-XI76\", \"SR8/TFP3-XI76\"\n",
    "                ],  # Indices for fermentation strains\n",
    "    \n",
    "    \"P\"       : ['Ethanol', 'Lactic Acid', 'Succinic Acid'],  # Indices for final products\n",
    "    \n",
    "    \"Q\"       : [10**6]  # Indices for technology capacity levels\n",
    "}\n",
    "\n",
    "sets[\"C\"] = sets[\"C_Solid\"]  + sets[\"C_Liquid\"] \n",
    "sets[\"K\"] = sets[\"K_prep\"]  + sets[\"K_pret\"] + sets[\"K_conv\"] + sets[\"K_pur\"]"
   ]
  },
  {
   "cell_type": "markdown",
   "id": "b046421e",
   "metadata": {},
   "source": [
    "## Parameters\n",
    "\n",
    "Most parameters are indexed across different sets. To improve decision-maker interaction, the parametric tables over different sets are created with all possible combinations of the sets but empty values for the parameter and exported as excel files for easy inputs"
   ]
  },
  {
   "cell_type": "code",
   "execution_count": null,
   "id": "6d87dfde",
   "metadata": {},
   "outputs": [],
   "source": [
    "# Funciton for create the dataframe from the cartesian product of specific sets\n",
    "def create_parametric_df(sets):\n",
    "    df = pd.DataFrame(itertools.product(*sets.values()), columns=sets.keys())\n",
    "    # drop duplicated rows\n",
    "    df = df.drop_duplicates().reset_index(drop=True)\n",
    "    # Create an empty value columns\n",
    "    df.loc[:, 'Value'] = np.nan\n",
    "    # Input 0 in impossible combinations (relevant for yields as you can't convert cellulose into cellulose)\n",
    "    # Identify rows where a value in a column is equal to a value in another column for all columns\n",
    "    equal_values_rows = df[df.apply(lambda row: len(set(row)) < len(row), axis = 1)]\n",
    "    # Cahnge value for identified rows\n",
    "    df.loc[equal_values_rows.index, \"Value\"] = 0\n",
    "    return df\n",
    "\n",
    "def create_compatability_dic():\n",
    "    \n",
    "    # Dictionary to store the DataFrames\n",
    "    dfs = {}\n",
    "\n",
    "    # Compatability Preprocessing with Pretreatment\n",
    "    dfs['Compatibility_Pretreatment'] = create_parametric_df({'K_prep' : sets['K_prep'], 'K_pret' : sets['K_pret']})\n",
    "    \n",
    "    # Compatability Pretreatment, Conversion, Fermentation Strain, Component and Product   \n",
    "    dfs['Conversion_Matrix_Pret_Conv'] = create_parametric_df({'K_pret': sets['K_pret'], 'K_conv': sets['K_conv']})\n",
    "    dfs['Conversion_Matrix_C_Conv'] = create_parametric_df({'C': sets['C'], 'K_conv': sets['K_conv']})\n",
    "    dfs['Conversion_Matrix_Conv_J'] = create_parametric_df({'K_conv': sets['K_conv'], 'J': sets['J']})\n",
    "    dfs['Conversion_Matrix_J_P'] = create_parametric_df({'J': sets['J'], 'P': sets['P']})\n",
    "    dfs['Conversion_Matrix_C_P'] = create_parametric_df({'C': sets['C'], 'P': sets['P']})\n",
    "    dfs['Conversion_Matrix_Conv_P'] = create_parametric_df({'K_conv': sets['K_conv'], 'P': sets['P']})\n",
    "    \n",
    "    dfs['Compatibility_Purification'] = create_parametric_df({'P': sets['P'], 'K_pur': sets['K_pur']})\n",
    "\n",
    "    return dfs\n",
    "\n",
    "def create_parametric_dic(compat_dfs):\n",
    "    # Dictionary to store the DataFrames\n",
    "    dfs = {}\n",
    "\n",
    "    # Generate DataFrames and store them in the dictionary\n",
    "    dfs['Cost_of_Technology'] = create_parametric_df({'K': sets['K'], 'Q': sets['Q']})\n",
    "    dfs['MinMax_Flows'] = create_parametric_df({'Flow': ['IN', 'OUT'], 'MinMax': ['Min', 'Max'], 'K': sets['K'], 'Q': sets['Q']})\n",
    "    dfs['Utility_Consumption'] = create_parametric_df({'U': sets['U'], 'K': sets['K']})\n",
    "    dfs['Byproduct_Production'] = create_parametric_df({'BP': sets['BP'], 'K': sets['K']})\n",
    "    dfs['Feedstock_Composition'] = create_parametric_df({'C': sets['C'], 'F': sets['F']})\n",
    "    \n",
    "    dfs['Compatibility_Pretreatment'] = compat_dfs['Compatibility_Pretreatment']\n",
    "    dfs['Yield_Pretreatment'] = create_parametric_df({'C': sets['C'], 'K_pret': sets['K_pret']})\n",
    "    \n",
    "    # Compatability Conversion\n",
    "    df = pd.merge(compat_dfs['Conversion_Matrix_Pret_Conv'], compat_dfs['Conversion_Matrix_C_Conv'], on = \"K_conv\", how = \"outer\")\n",
    "    df[\"Value\"] = df.Value_x * df.Value_y\n",
    "    df = df[df[\"Value\"] != 0].drop(['Value_x', 'Value_y'], axis = 1)\n",
    "    df = df.merge(compat_dfs['Conversion_Matrix_Conv_J'], on = \"K_conv\", how = \"left\")\n",
    "    df[\"Value\"] = df.Value_x * df.Value_y\n",
    "    df = df[df[\"Value\"] != 0].drop(['Value_x', 'Value_y'], axis = 1)\n",
    "    df = df.merge(compat_dfs['Conversion_Matrix_J_P'], on = \"J\", how = \"left\")\n",
    "    df[\"Value\"] = df.Value_x * df.Value_y\n",
    "    df = df[df[\"Value\"] != 0].drop(['Value_x', 'Value_y'], axis = 1)\n",
    "    df = df.merge(compat_dfs['Conversion_Matrix_C_P'], on = [\"C\", \"P\"], how = \"left\")\n",
    "    df[\"Value\"] = df.Value_x * df.Value_y\n",
    "    df = df[df[\"Value\"] != 0].drop(['Value_x', 'Value_y'], axis = 1)\n",
    "    df = df.merge(compat_dfs['Conversion_Matrix_Conv_P'], on = [\"K_conv\", \"P\"], how = \"left\")\n",
    "    df[\"Value\"] = df.Value_x * df.Value_y\n",
    "    df = df[df[\"Value\"] != 0].drop(['Value_x', 'Value_y'], axis = 1)\n",
    "\n",
    "    df = df[['C', 'K_pret', 'K_conv', 'J', 'P', 'Value']]\n",
    "\n",
    "    dfs['Compatibility_Conversion'] = df\n",
    "    \n",
    "    dfs['Yield_Hydrolysis'] = df[['K_conv', 'K_pret', 'C', 'P', 'Value']].drop_duplicates().reset_index(drop=True).sort_values(['K_conv', 'K_pret', 'C', 'P'])\n",
    "    dfs['Yield_Conversion'] = df[[ 'P', 'C', 'K_conv', 'J', 'Value']].drop_duplicates().reset_index(drop=True).sort_values(['J', 'P', 'C', 'K_conv'])\n",
    "    \n",
    "    dfs['Solid_Loading'] = create_parametric_df({'K_conv' : sets['K_conv']})\n",
    "\n",
    "    dfs['Compatibility_Purification'] = compat_dfs['Compatibility_Purification']\n",
    "    \n",
    "    dfs['Yield_Purification'] = dfs['Compatibility_Purification'][dfs['Compatibility_Purification'].Value != 0].copy()\n",
    "    dfs['Depreciation_Factor'] = create_parametric_df({'T' : sets['T']})\n",
    "    dfs['Operating_Cost'] = dfs['Depreciation_Factor'].copy()\n",
    "    dfs['Maintenance_Cost'] = dfs['Depreciation_Factor'].copy()\n",
    "    dfs['Demand'] = create_parametric_df({'P': sets['P'], 'T': sets['T']})\n",
    "    dfs['Supply'] = create_parametric_df({'F': sets['F'], 'T': sets['T']})\n",
    "    dfs['Price_F'] = create_parametric_df({'F': sets['F'], 'T': sets['T']})\n",
    "    dfs['Price_U'] = create_parametric_df({'U': sets['U'], 'T': sets['T']})\n",
    "    dfs['Price_P'] = create_parametric_df({'P': sets['P'], 'T': sets['T']})\n",
    "\n",
    "    return dfs\n",
    "\n",
    "def create_compatability_excel(xls_path = \"CompatabilityMatrices.xlsx\"):\n",
    "    dfs = create_compatability_dic()\n",
    "    writer = pd.ExcelWriter(xls_path, engine='xlsxwriter')\n",
    "    for name, df in dfs.items():\n",
    "        df.to_excel(writer, sheet_name=name, index = False)\n",
    "    writer.close()\n",
    "    writer.handles = None\n",
    "    return dfs\n",
    "\n",
    "def read_compatability_excel(xls_path = \"CompatabilityMatricesInputs.xlsx\"):\n",
    "\n",
    "    dfs = create_compatability_dic()\n",
    "    excel_dfs = {}\n",
    "    \n",
    "    # Read excel\n",
    "    xls = pd.ExcelFile(xls_path)\n",
    "    for name, df in dfs.items():\n",
    "        excel_df = pd.read_excel(xls, sheet_name=name)\n",
    "        try:\n",
    "            excel_df = excel_df.drop(\"Unnamed: 0\", axis = 1)\n",
    "        except:\n",
    "            pass\n",
    "        \n",
    "        # concat excel df with full df\n",
    "        df = pd.concat([excel_df, dfs[name]]).reset_index(drop=True)\n",
    "        # keep first appearence (coming from excel df) of duplicated values in all columns except Value\n",
    "        df = df.drop_duplicates(subset = df.columns.difference(['Value']), keep='first').reset_index(drop=True)\n",
    "        # change all NA to 0 excpet for solid loading\n",
    "        df.Value = 1 if name in [\"Solid_Loading\"] else df.Value.fillna(0)\n",
    "        \n",
    "        excel_dfs[name] = df\n",
    "    \n",
    "    xls.close()\n",
    "    xls.handles = None\n",
    "    \n",
    "    return excel_dfs\n",
    "\n",
    "def create_parametric_excel(xls_path = \"ParametricTables.xlsx\", compat = None):\n",
    "    \n",
    "    if compat is None:\n",
    "        # Try to get input tables\n",
    "        print(\"No compatabiity tables given. Attempting to retrieve from CompatabilityMatricesInputs.xlsx\")\n",
    "        compat_dfs = read_compatability_excel()\n",
    "    elif type(compat) is str:\n",
    "        compat_dfs = read_compatability_excel(compat)\n",
    "    else:\n",
    "        compat_dfs = compat\n",
    "    \n",
    "    dfs = create_parametric_dic(compat_dfs)\n",
    "    writer = pd.ExcelWriter(xls_path, engine='xlsxwriter')\n",
    "    for name, df in dfs.items():\n",
    "        df.to_excel(writer, sheet_name=name, index = False)\n",
    "    writer.close()\n",
    "    writer.handles = None\n",
    "    return dfs\n",
    "\n",
    "def read_parametric_excel(xls_path, compat = None):\n",
    "    \n",
    "    if compat is None:\n",
    "        # Try to get input tables\n",
    "        print(\"No compatabiity tables given. Attempting to retrieve from CompatabilityMatricesInputs.xlsx\")\n",
    "        compat_dfs = read_compatability_excel()\n",
    "    elif type(compat) is str:\n",
    "        compat_dfs = read_compatability_excel(compat)\n",
    "    else:\n",
    "        compat_dfs = compat\n",
    "        \n",
    "    # Create empty dic to force parameters to be 0 when user accidently forgets certain inputs\n",
    "    dfs = create_parametric_dic(compat_dfs)\n",
    "    \n",
    "    # Read excel\n",
    "    excel_dfs = {}\n",
    "    xls = pd.ExcelFile(xls_path)\n",
    "    for name, df in dfs.items():\n",
    "        excel_df = pd.read_excel(xls, sheet_name=name)\n",
    "        try:\n",
    "            excel_df = excel_df.drop(\"Unnamed: 0\", axis = 1)\n",
    "        except:\n",
    "            pass\n",
    "        # concat excel df with full df\n",
    "        df = pd.concat([excel_df, dfs[name]]).reset_index(drop=True)\n",
    "        # keep first appearence (coming from excel df) of duplicated values in all columns except Value\n",
    "        df = df.drop_duplicates(subset = df.columns.difference(['Value']), keep='first').reset_index(drop=True)\n",
    "        # change all NA to 0 excpet for solid loading\n",
    "        df.Value = 1 if name in [\"Solid_Loading\"] else df.Value.fillna(0)\n",
    "        \n",
    "        excel_dfs[name] = df\n",
    "    xls.close()\n",
    "    xls.handles = None\n",
    "    return excel_dfs"
   ]
  },
  {
   "cell_type": "code",
   "execution_count": null,
   "id": "0518e708",
   "metadata": {
    "scrolled": true
   },
   "outputs": [],
   "source": [
    "dfs = create_parametric_excel(\"ParametricTables-V1.xlsx\")\n",
    "print(dfs['Yield_Conversion'].shape)\n",
    "dfs['Yield_Conversion'].head()"
   ]
  },
  {
   "cell_type": "code",
   "execution_count": null,
   "id": "a8f36559",
   "metadata": {
    "scrolled": false
   },
   "outputs": [],
   "source": [
    "dfs = read_parametric_excel(\"ParametricTablesInputs-V1.xlsx\")\n",
    "print(dfs['Yield_Conversion'].shape)\n",
    "dfs['Yield_Conversion'][dfs['Yield_Conversion'].Value != 0].head()"
   ]
  },
  {
   "cell_type": "code",
   "execution_count": null,
   "id": "214df522",
   "metadata": {},
   "outputs": [],
   "source": [
    "dfs['Yield_Hydrolysis'].head()"
   ]
  },
  {
   "cell_type": "markdown",
   "id": "91e19ffb",
   "metadata": {},
   "source": [
    "# Model"
   ]
  },
  {
   "cell_type": "markdown",
   "id": "02a4f60b",
   "metadata": {},
   "source": [
    "## Initialiazation"
   ]
  },
  {
   "cell_type": "markdown",
   "id": "d1ba4c53",
   "metadata": {},
   "source": [
    "### Model"
   ]
  },
  {
   "cell_type": "code",
   "execution_count": null,
   "id": "6cea6422",
   "metadata": {},
   "outputs": [],
   "source": [
    "model = pe.ConcreteModel()"
   ]
  },
  {
   "cell_type": "markdown",
   "id": "6cc0a9f7",
   "metadata": {},
   "source": [
    "### Sets"
   ]
  },
  {
   "cell_type": "code",
   "execution_count": null,
   "id": "c472709c",
   "metadata": {},
   "outputs": [],
   "source": [
    "# Initialize the sets based on the 'sets' dictionary\n",
    "model.T = pe.Set(initialize=sets['T'])  # Indices for periods\n",
    "model.F = pe.Set(initialize=sets['F'])  # Indices for feedstocks\n",
    "model.C = pe.Set(initialize=sets['C'])  # Indices for components\n",
    "model.C_Solid = pe.Set(initialize=sets['C_Solid'])  # Indices for solid components\n",
    "model.C_Liquid = pe.Set(initialize=sets['C_Liquid'])  # Indices for liquid components\n",
    "model.BP = pe.Set(initialize=sets['BP'])  # Indices for by-products\n",
    "model.U = pe.Set(initialize=sets['U'])  # Indices for utilities\n",
    "model.K = pe.Set(initialize=sets['K'])  # Indices for process options\n",
    "model.K_prep = pe.Set(initialize=sets['K_prep'])  # Indices for preprocessing options\n",
    "model.K_pret = pe.Set(initialize=sets['K_pret'])  # Indices for pretreatment options\n",
    "model.K_conv = pe.Set(initialize=sets['K_conv'])  # Indices for fermentation options\n",
    "model.K_pur = pe.Set(initialize=sets['K_pur'])  # Indices for purification options\n",
    "model.J = pe.Set(initialize=sets['J'])  # Indices for fermentation strains\n",
    "model.P = pe.Set(initialize=sets['P'])  # Indices for final products\n",
    "model.Q = pe.Set(initialize=sets['Q'])  # Indices for technology capacity levels\n",
    "\n",
    "# Auxiliary Sets\n",
    "model.Flow = pe.Set(initialize=[\"IN\", \"OUT\"])\n",
    "model.MinMax = pe.Set(initialize=[\"Min\", \"Max\"])\n",
    "model.FCP = pe.Set(initialize=list(sets['F']) + list(sets['C']) + list(sets['P']))"
   ]
  },
  {
   "cell_type": "markdown",
   "id": "1335d648",
   "metadata": {},
   "source": [
    "### Parameters"
   ]
  },
  {
   "cell_type": "code",
   "execution_count": null,
   "id": "b617e690",
   "metadata": {},
   "outputs": [],
   "source": [
    "dfs = read_parametric_excel(\"ParametricTablesInputs-V1.xlsx\")\n",
    "\n",
    "# Cost_of_Technology\n",
    "parameter_dict = dfs['Cost_of_Technology'].set_index(['K', 'Q']).Value.to_dict()\n",
    "model.Cost_of_Technology = pe.Param(model.K, model.Q, initialize=parameter_dict, default=0)\n",
    "\n",
    "# MinMax_Flows\n",
    "parameter_dict = dfs['MinMax_Flows'].set_index(['Flow', 'MinMax', 'K', 'Q']).Value.to_dict()\n",
    "model.MinMax_Flows = pe.Param(model.Flow, model.MinMax, model.K, model.Q, initialize=parameter_dict, default=0)\n",
    "\n",
    "# Utility_Consumption\n",
    "parameter_dict = dfs['Utility_Consumption'].set_index(['U', 'K']).Value.to_dict()\n",
    "model.Utility_Consumption = pe.Param(model.U, model.K, initialize=parameter_dict, default=0)\n",
    "\n",
    "# Byproduct_Production\n",
    "parameter_dict = dfs['Byproduct_Production'].set_index(['BP', 'K']).Value.to_dict()\n",
    "model.Byproduct_Production = pe.Param(model.BP, model.K, initialize=parameter_dict, default=0)\n",
    "\n",
    "# Compatibility_Pretreatment\n",
    "parameter_dict = dfs['Compatibility_Pretreatment'].set_index(['K_prep', 'K_pret']).Value.to_dict()\n",
    "model.Compatibility_Pretreatment = pe.Param(model.K_prep, model.K_pret, initialize=parameter_dict, default=0)\n",
    "\n",
    "# Feedstock_Composition\n",
    "parameter_dict = dfs['Feedstock_Composition'].set_index(['C', 'F']).Value.to_dict()\n",
    "model.Feedstock_Composition = pe.Param(model.C, model.F, initialize=parameter_dict, default=0)\n",
    "\n",
    "# Yield_Pretreatment\n",
    "parameter_dict = dfs['Yield_Pretreatment'].set_index(['C', 'K_pret']).Value.to_dict()\n",
    "model.Yield_Pretreatment = pe.Param(model.C, model.K_pret, initialize=parameter_dict, default=0)\n",
    "\n",
    "# Compatibility_Conversion\n",
    "parameter_dict = dfs['Compatibility_Conversion'].set_index(['C', 'K_pret', 'K_conv', 'J', 'P']).Value.to_dict()\n",
    "model.Compatibility_Conversion = pe.Param(model.C, model.K_pret, model.K_conv, model.J, model.P, initialize=parameter_dict, default=0)\n",
    "\n",
    "# Solid_Loading\n",
    "parameter_dict = dfs['Solid_Loading'].set_index(['K_conv']).Value.to_dict()\n",
    "model.Solid_Loading = pe.Param(model.K_conv, initialize=parameter_dict, default=1)\n",
    "\n",
    "# Yield_Hydrolysis\n",
    "parameter_dict = dfs['Yield_Hydrolysis'].set_index(['K_conv', 'K_pret', 'C', 'P']).Value.to_dict()\n",
    "model.Yield_Hydrolysis = pe.Param(model.K_conv, model.K_pret, model.C, model.P, initialize=parameter_dict, default=0)\n",
    "\n",
    "# Yield_Conversion\n",
    "parameter_dict = dfs['Yield_Conversion'][['P', 'C', 'K_conv', 'J', \"Value\"]].set_index(['P', 'C', 'K_conv', 'J']).Value.to_dict()\n",
    "model.Yield_Conversion = pe.Param(model.P, model.C, model.K_conv, model.J, initialize=parameter_dict, default=0)\n",
    "\n",
    "# Compatibility_Purification\n",
    "parameter_dict = dfs['Compatibility_Purification'].set_index(['P', 'K_pur']).Value.to_dict()\n",
    "model.Compatibility_Purification = pe.Param(model.P, model.K_pur, initialize=parameter_dict, default=0)\n",
    "\n",
    "# Yield_Purification (same structure as Compatibility_Purification)\n",
    "parameter_dict = dfs['Yield_Purification'].set_index(['P', 'K_pur']).Value.to_dict()\n",
    "model.Yield_Purification = pe.Param(model.P, model.K_pur, initialize=parameter_dict, default=0)\n",
    "\n",
    "# Depreciation_Factor\n",
    "parameter_dict = dfs['Depreciation_Factor'].set_index(['T']).Value.to_dict()\n",
    "model.Depreciation_Factor = pe.Param(model.T, initialize=parameter_dict, default=0)\n",
    "\n",
    "# Operating_Cost (same structure as Depreciation_Factor)\n",
    "parameter_dict = dfs['Operating_Cost'].set_index(['T']).Value.to_dict()\n",
    "model.Operating_Cost = pe.Param(model.T, initialize=parameter_dict, default=0)\n",
    "\n",
    "# Maintenance_Cost (same structure as Depreciation_Factor)\n",
    "parameter_dict = dfs['Maintenance_Cost'].set_index(['T']).Value.to_dict()\n",
    "model.Maintenance_Cost = pe.Param(model.T, initialize=parameter_dict, default=0)\n",
    "\n",
    "# Demand\n",
    "parameter_dict = dfs['Demand'].set_index(['P', 'T']).Value.to_dict()\n",
    "model.Demand = pe.Param(model.P, model.T, initialize=parameter_dict, default=0)\n",
    "\n",
    "# Supply\n",
    "parameter_dict = dfs['Supply'].set_index(['F', 'T']).Value.to_dict()\n",
    "model.Supply = pe.Param(model.F, model.T, initialize=parameter_dict, default=0)\n",
    "\n",
    "# Price\n",
    "parameter_dict = dfs['Price_F'].set_index(['F', 'T']).Value.to_dict()\n",
    "model.Price_F = pe.Param(model.F, model.T, initialize=parameter_dict, default=0)\n",
    "parameter_dict = dfs['Price_U'].set_index(['U', 'T']).Value.to_dict()\n",
    "model.Price_U = pe.Param(model.U, model.T, initialize=parameter_dict, default=0)\n",
    "parameter_dict = dfs['Price_P'].set_index(['P', 'T']).Value.to_dict()\n",
    "model.Price_P = pe.Param(model.P, model.T, initialize=parameter_dict, default=0)\n",
    "\n",
    "model.R = pe.Param(initialize = 0.02)\n",
    "model.Tax = pe.Param(initialize = 0.3)"
   ]
  },
  {
   "cell_type": "code",
   "execution_count": null,
   "id": "391245e6",
   "metadata": {
    "scrolled": true
   },
   "outputs": [],
   "source": [
    "# Initialize parameters as defined in dfs dictionary: doenst work yet, cant fin a way to initialize coorectly last line\n",
    "\n",
    "# A function to determine the indexing sets of a given dataframe based on the columns\n",
    "def determine_indexing_sets(df):\n",
    "    return tuple(col for col in df.columns if col != \"Value\")\n",
    "\n",
    "def initialize_parameters(parameter_dfs):\n",
    "    # Loop through the paramneter dfs and initialize parameters\n",
    "    for df_name, df in parameter_dfs.items():\n",
    "        index_sets = determine_indexing_sets(df)\n",
    "        # Pyomo only accepts dict {(colum A, B, C) : Value, next row}\n",
    "        param_init_dict = df.set_index([*index_sets]).Value.to_dict()\n",
    "\n",
    "        model_sets = tuple(getattr(model, index_set) for index_set in index_sets)\n",
    "        setattr(model, df_name, pe.Param(model.P, model.T, initialize=param_init_dict, within='Any'))\n",
    "\n",
    "#initialize_parameters(read_parametric_excel(\"ParametricTables.xlsx\"))"
   ]
  },
  {
   "cell_type": "markdown",
   "id": "2d7de8e4",
   "metadata": {},
   "source": [
    "## Defining Variables"
   ]
  },
  {
   "cell_type": "markdown",
   "id": "3f0d1d5d",
   "metadata": {},
   "source": [
    "### Binary Variables"
   ]
  },
  {
   "cell_type": "code",
   "execution_count": null,
   "id": "a69e1dfd",
   "metadata": {},
   "outputs": [],
   "source": [
    "#########################\n",
    "# Decision Variables\n",
    "#########################\n",
    "\n",
    "# Indicates if technology k with capacity q is chosen to be installed at period t\n",
    "model.Y_tech = pe.Var(model.K, model.Q, model.T, domain=pe.Binary)\n",
    "\n",
    "# Indicates if preprocessing option k_prep is chosen for feedstock f at period t\n",
    "model.Y_prep = pe.Var(model.F, model.K_prep, model.T, domain=pe.Binary)\n",
    "# Indicates if pretreatment option k_pret is chosen for feedstock f at period t\n",
    "model.Y_pret = pe.Var(model.F, model.K_pret, model.T, domain=pe.Binary)\n",
    "# Indicates if fermentation option k_conv with strain j is chosen to produce final product p with component c at period t\n",
    "model.Y_conv = pe.Var(model.C, model.P, model.K_conv, model.J, model.T, domain=pe.Binary)\n",
    "# Indicates if purification option k_pur is chosen for product p at period t\n",
    "model.Y_pur = pe.Var(model.P, model.K_pur, model.T, domain=pe.Binary)\n",
    "\n",
    "#########################\n",
    "# Non-Decision Variables\n",
    "#########################\n",
    "\n",
    "# Indicates if tech k exists at period t\n",
    "model.Y_K = pe.Var(model.K, model.T, domain=pe.Binary)\n",
    "\n",
    "# Indicates if EBIT is positive at period t\n",
    "#model.Y_EBIT = pe.Var(model.T, domain=pe.Binary)"
   ]
  },
  {
   "cell_type": "markdown",
   "id": "96944bcc",
   "metadata": {},
   "source": [
    "### Continuous Variables"
   ]
  },
  {
   "cell_type": "code",
   "execution_count": null,
   "id": "18c00bf0",
   "metadata": {},
   "outputs": [],
   "source": [
    "# Decision Variables (inflows)\n",
    "\n",
    "# Quantity of feedstock f going into preprocessing k_prep at period t\n",
    "model.F_in_prep = pe.Var(model.F, model.K_prep, model.T, domain=pe.NonNegativeReals)\n",
    "\n",
    "# Quantity of feedstock f going into pretreatment k_pret at period t\n",
    "model.F_in_pret = pe.Var(model.F, model.K_pret, model.T, domain=pe.NonNegativeReals)\n",
    "\n",
    "# Quantity of component c going into conversion k_conv with fermentation strain j at period t to produce product p\n",
    "model.F_in_conv = pe.Var(model.C, model.P, model.K_conv, model.J, model.T, domain=pe.NonNegativeReals)\n",
    "\n",
    "# Quantity of product p going into purification k_conv at period t\n",
    "model.F_in_pur = pe.Var(model.P, model.K_pur, model.T, domain=pe.NonNegativeReals)\n",
    "\n",
    "# Corresponding outflows\n",
    "\n",
    "# Quantity of feedstock f going out of preprocessing k_prep at period t\n",
    "model.F_out_prep = pe.Var(model.F, model.K_prep, model.T, domain=pe.NonNegativeReals)\n",
    "\n",
    "# Quantity of component c going out of pretreatment k_pret at period t\n",
    "model.F_out_pret = pe.Var(model.C, model.K_pret, model.T, domain=pe.NonNegativeReals)\n",
    "\n",
    "# Quantity of product p going out of conversion k_conv with fermentation strain j at period t from component c\n",
    "model.F_out_conv = pe.Var(model.C, model.P, model.K_conv, model.J, model.T, domain=pe.NonNegativeReals)\n",
    "\n",
    "# Quantity of product p going out of purification k_pur at period t\n",
    "model.F_out_pur = pe.Var(model.P, model.K_pur, model.T, domain=pe.NonNegativeReals)\n",
    "\n",
    "# Other Relevant Variables\n",
    "\n",
    "# Capital investment at period t\n",
    "model.CAPEX = pe.Var(model.T, domain=pe.NonNegativeReals)\n",
    "\n",
    "# Total flow of utility u consumed in process k at period t\n",
    "model.F_util = pe.Var(model.U, model.K, model.T, domain=pe.NonNegativeReals)\n",
    "\n",
    "# Total flow of byproduct bp generated in process k at period t\n",
    "model.F_bypr = pe.Var(model.BP, model.K, model.T, domain=pe.NonNegativeReals)\n",
    "\n",
    "# Liquid to add to biomass/ component c_sol to produce p with conversion k_conv in (SHF, SSF) at period t\n",
    "model.Liq_bioreactor1 = pe.Var(model.C_Solid, model.P, model.K_conv, model.T, domain=pe.NonNegativeReals)\n",
    "\n",
    "# Liquid to add or remove to biomass/ component c_sol + c_liq to produce p with conversion k_conv in (SHCF, SSCF) at period t\n",
    "model.Liq_bioreactor2 = pe.Var(model.C_Solid, model.C_Liquid, model.P, model.K_conv, model.T, domain=pe.Reals) # Can be negative\n",
    "\n",
    "# Aggregated Variables\n",
    "\n",
    "\n",
    "# Total inbound flow entering process k at period t\n",
    "model.F_in_process = pe.Var(model.K, model.T, domain=pe.NonNegativeReals)\n",
    "\n",
    "# Total outbound flow exiting process k at period t\n",
    "model.F_out_process = pe.Var(model.K, model.T, domain=pe.NonNegativeReals)\n",
    "\n",
    "# Inbound flow of component c going in process k_conv at period t\n",
    "model.F_in_conv_comp = pe.Var(model.C, model.K_conv, model.T, domain=pe.NonNegativeReals) \n",
    "\n",
    "# Outbound flow of component fcp out of process k_conv at period t\n",
    "model.F_out_conv_prod = pe.Var(model.P, model.K_conv, model.T, domain=pe.NonNegativeReals)\n",
    "\n",
    "# Total flow passing through technology k_pret at period t\n",
    "#model.F_in_pret_total = pe.Var(model.K_pret, model.T, domain=pe.NonNegativeReals)\n",
    "\n",
    "# Total flow passing through technology k_conv at period t\n",
    "#model.F_in_conv_total = pe.Var(model.K_conv, model.T, domain=pe.NonNegativeReals)\n",
    "\n",
    "# Total inbound flow of feedstock f at period t\n",
    "model.F_in_feedstock = pe.Var(model.F, model.T, domain=pe.NonNegativeReals)\n",
    "\n",
    "# Total consumed utility u at period t\n",
    "model.F_in_utility = pe.Var(model.U, model.T, domain=pe.NonNegativeReals)\n",
    "\n",
    "# Total produced byproduct bp at period t\n",
    "model.F_out_byproduct = pe.Var(model.BP, model.T, domain=pe.NonNegativeReals)\n",
    "\n",
    "# Total outbound flow of final product p at period t\n",
    "model.F_out_product = pe.Var(model.P, model.T, domain=pe.NonNegativeReals)\n"
   ]
  },
  {
   "cell_type": "code",
   "execution_count": null,
   "id": "749cbf87",
   "metadata": {},
   "outputs": [],
   "source": [
    "model.Yield_Conversion[\"Ethanol\", \"Cellulose\", \"SHF\", \"Strain1\"]"
   ]
  },
  {
   "cell_type": "markdown",
   "id": "a6ac69bc",
   "metadata": {},
   "source": [
    "## Constraint Formulation"
   ]
  },
  {
   "cell_type": "markdown",
   "id": "19f8aee6",
   "metadata": {},
   "source": [
    "### Technology and Capacity Allocation (1st Stage)"
   ]
  },
  {
   "cell_type": "code",
   "execution_count": null,
   "id": "458c011b",
   "metadata": {},
   "outputs": [],
   "source": [
    "# Aggregation of the flows for each process\n",
    "model.flow_in_prep_total = pe.Constraint(model.K_prep, model.T, rule=lambda m, k, t: m.F_in_process[k, t] == sum(m.F_in_prep[f, k, t] for f in model.F))\n",
    "model.flow_in_pret_total = pe.Constraint(model.K_pret, model.T, rule=lambda m, k, t: m.F_in_process[k, t] == sum(m.F_in_pret[f, k, t] for f in model.F))\n",
    "model.flow_in_conv_total = pe.Constraint(model.K_conv, model.T, rule=lambda m, k, t: m.F_in_process[k, t] == sum(m.F_in_conv_comp[c, k, t] for c in model.C))\n",
    "model.flow_in_pur_total = pe.Constraint(model.K_pur, model.T, rule=lambda m, k, t: m.F_in_process[k, t] == sum(m.F_in_pur[p, k, t] for p in model.P))\n",
    "\n",
    "model.flow_out_prep_total = pe.Constraint(model.K_prep, model.T, rule=lambda m, k, t: m.F_out_process[k, t] == sum(m.F_out_prep[f, k, t] for f in model.F))\n",
    "model.flow_out_pret_total = pe.Constraint(model.K_pret, model.T, rule=lambda m, k, t: m.F_out_process[k, t] == sum(m.F_out_pret[c, k, t] for c in model.C))\n",
    "model.flow_out_conv_total = pe.Constraint(model.K_conv, model.T, rule=lambda m, k, t: m.F_out_process[k, t] == sum(m.F_out_conv_prod[p, k, t] for p in model.P))\n",
    "model.flow_out_pur_total = pe.Constraint(model.K_pur, model.T, rule=lambda m, k, t: m.F_out_process[k, t] == sum(m.F_out_pur[p, k, t] for p in model.P))\n"
   ]
  },
  {
   "cell_type": "code",
   "execution_count": null,
   "id": "6d019c91",
   "metadata": {},
   "outputs": [],
   "source": [
    "# Capacity Selection Disjunction\n",
    "\n",
    "def rule_capacity_disjunct(disjunct, k, q, t, flag):\n",
    "    m = disjunct.model()\n",
    "    \n",
    "    if flag:\n",
    "        disjunct.c1 = pe.ConstraintList() \n",
    "        disjunct.c1.add(m.Y_tech[k, q, t] == 1)\n",
    "        disjunct.c1.add(expr = m.MinMax_Flows[\"IN\", \"Min\", k, q] <= m.F_in_process[k, t])\n",
    "        disjunct.c1.add(expr = m.F_in_process[k, t] <= m.MinMax_Flows[\"IN\", \"Max\", k, q])\n",
    "        disjunct.c1.add(expr = m.MinMax_Flows[\"OUT\", \"Min\", k, q] <= m.F_out_process[k, t])\n",
    "        disjunct.c1.add(expr = m.F_out_process[k, t] <= m.MinMax_Flows[\"OUT\", \"Max\", k, q])\n",
    "    else:\n",
    "        disjunct.c0 = pe.ConstraintList() \n",
    "        disjunct.c0.add(expr = m.Y_tech[k, q, t] == 0)\n",
    "        disjunct.c0.add(expr = m.F_in_process[k, t] == 0)\n",
    "        disjunct.c0.add(expr = m.F_out_process[k, t] == 0)\n",
    "\n",
    "model.capacity_disjunct = gdp.Disjunct(model.K, model.Q, model.T, [0, 1], rule = rule_capacity_disjunct)\n",
    "\n",
    "model.capacity_disjunction = gdp.Disjunction(model.K, model.Q, model.T, \n",
    "                                                rule = lambda m, k, q, t: [\n",
    "                                                    model.capacity_disjunct[k, q, t, i] for i in [0, 1]\n",
    "                                                ])"
   ]
  },
  {
   "cell_type": "code",
   "execution_count": null,
   "id": "dad68b98",
   "metadata": {},
   "outputs": [],
   "source": [
    "# Capacity Disjunction (option 2). Requires Checking if implementation is correct\n",
    "\n",
    "def create_capacity_disjuntion():\n",
    "    model.capacity_disjunct1 = gdp.Disjunct(model.K, model.Q, model.T, \n",
    "                               rule=lambda m, k, q, t: m.Y_tech[k, q, t] == 1 and \\\n",
    "                                    m.MinMax_Flows[\"IN\", \"Min\", k, q] <= m.F_in_process[k, t] <= m.MinMax_Flows[\"IN\", \"Max\", k, q] and \\\n",
    "                                    m.MinMax_Flows[\"OUT\", \"Min\", k, q] <= m.F_out_process[k, t] <= m.MinMax_Flows[\"OUT\", \"Max\", k, q])\n",
    "\n",
    "    model.capacity_disjunct2 = gdp.Disjunct(model.K, model.Q, model.T, rule=lambda m, k, q, t: m.Y_tech[k, q, t] == 0 and \\\n",
    "                                    m.F_in_process[k, t] == 0 and m.F_out_process[k, t] == 0)\n",
    "\n",
    "\n",
    "    model.capacity_disjunction = gdp.Disjunction(model.K, model.Q, model.T, \n",
    "                                    rule = lambda m, k, q, t: [m.capacity_disjunct1[k, q, t], m.capacity_disjunct2[k, q, t]])\n",
    "\n",
    "# create_capacity_disjuntion()"
   ]
  },
  {
   "cell_type": "code",
   "execution_count": null,
   "id": "97770267",
   "metadata": {},
   "outputs": [],
   "source": [
    "# At least one technology must exist at each time t\n",
    "model.tech_existance = pe.Constraint(model.T, \n",
    "                                  rule = lambda m, t: sum(m.Y_K[k, t] for k in model.K) >= 1)\n",
    "\n",
    "# If a technology is selected at time t, it remains until the end of T\n",
    "model.tech_continuity_prep = pe.Constraint(model.K_prep, model.Q, model.T, \n",
    "                                    rule = lambda m, k, q, t: m.Y_tech[k, q, t+1] >= m.Y_tech[k, q, t] if t < max(model.T) else pe.Constraint.Skip)\n",
    "model.tech_continuity_pret = pe.Constraint(model.K_pret, model.Q, model.T, \n",
    "                                    rule = lambda m, k, q, t: m.Y_tech[k, q, t+1] >= m.Y_tech[k, q, t] if t < max(model.T) else pe.Constraint.Skip)\n",
    "model.tech_continuity_conv = pe.Constraint(model.K_conv, model.Q, model.T, \n",
    "                                    rule = lambda m, k, q, t: m.Y_tech[k, q, t+1] >= m.Y_tech[k, q, t] if t < max(model.T) else pe.Constraint.Skip)\n",
    "model.tech_continuity_pur = pe.Constraint(model.K_pur, model.Q, model.T, \n",
    "                                    rule = lambda m, k, q, t: m.Y_tech[k, q, t+1] >= m.Y_tech[k, q, t] if t < max(model.T) else pe.Constraint.Skip)\n",
    "\n",
    "\n",
    "\n",
    "# Only one capacity per technology at each time\n",
    "model.capacity_selection = pe.Constraint(model.K, model.T, \n",
    "                                      rule = lambda m, k, t: sum(m.Y_tech[k, q, t] for q in model.Q) <= 1)\n",
    "model.capacity_selection_total = pe.Constraint(model.K, model.T, \n",
    "                                      rule = lambda m, k, t: m.Y_K[k, t] == sum(m.Y_tech[k, q, t] for q in model.Q))\n",
    "\n",
    "\n",
    "# CAPEX calculation\n",
    "model.capex_calculation = pe.Constraint(model.T,\n",
    "                                      rule = lambda m, t: m.CAPEX[t] == sum(sum((m.Cost_of_Technology[k, q] * (m.Y_tech[k, q, t] - m.Y_tech[k, q, t - 1]) if t > 1 else 0) for k in model.K) for q in model.Q))\n",
    "model.capex_calculation_initial = pe.Constraint(\n",
    "    rule = lambda m: m.CAPEX[1] == sum(m.Cost_of_Technology[k, q] * m.Y_tech[k, q, 1] for k in model.K for q in model.Q))\n"
   ]
  },
  {
   "cell_type": "markdown",
   "id": "0d5e51af",
   "metadata": {},
   "source": [
    "### Operational Constraints (2nd Stage): General"
   ]
  },
  {
   "cell_type": "code",
   "execution_count": null,
   "id": "2f136cbb",
   "metadata": {},
   "outputs": [],
   "source": [
    "# Choosing a determined process for feedstock, components or products, only if it exists at time t\n",
    "\n",
    "# Choose preprocessing for feedstock f only if technology k_prep exists at time t\n",
    "model.prep_constraint = pe.Constraint(model.F, model.K_prep, model.T, \n",
    "                                  rule=lambda m, f, k_prep, t: m.Y_prep[f, k_prep, t] <= m.Y_K[k_prep, t])\n",
    "\n",
    "# Choose pretreatment for feedstock f only if technology k_pret exists at time t\n",
    "model.pret_constraint = pe.Constraint(model.F, model.K_pret, model.T, \n",
    "                                  rule=lambda m, f, k_pret, t: m.Y_pret[f, k_pret, t] <= m.Y_K[k_pret, t])\n",
    "\n",
    "# Choose conversion for component c to produce product p only if technology k_conv exists at time t\n",
    "model.conv_constraint = pe.Constraint(model.C, model.P, model.K_conv, model.J, model.T, \n",
    "                                  rule=lambda m, c, p, k_conv, j, t: m.Y_conv[c, p, k_conv, j, t] <= m.Y_K[k_conv, t])\n",
    "\n",
    "# Choose purification for product p only if technology k_pur exists at time t\n",
    "model.pur_constraint = pe.Constraint(model.P, model.K_pur, model.T, \n",
    "                                 rule=lambda m, p, k_pur, t: m.Y_pur[p, k_pur, t] <= m.Y_K[k_pur, t])\n",
    "\n",
    "\n",
    "# If a technology is selected at time t, it remains until the end of T\n",
    "model.tech_total_prep = pe.Constraint(model.K_prep, model.T, \n",
    "                                  rule=lambda m, k_prep, t: sum(m.Y_prep[f, k_prep, t] for f in m.F) == m.Y_K[k_prep, t])\n",
    "model.tech_total_pret = pe.Constraint(model.K_pret, model.T, \n",
    "                                  rule=lambda m, k_pret, t: sum(m.Y_pret[f, k_pret, t] for f in m.F) == m.Y_K[k_pret, t])\n",
    "model.tech_total_conv = pe.Constraint(model.K_conv, model.T, \n",
    "                                  rule=lambda m, k_conv, t: sum(sum(sum(m.Y_conv[c, p, k_conv, j, t] for j in m.J) for p in m.P) for c in m.C) == m.Y_K[k_conv, t])\n",
    "model.tech_total_pur = pe.Constraint(model.K_pur, model.T, \n",
    "                                 rule=lambda m, k_pur, t: sum(m.Y_pur[p, k_pur, t] for p in m.P) == m.Y_K[k_pur, t])\n"
   ]
  },
  {
   "cell_type": "code",
   "execution_count": null,
   "id": "c5a7ac0a",
   "metadata": {},
   "outputs": [],
   "source": [
    "# Calculation of utility consumption and byproducts generation\n",
    "\n",
    "# Utility consumption per processed flow in technology k at t\n",
    "model.utility_consumption_prep = pe.Constraint(model.U, model.K_pret, model.T, \n",
    "                                      rule=lambda m, u, k_pret, t: m.F_util[u, k_pret, t] == sum(m.F_in_pret[f, k_pret, t] * m.Utility_Consumption[u, k_pret] for f in model.F))\n",
    "model.utility_consumption_conv = pe.Constraint(model.U, model.K_conv, model.T, \n",
    "                                      rule=lambda m, u, k_conv, t: m.F_util[u, k_conv, t] == sum(m.F_in_conv_comp[c, k_conv, t] * m.Utility_Consumption[u, k_conv] for c in model.C))\n",
    "\n",
    "# Byproduct generation per processed flow in technology k at t\n",
    "#model.byproduct_generation = pe.Constraint(model.BP, model.K, model.T, \n",
    "#                                       rule=lambda m, bp, k, t: m.F_bypr[bp, k, t] == sum(m.F_in_fcp[fcp, k, t] * m.Byproduct_Production[bp, k] for fcp in model.FCP) if k in model.K_prep or k in model.K_conv else pe.Constraint.Skip)\n"
   ]
  },
  {
   "cell_type": "code",
   "execution_count": null,
   "id": "8729786f",
   "metadata": {},
   "outputs": [],
   "source": [
    "model.Supply.pprint()"
   ]
  },
  {
   "cell_type": "markdown",
   "id": "d9a6bce5",
   "metadata": {},
   "source": [
    "### Operational Constraints (2nd Stage): Preprocessing"
   ]
  },
  {
   "cell_type": "code",
   "execution_count": null,
   "id": "58b92015",
   "metadata": {},
   "outputs": [],
   "source": [
    "# Preprocessing Technology Disjunction\n",
    "\n",
    "def rule_preprocessing_disjunct(disjunct, f, k_prep, t, flag):\n",
    "    m = disjunct.model()\n",
    "    \n",
    "    if flag:\n",
    "        disjunct.c1 = pe.ConstraintList() \n",
    "        disjunct.c1.add(m.Y_prep[f, k_prep, t] == 1)\n",
    "        disjunct.c1.add(expr = m.F_in_prep[f, k_prep, t] <= m.Supply[f, t])\n",
    "    else:\n",
    "        disjunct.c0 = pe.ConstraintList() \n",
    "        disjunct.c0.add(expr = m.Y_prep[f, k_prep, t] == 0)\n",
    "        disjunct.c0.add(expr = m.F_in_prep[f, k_prep, t] == 0)\n",
    "\n",
    "model.preprocessing_disjunct = gdp.Disjunct(model.F, model.K_prep, model.T, [0, 1], rule = rule_preprocessing_disjunct)\n",
    "\n",
    "model.preprocessing_disjunction = gdp.Disjunction(model.F, model.K_prep, model.T, \n",
    "                                                rule = lambda m, f, k_prep, t: [\n",
    "                                                    model.preprocessing_disjunct[f, k_prep, t, i] for i in [0, 1]\n",
    "                                                ])"
   ]
  },
  {
   "cell_type": "code",
   "execution_count": null,
   "id": "51d642a3",
   "metadata": {},
   "outputs": [],
   "source": [
    "# Choose only one process per feedstock:\n",
    "model.single_prep_constraint = pe.Constraint(model.F, model.T, \n",
    "                                             rule = lambda m, f, t: sum(m.Y_prep[f, k_prep, t] for k_prep in model.K_prep) <= 1)\n",
    "\n",
    "# Mass Balance\n",
    "model.prep_mass_balance = pe.Constraint(model.F, model.K_prep, model.T, \n",
    "                                        rule=lambda m, f, k_prep, t: m.F_out_prep[f, k_prep, t] == m.F_in_prep[f, k_prep, t])\n"
   ]
  },
  {
   "cell_type": "markdown",
   "id": "cee76027",
   "metadata": {},
   "source": [
    "### Operational Constraints (2nd Stage): Pretreatment"
   ]
  },
  {
   "cell_type": "code",
   "execution_count": null,
   "id": "04279a42",
   "metadata": {},
   "outputs": [],
   "source": [
    "# Pretreatment Technology Disjunction\n",
    "\n",
    "def rule_pretreatment_disjunct(disjunct, f, k_pret, t, flag):\n",
    "    m = disjunct.model()\n",
    "    \n",
    "    if flag:\n",
    "        disjunct.c1 = pe.ConstraintList() \n",
    "        disjunct.c1.add(m.Y_pret[f, k_pret, t] == 1)\n",
    "        disjunct.c1.add(expr = m.F_in_pret[f, k_pret, t] <= sum(m.Compatibility_Pretreatment[k_prep, k_pret] * m.F_out_prep[f, k_prep, t] for k_prep in m.K_prep))\n",
    "    else:\n",
    "        disjunct.c0 = pe.ConstraintList() \n",
    "        disjunct.c0.add(expr = m.Y_pret[f, k_pret, t] == 0)\n",
    "        disjunct.c0.add(expr = m.F_in_pret[f, k_pret, t] == 0)\n",
    "\n",
    "model.pretreatment_disjunct = gdp.Disjunct(model.F, model.K_pret, model.T, [0, 1], rule = rule_pretreatment_disjunct)\n",
    "\n",
    "model.pretreatment_disjunction = gdp.Disjunction(model.F, model.K_pret, model.T, \n",
    "                                                rule = lambda m, f, k_pret, t: [\n",
    "                                                    model.pretreatment_disjunct[f, k_pret, t, i] for i in [0, 1]\n",
    "                                                ])"
   ]
  },
  {
   "cell_type": "code",
   "execution_count": null,
   "id": "4c66968f",
   "metadata": {},
   "outputs": [],
   "source": [
    "# Choose only one process per feedstock:\n",
    "model.single_pret_constraint = pe.Constraint(model.F, model.T, \n",
    "                                             rule = lambda m, f, t: sum(m.Y_pret[f, k_pret, t] for k_pret in model.K_pret) <= 1)\n",
    "\n",
    "# Transformation\n",
    "model.pret_transformation = pe.Constraint(model.F, model.K_pret, model.C, model.T,\n",
    "                                          rule = lambda m, f, k_pret, c, t: \n",
    "                                          m.F_out_pret[c, k_pret, t] == m.F_in_pret[f, k_pret, t] * m.Feedstock_Composition[c, f] * m.Yield_Pretreatment[c, k_pret])\n",
    "\n",
    "# Mass Balance\n",
    "#model.pret_mass_balance = pe.Constraint(model.F, model.K_pret, model.T, \n",
    "#                                        rule=lambda m, f, k_pret, t: \n",
    "#                                        sum(m.F_in_pret[f, k_pret, t] for f in model.F) + sum(m.F_util[u, k_pret, t] for u in model.U) == sum(m.F_out_pret[c, k_pret, t] for c in model.C) + sum(m.F_bypr[bp, k_pret, t] for bp in model.BP))\n"
   ]
  },
  {
   "cell_type": "markdown",
   "id": "caefc5e9",
   "metadata": {},
   "source": [
    "### Operational Constraints (2nd Stage): Conversion"
   ]
  },
  {
   "cell_type": "code",
   "execution_count": null,
   "id": "db74bb1f",
   "metadata": {},
   "outputs": [],
   "source": [
    "# Conversion Technology Disjunction\n",
    "\n",
    "def rule_conversion_disjunct(disjunct, c, p, k_conv, j, t, flag):\n",
    "    m = disjunct.model()\n",
    "    \n",
    "    if flag:\n",
    "        disjunct.c1 = pe.ConstraintList() \n",
    "        disjunct.c1.add(m.Y_conv[c, p, k_conv, j, t] == 1)\n",
    "        disjunct.c1.add(expr = m.F_in_conv[c, p, k_conv, j, t] <= sum(m.Compatibility_Conversion[c, k_pret, k_conv, j, p] * m.F_out_pret[c, k_pret, t]  * m.Yield_Hydrolysis[k_conv, k_pret, c, p] for k_pret in m.K_pret))\n",
    "    else:\n",
    "        disjunct.c0 = pe.ConstraintList() \n",
    "        disjunct.c0.add(expr = m.Y_conv[c, p, k_conv, j, t] == 0)\n",
    "        disjunct.c0.add(expr = m.F_in_conv[c, p, k_conv, j, t] == 0)\n",
    "\n",
    "model.conversion_disjunct = gdp.Disjunct(model.C, model.P, model.K_conv, model.J, model.T, [0, 1], rule = rule_conversion_disjunct)\n",
    "\n",
    "model.conversion_disjunction = gdp.Disjunction(model.C, model.P, model.K_conv, model.J, model.T,\n",
    "                                                rule = lambda m, c, p, k_conv, j, t: [\n",
    "                                                    m.conversion_disjunct[c, p, k_conv, j, t, i] for i in [0, 1]\n",
    "                                                ])"
   ]
  },
  {
   "cell_type": "code",
   "execution_count": null,
   "id": "133a1d92",
   "metadata": {},
   "outputs": [],
   "source": [
    "# Solid Loading\n",
    "\n",
    "# Liquid calculation for solid components and specific conversion processes\n",
    "#model.sl_bioreactor_1 = pe.Constraint(\n",
    " #   model.C_Solid, model.P, model.K_conv, model.T,\n",
    "  #  rule=lambda m, c_sol, p, k_conv, t: \n",
    "   # m.Liq_bioreactor1[c_sol, p, k_conv, t] == (1 - m.Solid_Loading[k_conv]) / m.Solid_Loading[k_conv] * sum(m.F_in_conv[c_sol, p, k_conv, j, t] for j in m.J if k_conv in ['SHF', 'SSF']))\n",
    "\n",
    "# Liquid calculation for solid and liquid components, for specific conversion processes\n",
    "#model.sl_bioreactor_2 = pe.Constraint(\n",
    " #   model.C_Solid, model.C_Liquid, model.P, model.K_conv, model.T,\n",
    "  #  rule=lambda m, c_sol, c_liq, p, k_conv, t: \n",
    "   # m.Liq_bioreactor2[c_sol, c_liq, p, k_conv, t] == (1 - m.Solid_Loading[k_conv]) / m.Solid_Loading[k_conv] * sum(m.F_in_conv[c_sol, p, k_conv, j, t] for j in m.J if k_conv in ['SHCF', 'SSCF']) - sum(m.F_in_conv[c_liq, p, k_conv, j, t] for j in m.J if k_conv in ['SHCF', 'SSCF']))"
   ]
  },
  {
   "cell_type": "code",
   "execution_count": null,
   "id": "77d51d16",
   "metadata": {},
   "outputs": [],
   "source": [
    "# Choose only one fermentation strain per feedstock:\n",
    "model.single_conv_constraint = pe.Constraint(model.C, model.P, model.K_conv, model.J, model.T, \n",
    "                                             rule = lambda m, c, p, k_conv, j, t: sum(m.Y_conv[c, p, k_conv, j, t] for j in model.J) <= 1)\n",
    "\n",
    "# Transformation\n",
    "model.conv_transformation = pe.Constraint(model.C, model.P, model.K_conv, model.J, model.T,\n",
    "                                          rule = lambda m, c, p, k_conv, j, t: \n",
    "                                          m.F_out_conv[c, p, k_conv, j, t] == m.F_in_conv[c, p, k_conv, j, t] * m.Yield_Conversion[p, c, k_conv, j])\n",
    "\n",
    "\n",
    "# Mass Balances\n",
    "\n",
    "model.conv_total_component = pe.Constraint(model.C, model.P, model.K_conv, model.J, model.T,\n",
    "                                        rule = lambda m, c, p, k_conv, j, t: \n",
    "                                        m.F_in_conv_comp[c, k_conv, t] == sum(sum(m.F_in_conv[c, p, k_conv, j, t] for j in model.J) for p in model.P))\n",
    "model.conv_total_product = pe.Constraint(model.C, model.P, model.K_conv, model.J, model.T,\n",
    "                                        rule = lambda m, c, p, k_conv, j, t: \n",
    "                                        m.F_out_conv_prod[p, k_conv, t] == sum(sum(m.F_out_conv[c, p, k_conv, j, t] for j in model.J) for c in model.C))\n",
    "\n",
    "#model.conv_mass_balance = pe.Constraint(model.K_conv, model.T, \n",
    "#                                        rule=lambda m, k_conv, t: \n",
    "#                                        sum(m.F_in_conv_comp[c, k_conv, t] for c in model.C) + sum(m.F_util[u, k_conv, t] for u in model.U) == sum(m.F_out_conv_prod[p, k_conv, t] for p in model.P) + sum(m.F_bypr[bp, k_conv, t] for bp in model.BP))\n"
   ]
  },
  {
   "cell_type": "markdown",
   "id": "70785e7f",
   "metadata": {},
   "source": [
    "### Operational Constraints (2nd Stage): Purification"
   ]
  },
  {
   "cell_type": "code",
   "execution_count": null,
   "id": "21cf30d5",
   "metadata": {
    "scrolled": false
   },
   "outputs": [],
   "source": [
    "# Purification Technology Disjunction\n",
    "\n",
    "def rule_purification_disjunct(disjunct, p, k_pur, t, flag):\n",
    "    m = disjunct.model()\n",
    "    \n",
    "    if flag:\n",
    "        disjunct.c1 = pe.ConstraintList() \n",
    "        disjunct.c1.add(m.Y_pur[p, k_pur, t] == 1)\n",
    "        disjunct.c1.add(expr = m.F_in_pur[p, k_pur, t] <= m.Compatibility_Purification[p, k_pur] * sum(m.F_out_conv_prod[p, k_conv, t] for k_conv in m.K_conv))\n",
    "    else:\n",
    "        disjunct.c0 = pe.ConstraintList() \n",
    "        disjunct.c0.add(expr = m.Y_pur[p, k_pur, t] == 0)\n",
    "        disjunct.c0.add(expr = m.F_in_pur[p, k_pur, t] == 0)\n",
    "\n",
    "model.purification_disjunct = gdp.Disjunct(model.P, model.K_pur, model.T,[0, 1], rule = rule_purification_disjunct)\n",
    "\n",
    "model.purification_disjunction = gdp.Disjunction(model.P, model.K_pur, model.T,\n",
    "                                                rule = lambda m, p, k_pur, t: [\n",
    "                                                    m.purification_disjunct[p, k_pur, t, i] for i in [0, 1]\n",
    "                                                ])"
   ]
  },
  {
   "cell_type": "code",
   "execution_count": null,
   "id": "02a0d74d",
   "metadata": {},
   "outputs": [],
   "source": [
    "# Choose only one process per product:\n",
    "model.single_pur_constraint = pe.Constraint(model.P, model.T, \n",
    "                                             rule = lambda m, p, t: sum(m.Y_pur[p, k_pur, t] for k_pur in model.K_pur) <= 1)\n",
    "\n",
    "# Transformation\n",
    "model.pur_transformation = pe.Constraint(model.P, model.K_pur, model.C, model.T,\n",
    "                                          rule = lambda m, p, k_pur, c, t: \n",
    "                                          m.F_out_pur[p, k_pur, t] == m.F_in_pur[p, k_pur, t] * m.Yield_Purification[p, k_pur])\n",
    "\n",
    "# Mass Balance\n",
    "#model.pur_mass_balance = pe.Constraint(model.P, model.K_pur, model.T, \n",
    "#                                        rule=lambda m, p, k_pur, t: \n",
    "#                                        m.F_in_pur[p, k_pur, t] == m.F_out_pur[p, k_pur, t])\n"
   ]
  },
  {
   "cell_type": "markdown",
   "id": "32e9fc96",
   "metadata": {},
   "source": [
    "### Total Biorefinery Statistics"
   ]
  },
  {
   "cell_type": "code",
   "execution_count": null,
   "id": "20805bb4",
   "metadata": {},
   "outputs": [],
   "source": [
    "\n",
    "# Total feedstock input is equal to the sum of all feedstocks entering each pretreatment technology\n",
    "model.total_feedstock = pe.Constraint(model.F, model.T, \n",
    "                                          rule=lambda m, f, t: m.F_in_feedstock[f, t] == sum(m.F_in_prep[f, k_prep, t] for k_prep in model.K_prep))\n",
    "\n",
    "# Total utility input is equal to the sum of all utilities consumed in all processes\n",
    "model.total_utility = pe.Constraint(model.U, model.T, \n",
    "                                         rule=lambda m, u, t: m.F_in_utility[u, t] == sum(m.F_util[u, k, t] for k in model.K))\n",
    "\n",
    "# Total byproduct output is the sum of all byproducts generated in all processes\n",
    "model.total_byproduct = pe.Constraint(model.BP, model.T, \n",
    "                                           rule=lambda m, bp, t: m.F_out_byproduct[bp, t] == sum(m.F_bypr[bp, k, t] for k in model.K))\n",
    "\n",
    "# Total product output is equal to the sum of all products exiting each purification technology\n",
    "model.total_product = pe.Constraint(model.P, model.T, \n",
    "                                         rule=lambda m, p, t: m.F_out_product[p, t] == sum(m.F_out_pur[p, k_pur, t] for k_pur in model.K_pur))\n",
    "\n",
    "# Feedstock input should not exceed its supply at each time period\n",
    "model.feedstock_supply_constraint = pe.Constraint(model.F, model.T, \n",
    "                                              rule=lambda m, f, t: m.F_in_feedstock[f, t] <= m.Supply[f, t])\n",
    "\n",
    "# Product output should not exceed its demand at each time period\n",
    "model.product_demand_constraint = pe.Constraint(model.P, model.T, \n",
    "                                            rule=lambda m, p, t: m.F_out_product[p, t] <= m.Demand[p, t])\n"
   ]
  },
  {
   "cell_type": "markdown",
   "id": "83ecc7cf",
   "metadata": {},
   "source": [
    "## Objective Functions"
   ]
  },
  {
   "cell_type": "code",
   "execution_count": null,
   "id": "1763ed17",
   "metadata": {},
   "outputs": [],
   "source": [
    "model.EBIT = pe.Var(model.T, domain = pe.Reals)\n",
    "model.EBIT_calc = pe.Constraint(model.T, \n",
    "                                rule=lambda m, t: \n",
    "                                m.EBIT[t] == sum(m.F_out_product[p, t] * m.Price_P[p, t] for p in model.P) \\\n",
    "                                - sum(m.F_in_feedstock[f, t] * m.Price_F[f, t] for f in model.F) \\\n",
    "                                - sum(m.F_in_utility[u, t] * m.Price_U[u, t] for u in model.U) \\\n",
    "                                - (m.Operating_Cost[t] + m.Maintenance_Cost[t])* m.CAPEX[t])"
   ]
  },
  {
   "cell_type": "code",
   "execution_count": null,
   "id": "c83f6220",
   "metadata": {},
   "outputs": [],
   "source": [
    "def NPV_rule(m):      \n",
    "    return sum( ((1-m.Tax) * m.EBIT[t] - m.CAPEX[t]) /(1 + m.R)**t for t in m.T)\n",
    "model.Objective_function = pe.Objective(rule = NPV_rule, sense = pe.maximize) "
   ]
  },
  {
   "cell_type": "markdown",
   "id": "60bc3ebc",
   "metadata": {},
   "source": [
    "# Model Solve"
   ]
  },
  {
   "cell_type": "code",
   "execution_count": null,
   "id": "1774997c",
   "metadata": {},
   "outputs": [],
   "source": [
    "#Solving the model and displaying the solution\n",
    "M_value = 10**10\n",
    "pe.TransformationFactory('gdp.bigm').apply_to(model, bigM=M_value)"
   ]
  },
  {
   "cell_type": "code",
   "execution_count": null,
   "id": "84398dce",
   "metadata": {},
   "outputs": [],
   "source": [
    "solver_parameters = \"ResultFile=iismodel.ilp\" # write an ILP file to print the IIS"
   ]
  },
  {
   "cell_type": "code",
   "execution_count": null,
   "id": "6ba92592",
   "metadata": {},
   "outputs": [],
   "source": [
    "opt = pe.SolverFactory(\"gurobi\", solver_io=\"python\") \n",
    "opt.options['NonConvex'] = 2\n",
    "opt.options['DualReductions'] = 0\n",
    "results = opt.solve(model, options_string=solver_parameters)\n",
    "results.write()"
   ]
  },
  {
   "cell_type": "code",
   "execution_count": null,
   "id": "b435aa88",
   "metadata": {},
   "outputs": [],
   "source": [
    "var_mapping = {}\n",
    "index = 1  # Start index at 1, assuming Gurobi's first variable is x1\n",
    "\n",
    "for v in model.component_objects(pe.Var, active=True):\n",
    "    for index_within_v in v:\n",
    "        var_mapping[f\"x{index}\"] = f\"{v.name}[{index_within_v}]\"\n",
    "        index += 1\n",
    "\n",
    "with open('var_mapping.json', 'w') as fp:\n",
    "    json.dump(var_mapping, fp)\n",
    "    \n",
    "constraint_mapping = {}\n",
    "index = 1  # Start index at 1, assuming Gurobi's first variable is x1\n",
    "\n",
    "for v in model.component_objects(pe.Constraint, active=True):\n",
    "    for index_within_v in v:\n",
    "        constraint_mapping[f\"x{index}\"] = f\"{v.name}[{index_within_v}]\"\n",
    "        index += 1"
   ]
  },
  {
   "cell_type": "code",
   "execution_count": null,
   "id": "1efac33e",
   "metadata": {},
   "outputs": [],
   "source": [
    "# Sort the dictionary by length of the keys in descending order\n",
    "var_mapping = dict(sorted(var_mapping.items(), key=lambda item: len(item[0]), reverse=True))\n",
    "constraint_mapping = dict(sorted(constraint_mapping.items(), key=lambda item: len(item[0]), reverse=True))\n",
    "\n",
    "# Read the file content\n",
    "with open(\"iismodel.ilp\", \"r\") as file:\n",
    "    iis_output = file.read()\n",
    "\n",
    "# Replace Gurobi names with Pyomo names in constraints\n",
    "for gurobi_name, pyomo_name in constraint_mapping.items():\n",
    "    iis_output = iis_output.replace(f\"{gurobi_name}:\", f\"{pyomo_name}:\")\n",
    "\n",
    "# Replace Gurobi names with Pyomo names\n",
    "for gurobi_name, pyomo_name in var_mapping.items():\n",
    "    iis_output = iis_output.replace(gurobi_name, pyomo_name)\n",
    "\n",
    "# Write the modified content back to the file\n",
    "with open(\"iismodel-translated.ilp\", \"w\") as file:\n",
    "    file.write(iis_output)\n",
    "\n",
    "print(\"File updated successfully!\")\n",
    "#print(iis_output)"
   ]
  },
  {
   "cell_type": "code",
   "execution_count": null,
   "id": "3a42b2a5",
   "metadata": {},
   "outputs": [],
   "source": []
  },
  {
   "cell_type": "code",
   "execution_count": null,
   "id": "078c3e4a",
   "metadata": {},
   "outputs": [],
   "source": [
    "# Read the file content\n",
    "with open(\"model.ilp\", \"r\") as file:\n",
    "    iis_output = file.read()\n",
    "\n",
    "# Replace Gurobi names with Pyomo names\n",
    "for gurobi_name, pyomo_name in var_mapping.items():\n",
    "    iis_output = iis_output.replace(gurobi_name, pyomo_name)\n",
    "\n",
    "# Write the modified content back to the file\n",
    "with open(\"model.ilp\", \"w\") as file:\n",
    "    file.write(iis_output)\n",
    "\n",
    "print(\"File updated successfully!\")"
   ]
  },
  {
   "cell_type": "code",
   "execution_count": null,
   "id": "9bb549db",
   "metadata": {},
   "outputs": [],
   "source": [
    "model.Y_tech.pprint()"
   ]
  },
  {
   "cell_type": "code",
   "execution_count": null,
   "id": "fcce1427",
   "metadata": {},
   "outputs": [],
   "source": [
    "constraint_mapping['x3224']"
   ]
  },
  {
   "cell_type": "code",
   "execution_count": null,
   "id": "32ec6524",
   "metadata": {
    "scrolled": false
   },
   "outputs": [],
   "source": [
    "def print_vars():\n",
    "    for v in model.component_objects(pe.Var, active=True):\n",
    "        try:\n",
    "            varobject = getattr(model, str(v))\n",
    "            print(\"Variable\", v)\n",
    "            for index in varobject:\n",
    "                if varobject[index].value is not None:\n",
    "                    if varobject[index].value > 0:\n",
    "                        print(\"   \", index, varobject[index].value) \n",
    "        except:\n",
    "            pass\n",
    "#print_vars()"
   ]
  },
  {
   "cell_type": "code",
   "execution_count": null,
   "id": "c05c0052",
   "metadata": {},
   "outputs": [],
   "source": [
    "pe.value(model.Objective_function)"
   ]
  },
  {
   "cell_type": "code",
   "execution_count": null,
   "id": "6b09c522",
   "metadata": {
    "scrolled": false
   },
   "outputs": [],
   "source": [
    "model.tech_total_prep"
   ]
  },
  {
   "cell_type": "code",
   "execution_count": null,
   "id": "7de2ee2f",
   "metadata": {},
   "outputs": [],
   "source": [
    "model.Compatibility_Purification.pprint()"
   ]
  },
  {
   "cell_type": "code",
   "execution_count": null,
   "id": "0320e815",
   "metadata": {},
   "outputs": [],
   "source": [
    "model.F_out_conv.pprint()"
   ]
  },
  {
   "cell_type": "code",
   "execution_count": null,
   "id": "ba862eb7",
   "metadata": {},
   "outputs": [],
   "source": [
    "F_out_conv[('Hemicellulose', 'Lactic Acid', 'SSCF', 'Strain1', 1)]"
   ]
  }
 ],
 "metadata": {
  "kernelspec": {
   "display_name": "Python 3 (ipykernel)",
   "language": "python",
   "name": "python3"
  },
  "language_info": {
   "codemirror_mode": {
    "name": "ipython",
    "version": 3
   },
   "file_extension": ".py",
   "mimetype": "text/x-python",
   "name": "python",
   "nbconvert_exporter": "python",
   "pygments_lexer": "ipython3",
   "version": "3.10.7"
  }
 },
 "nbformat": 4,
 "nbformat_minor": 5
}
